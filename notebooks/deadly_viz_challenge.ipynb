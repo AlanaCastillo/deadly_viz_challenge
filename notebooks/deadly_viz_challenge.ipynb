{
 "cells": [
  {
   "cell_type": "markdown",
   "metadata": {},
   "source": [
    "# Deadly Visualizations!!!\n",
    "\n",
    "![Image](../images/viz_types_portada.png)"
   ]
  },
  {
   "cell_type": "markdown",
   "metadata": {},
   "source": [
    "## Setup\n",
    "\n",
    "First we need to create a basic setup which includes:\n",
    "\n",
    "- Importing the libraries.\n",
    "\n",
    "- Reading the dataset file (source [Instituto Nacional de Estadística](https://www.ine.es/ss/Satellite?L=es_ES&c=Page&cid=1259942408928&p=1259942408928&pagename=ProductosYServicios%2FPYSLayout)).\n",
    "\n",
    "- Create a couple of columns and tables for the analysis.\n",
    "\n",
    "__NOTE:__ some functions were already created in order to help you go through the challenge. However, feel free to perform any code you might need."
   ]
  },
  {
   "cell_type": "code",
   "execution_count": 1,
   "metadata": {},
   "outputs": [
    {
     "data": {
      "text/html": [
       "        <script type=\"text/javascript\">\n",
       "        window.PlotlyConfig = {MathJaxConfig: 'local'};\n",
       "        if (window.MathJax && window.MathJax.Hub && window.MathJax.Hub.Config) {window.MathJax.Hub.Config({SVG: {font: \"STIX-Web\"}});}\n",
       "        if (typeof require !== 'undefined') {\n",
       "        require.undef(\"plotly\");\n",
       "        requirejs.config({\n",
       "            paths: {\n",
       "                'plotly': ['https://cdn.plot.ly/plotly-2.12.1.min']\n",
       "            }\n",
       "        });\n",
       "        require(['plotly'], function(Plotly) {\n",
       "            window._Plotly = Plotly;\n",
       "        });\n",
       "        }\n",
       "        </script>\n",
       "        "
      ]
     },
     "metadata": {},
     "output_type": "display_data"
    },
    {
     "data": {
      "text/html": [
       "        <script type=\"text/javascript\">\n",
       "        window.PlotlyConfig = {MathJaxConfig: 'local'};\n",
       "        if (window.MathJax && window.MathJax.Hub && window.MathJax.Hub.Config) {window.MathJax.Hub.Config({SVG: {font: \"STIX-Web\"}});}\n",
       "        if (typeof require !== 'undefined') {\n",
       "        require.undef(\"plotly\");\n",
       "        requirejs.config({\n",
       "            paths: {\n",
       "                'plotly': ['https://cdn.plot.ly/plotly-2.12.1.min']\n",
       "            }\n",
       "        });\n",
       "        require(['plotly'], function(Plotly) {\n",
       "            window._Plotly = Plotly;\n",
       "        });\n",
       "        }\n",
       "        </script>\n",
       "        "
      ]
     },
     "metadata": {},
     "output_type": "display_data"
    }
   ],
   "source": [
    "# imports\n",
    "\n",
    "import sys\n",
    "import re\n",
    "sys.path.insert(0, \"../modules\")\n",
    "\n",
    "import numpy as np\n",
    "import pandas as pd\n",
    "\n",
    "import plotly.express as px\n",
    "import cufflinks as cf\n",
    "cf.go_offline()\n",
    "\n",
    "import module as mod     # functions are include in module.py"
   ]
  },
  {
   "cell_type": "code",
   "execution_count": 2,
   "metadata": {},
   "outputs": [
    {
     "name": "stdout",
     "output_type": "stream",
     "text": [
      "<class 'pandas.core.frame.DataFrame'>\n",
      "RangeIndex: 301158 entries, 0 to 301157\n",
      "Data columns (total 5 columns):\n",
      " #   Column           Non-Null Count   Dtype \n",
      "---  ------           --------------   ----- \n",
      " 0   Causa de muerte  301158 non-null  object\n",
      " 1   Sexo             301158 non-null  object\n",
      " 2   Edad             301158 non-null  object\n",
      " 3   Periodo          301158 non-null  int64 \n",
      " 4   Total            301158 non-null  int64 \n",
      "dtypes: int64(2), object(3)\n",
      "memory usage: 11.5+ MB\n"
     ]
    }
   ],
   "source": [
    "# read dataset\n",
    "\n",
    "deaths = pd.read_csv('../data/7947.csv', sep=';', thousands='.')\n",
    "\n",
    "deaths.info()"
   ]
  },
  {
   "cell_type": "code",
   "execution_count": 3,
   "metadata": {},
   "outputs": [
    {
     "name": "stdout",
     "output_type": "stream",
     "text": [
      "                                         Causa de muerte     Sexo  \\\n",
      "0                       001-102  I-XXII.Todas las causas    Total   \n",
      "1                       001-102  I-XXII.Todas las causas    Total   \n",
      "2                       001-102  I-XXII.Todas las causas    Total   \n",
      "3                       001-102  I-XXII.Todas las causas    Total   \n",
      "4                       001-102  I-XXII.Todas las causas    Total   \n",
      "...                                                  ...      ...   \n",
      "301153  102  Otras causas externas y sus efectos tardíos  Mujeres   \n",
      "301154  102  Otras causas externas y sus efectos tardíos  Mujeres   \n",
      "301155  102  Otras causas externas y sus efectos tardíos  Mujeres   \n",
      "301156  102  Otras causas externas y sus efectos tardíos  Mujeres   \n",
      "301157  102  Otras causas externas y sus efectos tardíos  Mujeres   \n",
      "\n",
      "                    Edad  Periodo   Total  \n",
      "0       Todas las edades     2018  427721  \n",
      "1       Todas las edades     2017  424523  \n",
      "2       Todas las edades     2016  410611  \n",
      "3       Todas las edades     2015  422568  \n",
      "4       Todas las edades     2014  395830  \n",
      "...                  ...      ...     ...  \n",
      "301153     95 y más años     1984       0  \n",
      "301154     95 y más años     1983       0  \n",
      "301155     95 y más años     1982       0  \n",
      "301156     95 y más años     1981       0  \n",
      "301157     95 y más años     1980       0  \n",
      "\n",
      "[301158 rows x 5 columns]\n"
     ]
    }
   ],
   "source": [
    "print(deaths)\n"
   ]
  },
  {
   "cell_type": "code",
   "execution_count": 4,
   "metadata": {},
   "outputs": [
    {
     "name": "stdout",
     "output_type": "stream",
     "text": [
      "<class 'pandas.core.frame.DataFrame'>\n",
      "RangeIndex: 301158 entries, 0 to 301157\n",
      "Data columns (total 8 columns):\n",
      " #   Column           Non-Null Count   Dtype \n",
      "---  ------           --------------   ----- \n",
      " 0   Causa de muerte  301158 non-null  object\n",
      " 1   Sexo             301158 non-null  object\n",
      " 2   Edad             301158 non-null  object\n",
      " 3   Periodo          301158 non-null  int64 \n",
      " 4   Total            301158 non-null  int64 \n",
      " 5   cause_code       301158 non-null  object\n",
      " 6   cause_group      301158 non-null  object\n",
      " 7   cause_name       301158 non-null  object\n",
      "dtypes: int64(2), object(6)\n",
      "memory usage: 18.4+ MB\n"
     ]
    }
   ],
   "source": [
    "# add some columns...you'll need them later\n",
    "\n",
    "deaths['cause_code'] = deaths['Causa de muerte'].apply(mod.cause_code)\n",
    "deaths['cause_group'] = deaths['Causa de muerte'].apply(mod.cause_types)\n",
    "deaths['cause_name'] = deaths['Causa de muerte'].apply(mod.cause_name)\n",
    "\n",
    "deaths.info()"
   ]
  },
  {
   "cell_type": "code",
   "execution_count": 5,
   "metadata": {},
   "outputs": [
    {
     "data": {
      "text/html": [
       "<div>\n",
       "<style scoped>\n",
       "    .dataframe tbody tr th:only-of-type {\n",
       "        vertical-align: middle;\n",
       "    }\n",
       "\n",
       "    .dataframe tbody tr th {\n",
       "        vertical-align: top;\n",
       "    }\n",
       "\n",
       "    .dataframe thead th {\n",
       "        text-align: right;\n",
       "    }\n",
       "</style>\n",
       "<table border=\"1\" class=\"dataframe\">\n",
       "  <thead>\n",
       "    <tr style=\"text-align: right;\">\n",
       "      <th></th>\n",
       "      <th>categorical_variable</th>\n",
       "      <th>number_of_possible_values</th>\n",
       "      <th>values</th>\n",
       "    </tr>\n",
       "  </thead>\n",
       "  <tbody>\n",
       "    <tr>\n",
       "      <th>0</th>\n",
       "      <td>cause_code</td>\n",
       "      <td>117</td>\n",
       "      <td>[001-102, 001-008, 001, 002, 003, 004, 005, 00...</td>\n",
       "    </tr>\n",
       "    <tr>\n",
       "      <th>1</th>\n",
       "      <td>cause_name</td>\n",
       "      <td>117</td>\n",
       "      <td>[I-XXII.Todas las causas, I.Enfermedades infec...</td>\n",
       "    </tr>\n",
       "    <tr>\n",
       "      <th>2</th>\n",
       "      <td>Periodo</td>\n",
       "      <td>39</td>\n",
       "      <td>[2018, 2017, 2016, 2015, 2014, 2013, 2012, 201...</td>\n",
       "    </tr>\n",
       "    <tr>\n",
       "      <th>3</th>\n",
       "      <td>Edad</td>\n",
       "      <td>22</td>\n",
       "      <td>[Todas las edades, Menos de 1 año, De 1 a 4 añ...</td>\n",
       "    </tr>\n",
       "    <tr>\n",
       "      <th>4</th>\n",
       "      <td>Sexo</td>\n",
       "      <td>3</td>\n",
       "      <td>[Total, Hombres, Mujeres]</td>\n",
       "    </tr>\n",
       "    <tr>\n",
       "      <th>5</th>\n",
       "      <td>cause_group</td>\n",
       "      <td>2</td>\n",
       "      <td>[Multiple causes, Single cause]</td>\n",
       "    </tr>\n",
       "  </tbody>\n",
       "</table>\n",
       "</div>"
      ],
      "text/plain": [
       "  categorical_variable  number_of_possible_values  \\\n",
       "0           cause_code                        117   \n",
       "1           cause_name                        117   \n",
       "2              Periodo                         39   \n",
       "3                 Edad                         22   \n",
       "4                 Sexo                          3   \n",
       "5          cause_group                          2   \n",
       "\n",
       "                                              values  \n",
       "0  [001-102, 001-008, 001, 002, 003, 004, 005, 00...  \n",
       "1  [I-XXII.Todas las causas, I.Enfermedades infec...  \n",
       "2  [2018, 2017, 2016, 2015, 2014, 2013, 2012, 201...  \n",
       "3  [Todas las edades, Menos de 1 año, De 1 a 4 añ...  \n",
       "4                          [Total, Hombres, Mujeres]  \n",
       "5                    [Multiple causes, Single cause]  "
      ]
     },
     "execution_count": 5,
     "metadata": {},
     "output_type": "execute_result"
    }
   ],
   "source": [
    "# lets check the categorical variables\n",
    "\n",
    "var_list = ['Sexo', 'Edad', 'Periodo', 'cause_code', 'cause_name', 'cause_group']\n",
    "\n",
    "categories = mod.cat_var(deaths, var_list)\n",
    "categories"
   ]
  },
  {
   "cell_type": "code",
   "execution_count": 6,
   "metadata": {},
   "outputs": [
    {
     "data": {
      "text/html": [
       "<div>\n",
       "<style scoped>\n",
       "    .dataframe tbody tr th:only-of-type {\n",
       "        vertical-align: middle;\n",
       "    }\n",
       "\n",
       "    .dataframe tbody tr th {\n",
       "        vertical-align: top;\n",
       "    }\n",
       "\n",
       "    .dataframe thead th {\n",
       "        text-align: right;\n",
       "    }\n",
       "</style>\n",
       "<table border=\"1\" class=\"dataframe\">\n",
       "  <thead>\n",
       "    <tr style=\"text-align: right;\">\n",
       "      <th></th>\n",
       "      <th>cause_code</th>\n",
       "      <th>cause_name</th>\n",
       "    </tr>\n",
       "  </thead>\n",
       "  <tbody>\n",
       "    <tr>\n",
       "      <th>0</th>\n",
       "      <td>001</td>\n",
       "      <td>Enfermedades infecciosas intestinales</td>\n",
       "    </tr>\n",
       "    <tr>\n",
       "      <th>1</th>\n",
       "      <td>001-008</td>\n",
       "      <td>I.Enfermedades infecciosas y parasitarias</td>\n",
       "    </tr>\n",
       "    <tr>\n",
       "      <th>2</th>\n",
       "      <td>001-102</td>\n",
       "      <td>I-XXII.Todas las causas</td>\n",
       "    </tr>\n",
       "    <tr>\n",
       "      <th>3</th>\n",
       "      <td>002</td>\n",
       "      <td>Tuberculosis y sus efectos tardíos</td>\n",
       "    </tr>\n",
       "    <tr>\n",
       "      <th>4</th>\n",
       "      <td>003</td>\n",
       "      <td>Enfermedad meningocócica</td>\n",
       "    </tr>\n",
       "    <tr>\n",
       "      <th>...</th>\n",
       "      <td>...</td>\n",
       "      <td>...</td>\n",
       "    </tr>\n",
       "    <tr>\n",
       "      <th>112</th>\n",
       "      <td>098</td>\n",
       "      <td>Suicidio y lesiones autoinfligidas</td>\n",
       "    </tr>\n",
       "    <tr>\n",
       "      <th>113</th>\n",
       "      <td>099</td>\n",
       "      <td>Agresiones (homicidio)</td>\n",
       "    </tr>\n",
       "    <tr>\n",
       "      <th>114</th>\n",
       "      <td>100</td>\n",
       "      <td>Eventos de intención no determinada</td>\n",
       "    </tr>\n",
       "    <tr>\n",
       "      <th>115</th>\n",
       "      <td>101</td>\n",
       "      <td>Complicaciones de la atención médica y quirúrgica</td>\n",
       "    </tr>\n",
       "    <tr>\n",
       "      <th>116</th>\n",
       "      <td>102</td>\n",
       "      <td>Otras causas externas y sus efectos tardíos</td>\n",
       "    </tr>\n",
       "  </tbody>\n",
       "</table>\n",
       "<p>117 rows × 2 columns</p>\n",
       "</div>"
      ],
      "text/plain": [
       "    cause_code                                         cause_name\n",
       "0          001              Enfermedades infecciosas intestinales\n",
       "1      001-008          I.Enfermedades infecciosas y parasitarias\n",
       "2      001-102                            I-XXII.Todas las causas\n",
       "3          002                 Tuberculosis y sus efectos tardíos\n",
       "4          003                           Enfermedad meningocócica\n",
       "..         ...                                                ...\n",
       "112        098                 Suicidio y lesiones autoinfligidas\n",
       "113        099                             Agresiones (homicidio)\n",
       "114        100                Eventos de intención no determinada\n",
       "115        101  Complicaciones de la atención médica y quirúrgica\n",
       "116        102        Otras causas externas y sus efectos tardíos\n",
       "\n",
       "[117 rows x 2 columns]"
      ]
     },
     "execution_count": 6,
     "metadata": {},
     "output_type": "execute_result"
    }
   ],
   "source": [
    "# we need also to create a causes table for the analysis\n",
    "\n",
    "causes_table = deaths[['cause_code', 'cause_name']].drop_duplicates().sort_values(by='cause_code').reset_index(drop=True)\n",
    "\n",
    "causes_table"
   ]
  },
  {
   "cell_type": "code",
   "execution_count": 7,
   "metadata": {},
   "outputs": [],
   "source": [
    "# And some space for free-style Pandas!!! (e.g.: df['column_name'].unique())"
   ]
  },
  {
   "cell_type": "code",
   "execution_count": 8,
   "metadata": {},
   "outputs": [
    {
     "data": {
      "text/plain": [
       "array(['I-XXII.Todas las causas',\n",
       "       'I.Enfermedades infecciosas y parasitarias',\n",
       "       'Enfermedades infecciosas intestinales',\n",
       "       'Tuberculosis y sus efectos tardíos', 'Enfermedad meningocócica',\n",
       "       'Septicemia', 'Hepatitis vírica', 'SIDA',\n",
       "       'VIH+ (portador, evidencias de laboratorio del VIH, ...)',\n",
       "       'Resto de enfermedades infecciosas y parasitarias y sus efectos tardíos',\n",
       "       'II.Tumores',\n",
       "       'Tumor maligno del labio, de la cavidad bucal y de la faringe',\n",
       "       'Tumor maligno del esófago', 'Tumor maligno del estómago',\n",
       "       'Tumor maligno del colon',\n",
       "       'Tumor maligno del recto, de la porción rectosigmoide y del ano',\n",
       "       'Tumor maligno del hígado y vías biliares intrahepáticas',\n",
       "       'Tumor maligno del páncreas', 'Otros tumores malignos digestivos',\n",
       "       'Tumor maligno de la laringe',\n",
       "       'Tumor maligno de la tráquea, de los bronquios y del pulmón',\n",
       "       'Otros tumores malignos respiratorios e intratorácicos',\n",
       "       'Tumores malignos del hueso y de los cartílagos articulares',\n",
       "       'Melanoma maligno de la piel',\n",
       "       'Otros tumores malignos de la piel y de los tejidos blandos',\n",
       "       'Tumor maligno de la mama', 'Tumor maligno del cuello del útero',\n",
       "       'Tumor maligno de otras partes del útero',\n",
       "       'Tumor maligno del ovario',\n",
       "       'Tumores malignos de otros órganos genitales femeninos',\n",
       "       'Tumor maligno de la próstata',\n",
       "       'Tumores malignos de otros órganos genitales masculinos',\n",
       "       'Tumor maligno del riñón, excepto pelvis renal',\n",
       "       'Tumor maligno de la vejiga',\n",
       "       'Otros tumores malignos de las vías urinarias',\n",
       "       'Tumor maligno del encéfalo',\n",
       "       'Otros tumores malignos neurológicos y endocrinos',\n",
       "       'Tumor maligno de sitios mal definidos, secundarios y de sitios no especificados',\n",
       "       'Tumores malignos del tejido linfático, de los órganos hematopoyéticos y de tejidos afines, excepto leucemia',\n",
       "       'Leucemia', 'Tumores in situ', 'Tumores benignos',\n",
       "       'Síndrome mielodisplásico',\n",
       "       'Otros tumores de comportamiento incierto o desconocido',\n",
       "       'III.Enfermedades de la sangre y de los órganos hematopoyéticos, y ciertos trastornos que afectan al mecanismo de la inmunidad',\n",
       "       'Enfermedades de la sangre y de los órganos hematopoyéticos',\n",
       "       'Ciertos trastornos que afectan al mecanismo de la inmunidad',\n",
       "       'IV.Enfermedades endocrinas, nutricionales y metabólicas',\n",
       "       'Diabetes mellitus',\n",
       "       'Otras enfermedades endocrinas, nutricionales y metabólicas',\n",
       "       'V.Trastornos mentales y del comportamiento',\n",
       "       'Trastornos mentales orgánicos, senil y presenil',\n",
       "       'Trastornos mentales debidos al uso de alcohol',\n",
       "       'Trastornos mentales debidos al uso de drogas (drogodependencia, toxicomanía)',\n",
       "       'Otros trastornos mentales y del comportamiento',\n",
       "       'VI-VIII.Enfermedades del sistema nervioso y de los órganos de los sentidos',\n",
       "       'Meningitis (otras en 003)', 'Enfermedad de Alzheimer',\n",
       "       'Otras enfermedades del sistema nervioso y de los órganos de los sentidos',\n",
       "       'IX.Enfermedades del sistema circulatorio',\n",
       "       'Enfermedades cardíacas reumáticas crónicas',\n",
       "       'Enfermedades hipertensivas', 'Infarto agudo de miocardio',\n",
       "       'Otras enfermedades isquémicas del corazón',\n",
       "       'Insuficiencia cardíaca', 'Otras enfermedades del corazón',\n",
       "       'Enfermedades cerebrovasculares', 'Aterosclerosis',\n",
       "       'Otras enfermedades de los vasos sanguíneos',\n",
       "       'X.Enfermedades del sistema respiratorio',\n",
       "       'Influenza (gripe) (incluye gripe aviar y gripe A)', 'Neumonía',\n",
       "       'Enfermedades crónicas de las vías respiratorias inferiores (excepto asma)',\n",
       "       'Asma', 'Insuficiencia respiratoria',\n",
       "       'Otras enfermedades del sistema respiratorio',\n",
       "       'XI.Enfermedades del sistema digestivo',\n",
       "       'Úlcera de estómago, duodeno y yeyuno',\n",
       "       'Enteritis y colitis no infecciosas',\n",
       "       'Enfermedad vascular intestinal',\n",
       "       'Cirrosis y otras enfermedades crónicas del hígado',\n",
       "       'Otras enfermedades del sistema digestivo',\n",
       "       'XII.Enfermedades de la piel y del tejido subcutáneo',\n",
       "       'XIII.Enfermedades del sistema osteomuscular y del tejido conjuntivo',\n",
       "       'Artritis reumatoide y osteoartrosis',\n",
       "       'Osteoporosis y fractura patológica',\n",
       "       'Otras enfermedades del sistema osteomuscular y del tejido conjuntivo',\n",
       "       'XIV.Enfermedades del sistema genitourinario',\n",
       "       'Enfermedades del riñón y del uréter',\n",
       "       'Enfermedades de los órganos genitales masculinos',\n",
       "       'Enfermedades de los órganos genitales femeninos y trastornos de la mama',\n",
       "       'Otras enfermedades del sistema genitourinario',\n",
       "       'XV.Embarazo, parto y puerperio',\n",
       "       'XVI.Afecciones originadas en el periodo perinatal',\n",
       "       'XVII.Malformaciones congénitas, deformidades y anomalías cromosómicas',\n",
       "       'Malformaciones congénitas del sistema nervioso',\n",
       "       'Malformaciones congénitas del sistema circulatorio',\n",
       "       'Otras malformaciones congénitas, deformidades y anomalías cromosómicas',\n",
       "       'XVIII.Síntomas, signos y hallazgos anormales clínicos y de laboratorio, no clasificados en otra parte',\n",
       "       'Paro cardíaco, muerte sin asistencia y otra causa desconocida de mortalidad',\n",
       "       'Senilidad', 'Muerte súbita infantil',\n",
       "       'Resto de síntomas, signos y hallazgos anormales clínicos y de laboratorio, no clasificados en otra parte',\n",
       "       'XX.Causas externas de mortalidad', 'Accidentes de tráfico',\n",
       "       'Otros accidentes de transporte', 'Caídas accidentales',\n",
       "       'Ahogamiento, sumersión y sofocación accidentales',\n",
       "       'Accidentes por fuego, humo y sustancias calientes',\n",
       "       'Envenenamiento accidental por psicofármacos y drogas de abuso',\n",
       "       'Otros envenenamientos accidentales', 'Otros accidentes',\n",
       "       'Suicidio y lesiones autoinfligidas', 'Agresiones (homicidio)',\n",
       "       'Eventos de intención no determinada',\n",
       "       'Complicaciones de la atención médica y quirúrgica',\n",
       "       'Otras causas externas y sus efectos tardíos'], dtype=object)"
      ]
     },
     "execution_count": 8,
     "metadata": {},
     "output_type": "execute_result"
    }
   ],
   "source": [
    "deaths['cause_name'].unique()"
   ]
  },
  {
   "cell_type": "markdown",
   "metadata": {},
   "source": [
    "## Lets make some transformations\n",
    "\n",
    "Eventhough the dataset is pretty clean, the information is completely denormalized as you could see. For that matter a collection of methods (functions) are available in order to generate the tables you might need:\n",
    "\n",
    "- `row_filter(df, cat_var, cat_values)` => Filter rows by any value or group of values in a categorical variable.\n",
    "\n",
    "- `nrow_filter(df, cat_var, cat_values)` => The same but backwards. \n",
    "\n",
    "- `groupby_sum(df, group_vars, agg_var='Total', sort_var='Total')` => Add deaths by a certain variable.\n",
    "\n",
    "- `pivot_table(df, col, x_axis, value='Total')`=> Make some pivot tables, you might need them...\n",
    "\n",
    "__NOTE:__ be aware that the filtering methods can perform a filter at a time. Feel free to perform the filter you need in any way you want or feel confortable with."
   ]
  },
  {
   "cell_type": "code",
   "execution_count": 9,
   "metadata": {},
   "outputs": [
    {
     "data": {
      "text/html": [
       "<div>\n",
       "<style scoped>\n",
       "    .dataframe tbody tr th:only-of-type {\n",
       "        vertical-align: middle;\n",
       "    }\n",
       "\n",
       "    .dataframe tbody tr th {\n",
       "        vertical-align: top;\n",
       "    }\n",
       "\n",
       "    .dataframe thead th {\n",
       "        text-align: right;\n",
       "    }\n",
       "</style>\n",
       "<table border=\"1\" class=\"dataframe\">\n",
       "  <thead>\n",
       "    <tr style=\"text-align: right;\">\n",
       "      <th></th>\n",
       "      <th>Causa de muerte</th>\n",
       "      <th>Sexo</th>\n",
       "      <th>Edad</th>\n",
       "      <th>Periodo</th>\n",
       "      <th>Total</th>\n",
       "      <th>cause_code</th>\n",
       "      <th>cause_group</th>\n",
       "      <th>cause_name</th>\n",
       "    </tr>\n",
       "  </thead>\n",
       "  <tbody>\n",
       "    <tr>\n",
       "      <th>0</th>\n",
       "      <td>001-102  I-XXII.Todas las causas</td>\n",
       "      <td>Total</td>\n",
       "      <td>Todas las edades</td>\n",
       "      <td>2018</td>\n",
       "      <td>427721</td>\n",
       "      <td>001-102</td>\n",
       "      <td>Multiple causes</td>\n",
       "      <td>I-XXII.Todas las causas</td>\n",
       "    </tr>\n",
       "    <tr>\n",
       "      <th>1</th>\n",
       "      <td>001-102  I-XXII.Todas las causas</td>\n",
       "      <td>Total</td>\n",
       "      <td>Todas las edades</td>\n",
       "      <td>2017</td>\n",
       "      <td>424523</td>\n",
       "      <td>001-102</td>\n",
       "      <td>Multiple causes</td>\n",
       "      <td>I-XXII.Todas las causas</td>\n",
       "    </tr>\n",
       "    <tr>\n",
       "      <th>2</th>\n",
       "      <td>001-102  I-XXII.Todas las causas</td>\n",
       "      <td>Total</td>\n",
       "      <td>Todas las edades</td>\n",
       "      <td>2015</td>\n",
       "      <td>422568</td>\n",
       "      <td>001-102</td>\n",
       "      <td>Multiple causes</td>\n",
       "      <td>I-XXII.Todas las causas</td>\n",
       "    </tr>\n",
       "    <tr>\n",
       "      <th>3</th>\n",
       "      <td>001-102  I-XXII.Todas las causas</td>\n",
       "      <td>Total</td>\n",
       "      <td>Todas las edades</td>\n",
       "      <td>2016</td>\n",
       "      <td>410611</td>\n",
       "      <td>001-102</td>\n",
       "      <td>Multiple causes</td>\n",
       "      <td>I-XXII.Todas las causas</td>\n",
       "    </tr>\n",
       "    <tr>\n",
       "      <th>4</th>\n",
       "      <td>001-102  I-XXII.Todas las causas</td>\n",
       "      <td>Total</td>\n",
       "      <td>Todas las edades</td>\n",
       "      <td>2012</td>\n",
       "      <td>402950</td>\n",
       "      <td>001-102</td>\n",
       "      <td>Multiple causes</td>\n",
       "      <td>I-XXII.Todas las causas</td>\n",
       "    </tr>\n",
       "  </tbody>\n",
       "</table>\n",
       "</div>"
      ],
      "text/plain": [
       "                    Causa de muerte   Sexo              Edad  Periodo   Total  \\\n",
       "0  001-102  I-XXII.Todas las causas  Total  Todas las edades     2018  427721   \n",
       "1  001-102  I-XXII.Todas las causas  Total  Todas las edades     2017  424523   \n",
       "2  001-102  I-XXII.Todas las causas  Total  Todas las edades     2015  422568   \n",
       "3  001-102  I-XXII.Todas las causas  Total  Todas las edades     2016  410611   \n",
       "4  001-102  I-XXII.Todas las causas  Total  Todas las edades     2012  402950   \n",
       "\n",
       "  cause_code      cause_group               cause_name  \n",
       "0    001-102  Multiple causes  I-XXII.Todas las causas  \n",
       "1    001-102  Multiple causes  I-XXII.Todas las causas  \n",
       "2    001-102  Multiple causes  I-XXII.Todas las causas  \n",
       "3    001-102  Multiple causes  I-XXII.Todas las causas  \n",
       "4    001-102  Multiple causes  I-XXII.Todas las causas  "
      ]
     },
     "execution_count": 9,
     "metadata": {},
     "output_type": "execute_result"
    }
   ],
   "source": [
    "# Example 1\n",
    "\n",
    "dataset = mod.row_filter(deaths, 'Sexo', ['Total'])\n",
    "dataset = mod.row_filter(dataset, 'Edad', ['Todas las edades'])\n",
    "dataset.head()\n"
   ]
  },
  {
   "cell_type": "code",
   "execution_count": 10,
   "metadata": {},
   "outputs": [
    {
     "data": {
      "text/html": [
       "<div>\n",
       "<style scoped>\n",
       "    .dataframe tbody tr th:only-of-type {\n",
       "        vertical-align: middle;\n",
       "    }\n",
       "\n",
       "    .dataframe tbody tr th {\n",
       "        vertical-align: top;\n",
       "    }\n",
       "\n",
       "    .dataframe thead th {\n",
       "        text-align: right;\n",
       "    }\n",
       "</style>\n",
       "<table border=\"1\" class=\"dataframe\">\n",
       "  <thead>\n",
       "    <tr style=\"text-align: right;\">\n",
       "      <th></th>\n",
       "      <th>cause_code</th>\n",
       "      <th>Periodo</th>\n",
       "      <th>Total</th>\n",
       "    </tr>\n",
       "  </thead>\n",
       "  <tbody>\n",
       "    <tr>\n",
       "      <th>0</th>\n",
       "      <td>001-102</td>\n",
       "      <td>2018</td>\n",
       "      <td>1710884</td>\n",
       "    </tr>\n",
       "    <tr>\n",
       "      <th>1</th>\n",
       "      <td>001-102</td>\n",
       "      <td>2017</td>\n",
       "      <td>1698092</td>\n",
       "    </tr>\n",
       "    <tr>\n",
       "      <th>2</th>\n",
       "      <td>001-102</td>\n",
       "      <td>2015</td>\n",
       "      <td>1690272</td>\n",
       "    </tr>\n",
       "    <tr>\n",
       "      <th>3</th>\n",
       "      <td>001-102</td>\n",
       "      <td>2016</td>\n",
       "      <td>1642444</td>\n",
       "    </tr>\n",
       "    <tr>\n",
       "      <th>4</th>\n",
       "      <td>001-102</td>\n",
       "      <td>2012</td>\n",
       "      <td>1611800</td>\n",
       "    </tr>\n",
       "  </tbody>\n",
       "</table>\n",
       "</div>"
      ],
      "text/plain": [
       "  cause_code  Periodo    Total\n",
       "0    001-102     2018  1710884\n",
       "1    001-102     2017  1698092\n",
       "2    001-102     2015  1690272\n",
       "3    001-102     2016  1642444\n",
       "4    001-102     2012  1611800"
      ]
     },
     "execution_count": 10,
     "metadata": {},
     "output_type": "execute_result"
    }
   ],
   "source": [
    "# Example 2\n",
    "group = ['cause_code','Periodo']\n",
    "dataset = mod.groupby_sum(deaths, group)\n",
    "dataset.head()\n"
   ]
  },
  {
   "cell_type": "code",
   "execution_count": 11,
   "metadata": {},
   "outputs": [
    {
     "data": {
      "text/html": [
       "<div>\n",
       "<style scoped>\n",
       "    .dataframe tbody tr th:only-of-type {\n",
       "        vertical-align: middle;\n",
       "    }\n",
       "\n",
       "    .dataframe tbody tr th {\n",
       "        vertical-align: top;\n",
       "    }\n",
       "\n",
       "    .dataframe thead th {\n",
       "        text-align: right;\n",
       "    }\n",
       "</style>\n",
       "<table border=\"1\" class=\"dataframe\">\n",
       "  <thead>\n",
       "    <tr style=\"text-align: right;\">\n",
       "      <th>cause_code</th>\n",
       "      <th>Periodo</th>\n",
       "      <th>001</th>\n",
       "      <th>001-008</th>\n",
       "      <th>001-102</th>\n",
       "      <th>002</th>\n",
       "      <th>003</th>\n",
       "      <th>004</th>\n",
       "      <th>005</th>\n",
       "      <th>006</th>\n",
       "      <th>007</th>\n",
       "      <th>...</th>\n",
       "      <th>093</th>\n",
       "      <th>094</th>\n",
       "      <th>095</th>\n",
       "      <th>096</th>\n",
       "      <th>097</th>\n",
       "      <th>098</th>\n",
       "      <th>099</th>\n",
       "      <th>100</th>\n",
       "      <th>101</th>\n",
       "      <th>102</th>\n",
       "    </tr>\n",
       "  </thead>\n",
       "  <tbody>\n",
       "    <tr>\n",
       "      <th>0</th>\n",
       "      <td>1980</td>\n",
       "      <td>1620</td>\n",
       "      <td>15768</td>\n",
       "      <td>1157376</td>\n",
       "      <td>5904</td>\n",
       "      <td>2008</td>\n",
       "      <td>3448</td>\n",
       "      <td>436</td>\n",
       "      <td>0</td>\n",
       "      <td>0</td>\n",
       "      <td>...</td>\n",
       "      <td>4956</td>\n",
       "      <td>1432</td>\n",
       "      <td>184</td>\n",
       "      <td>692</td>\n",
       "      <td>16748</td>\n",
       "      <td>6608</td>\n",
       "      <td>1496</td>\n",
       "      <td>28</td>\n",
       "      <td>968</td>\n",
       "      <td>96</td>\n",
       "    </tr>\n",
       "    <tr>\n",
       "      <th>1</th>\n",
       "      <td>1981</td>\n",
       "      <td>1404</td>\n",
       "      <td>15124</td>\n",
       "      <td>1173544</td>\n",
       "      <td>6332</td>\n",
       "      <td>1656</td>\n",
       "      <td>3344</td>\n",
       "      <td>348</td>\n",
       "      <td>0</td>\n",
       "      <td>0</td>\n",
       "      <td>...</td>\n",
       "      <td>4700</td>\n",
       "      <td>1200</td>\n",
       "      <td>156</td>\n",
       "      <td>1396</td>\n",
       "      <td>17472</td>\n",
       "      <td>6872</td>\n",
       "      <td>1284</td>\n",
       "      <td>336</td>\n",
       "      <td>908</td>\n",
       "      <td>208</td>\n",
       "    </tr>\n",
       "    <tr>\n",
       "      <th>2</th>\n",
       "      <td>1982</td>\n",
       "      <td>1308</td>\n",
       "      <td>13488</td>\n",
       "      <td>1146620</td>\n",
       "      <td>5352</td>\n",
       "      <td>1240</td>\n",
       "      <td>3104</td>\n",
       "      <td>316</td>\n",
       "      <td>0</td>\n",
       "      <td>0</td>\n",
       "      <td>...</td>\n",
       "      <td>4864</td>\n",
       "      <td>956</td>\n",
       "      <td>200</td>\n",
       "      <td>1000</td>\n",
       "      <td>18616</td>\n",
       "      <td>7404</td>\n",
       "      <td>1228</td>\n",
       "      <td>440</td>\n",
       "      <td>1132</td>\n",
       "      <td>52</td>\n",
       "    </tr>\n",
       "    <tr>\n",
       "      <th>3</th>\n",
       "      <td>1983</td>\n",
       "      <td>1212</td>\n",
       "      <td>13100</td>\n",
       "      <td>1210276</td>\n",
       "      <td>5152</td>\n",
       "      <td>1072</td>\n",
       "      <td>3152</td>\n",
       "      <td>336</td>\n",
       "      <td>0</td>\n",
       "      <td>0</td>\n",
       "      <td>...</td>\n",
       "      <td>4788</td>\n",
       "      <td>1464</td>\n",
       "      <td>148</td>\n",
       "      <td>884</td>\n",
       "      <td>18392</td>\n",
       "      <td>8724</td>\n",
       "      <td>1560</td>\n",
       "      <td>1276</td>\n",
       "      <td>1500</td>\n",
       "      <td>56</td>\n",
       "    </tr>\n",
       "    <tr>\n",
       "      <th>4</th>\n",
       "      <td>1984</td>\n",
       "      <td>1228</td>\n",
       "      <td>12928</td>\n",
       "      <td>1197636</td>\n",
       "      <td>4564</td>\n",
       "      <td>964</td>\n",
       "      <td>3704</td>\n",
       "      <td>424</td>\n",
       "      <td>0</td>\n",
       "      <td>0</td>\n",
       "      <td>...</td>\n",
       "      <td>4716</td>\n",
       "      <td>1244</td>\n",
       "      <td>164</td>\n",
       "      <td>1020</td>\n",
       "      <td>14696</td>\n",
       "      <td>9972</td>\n",
       "      <td>1812</td>\n",
       "      <td>1144</td>\n",
       "      <td>1636</td>\n",
       "      <td>76</td>\n",
       "    </tr>\n",
       "  </tbody>\n",
       "</table>\n",
       "<p>5 rows × 118 columns</p>\n",
       "</div>"
      ],
      "text/plain": [
       "cause_code  Periodo   001  001-008  001-102   002   003   004  005  006  007  \\\n",
       "0              1980  1620    15768  1157376  5904  2008  3448  436    0    0   \n",
       "1              1981  1404    15124  1173544  6332  1656  3344  348    0    0   \n",
       "2              1982  1308    13488  1146620  5352  1240  3104  316    0    0   \n",
       "3              1983  1212    13100  1210276  5152  1072  3152  336    0    0   \n",
       "4              1984  1228    12928  1197636  4564   964  3704  424    0    0   \n",
       "\n",
       "cause_code  ...   093   094  095   096    097   098   099   100   101  102  \n",
       "0           ...  4956  1432  184   692  16748  6608  1496    28   968   96  \n",
       "1           ...  4700  1200  156  1396  17472  6872  1284   336   908  208  \n",
       "2           ...  4864   956  200  1000  18616  7404  1228   440  1132   52  \n",
       "3           ...  4788  1464  148   884  18392  8724  1560  1276  1500   56  \n",
       "4           ...  4716  1244  164  1020  14696  9972  1812  1144  1636   76  \n",
       "\n",
       "[5 rows x 118 columns]"
      ]
     },
     "execution_count": 11,
     "metadata": {},
     "output_type": "execute_result"
    }
   ],
   "source": [
    "# Example 3\n",
    "\n",
    "dataset = mod.pivot_table(dataset, 'cause_code', 'Periodo')\n",
    "dataset.head()\n"
   ]
  },
  {
   "cell_type": "code",
   "execution_count": 12,
   "metadata": {},
   "outputs": [],
   "source": [
    "#hacer una gráfica de los puntos que me quiero saber.\n",
    "#Causas de muerte mas frecuentes \n",
    "#las causas tienen 12 grupos\n",
    "#puedo pintar causas x periodo\n",
    "#muertes de ccidentes otros en mujeres \n",
    "\n",
    "\n",
    "#Cual es el planeamiento, cual es el visual \n",
    "\n",
    "#para entregar: algo que te sirva para sacar drivers "
   ]
  },
  {
   "cell_type": "markdown",
   "metadata": {},
   "source": [
    "## ...and finally, show me some insights with Plotly!!!"
   ]
  },
  {
   "cell_type": "code",
   "execution_count": 13,
   "metadata": {},
   "outputs": [
    {
     "data": {
      "text/html": [
       "<div>\n",
       "<style scoped>\n",
       "    .dataframe tbody tr th:only-of-type {\n",
       "        vertical-align: middle;\n",
       "    }\n",
       "\n",
       "    .dataframe tbody tr th {\n",
       "        vertical-align: top;\n",
       "    }\n",
       "\n",
       "    .dataframe thead th {\n",
       "        text-align: right;\n",
       "    }\n",
       "</style>\n",
       "<table border=\"1\" class=\"dataframe\">\n",
       "  <thead>\n",
       "    <tr style=\"text-align: right;\">\n",
       "      <th></th>\n",
       "      <th>Causa de muerte</th>\n",
       "      <th>Sexo</th>\n",
       "      <th>Edad</th>\n",
       "      <th>Periodo</th>\n",
       "      <th>Total</th>\n",
       "      <th>cause_code</th>\n",
       "      <th>cause_group</th>\n",
       "      <th>cause_name</th>\n",
       "    </tr>\n",
       "  </thead>\n",
       "  <tbody>\n",
       "    <tr>\n",
       "      <th>0</th>\n",
       "      <td>001-102  I-XXII.Todas las causas</td>\n",
       "      <td>Total</td>\n",
       "      <td>Todas las edades</td>\n",
       "      <td>2018</td>\n",
       "      <td>427721</td>\n",
       "      <td>001-102</td>\n",
       "      <td>Multiple causes</td>\n",
       "      <td>I-XXII.Todas las causas</td>\n",
       "    </tr>\n",
       "    <tr>\n",
       "      <th>1</th>\n",
       "      <td>001-102  I-XXII.Todas las causas</td>\n",
       "      <td>Total</td>\n",
       "      <td>Todas las edades</td>\n",
       "      <td>2017</td>\n",
       "      <td>424523</td>\n",
       "      <td>001-102</td>\n",
       "      <td>Multiple causes</td>\n",
       "      <td>I-XXII.Todas las causas</td>\n",
       "    </tr>\n",
       "    <tr>\n",
       "      <th>2</th>\n",
       "      <td>001-102  I-XXII.Todas las causas</td>\n",
       "      <td>Total</td>\n",
       "      <td>Todas las edades</td>\n",
       "      <td>2016</td>\n",
       "      <td>410611</td>\n",
       "      <td>001-102</td>\n",
       "      <td>Multiple causes</td>\n",
       "      <td>I-XXII.Todas las causas</td>\n",
       "    </tr>\n",
       "    <tr>\n",
       "      <th>3</th>\n",
       "      <td>001-102  I-XXII.Todas las causas</td>\n",
       "      <td>Total</td>\n",
       "      <td>Todas las edades</td>\n",
       "      <td>2015</td>\n",
       "      <td>422568</td>\n",
       "      <td>001-102</td>\n",
       "      <td>Multiple causes</td>\n",
       "      <td>I-XXII.Todas las causas</td>\n",
       "    </tr>\n",
       "    <tr>\n",
       "      <th>4</th>\n",
       "      <td>001-102  I-XXII.Todas las causas</td>\n",
       "      <td>Total</td>\n",
       "      <td>Todas las edades</td>\n",
       "      <td>2014</td>\n",
       "      <td>395830</td>\n",
       "      <td>001-102</td>\n",
       "      <td>Multiple causes</td>\n",
       "      <td>I-XXII.Todas las causas</td>\n",
       "    </tr>\n",
       "  </tbody>\n",
       "</table>\n",
       "</div>"
      ],
      "text/plain": [
       "                    Causa de muerte   Sexo              Edad  Periodo   Total  \\\n",
       "0  001-102  I-XXII.Todas las causas  Total  Todas las edades     2018  427721   \n",
       "1  001-102  I-XXII.Todas las causas  Total  Todas las edades     2017  424523   \n",
       "2  001-102  I-XXII.Todas las causas  Total  Todas las edades     2016  410611   \n",
       "3  001-102  I-XXII.Todas las causas  Total  Todas las edades     2015  422568   \n",
       "4  001-102  I-XXII.Todas las causas  Total  Todas las edades     2014  395830   \n",
       "\n",
       "  cause_code      cause_group               cause_name  \n",
       "0    001-102  Multiple causes  I-XXII.Todas las causas  \n",
       "1    001-102  Multiple causes  I-XXII.Todas las causas  \n",
       "2    001-102  Multiple causes  I-XXII.Todas las causas  \n",
       "3    001-102  Multiple causes  I-XXII.Todas las causas  \n",
       "4    001-102  Multiple causes  I-XXII.Todas las causas  "
      ]
     },
     "execution_count": 13,
     "metadata": {},
     "output_type": "execute_result"
    }
   ],
   "source": [
    "deaths.head()\n"
   ]
  },
  {
   "cell_type": "code",
   "execution_count": 14,
   "metadata": {},
   "outputs": [
    {
     "data": {
      "text/plain": [
       "0                             I-XXII.Todas las causas\n",
       "1                             I-XXII.Todas las causas\n",
       "2                             I-XXII.Todas las causas\n",
       "3                             I-XXII.Todas las causas\n",
       "4                             I-XXII.Todas las causas\n",
       "                             ...                     \n",
       "301153    Otras causas externas y sus efectos tardíos\n",
       "301154    Otras causas externas y sus efectos tardíos\n",
       "301155    Otras causas externas y sus efectos tardíos\n",
       "301156    Otras causas externas y sus efectos tardíos\n",
       "301157    Otras causas externas y sus efectos tardíos\n",
       "Name: cause_name, Length: 301158, dtype: object"
      ]
     },
     "execution_count": 14,
     "metadata": {},
     "output_type": "execute_result"
    }
   ],
   "source": [
    "dataset_column = deaths['cause_name']\n",
    "dataset_column"
   ]
  },
  {
   "cell_type": "code",
   "execution_count": 15,
   "metadata": {},
   "outputs": [
    {
     "data": {
      "text/plain": [
       "array(['Todas las edades', 'Menos de 1 año', 'De 1 a 4 años',\n",
       "       'De 5 a 9 años', 'De 10 a 14 años  ', 'De 15 a 19 años  ',\n",
       "       'De 20 a 24 años', 'De 25 a 29 años', 'De 30 a 34 años',\n",
       "       'De 35 a 39 años', 'De 40 a 44 años', 'De 45 a 49 años',\n",
       "       'De 50 a 54 años', 'De 55 a 59 años', 'De 60 a 64 años',\n",
       "       'De 65 a 69 años', 'De 70 a 74 años  ', 'De 75 a 79 años  ',\n",
       "       'De 80 a 84 años  ', 'De 85 a 89 años  ', 'De 90 a 94 años  ',\n",
       "       '95 y más años'], dtype=object)"
      ]
     },
     "execution_count": 15,
     "metadata": {},
     "output_type": "execute_result"
    }
   ],
   "source": [
    "deaths['Edad'].unique()"
   ]
  },
  {
   "cell_type": "code",
   "execution_count": 176,
   "metadata": {},
   "outputs": [
    {
     "data": {
      "text/html": [
       "<div>\n",
       "<style scoped>\n",
       "    .dataframe tbody tr th:only-of-type {\n",
       "        vertical-align: middle;\n",
       "    }\n",
       "\n",
       "    .dataframe tbody tr th {\n",
       "        vertical-align: top;\n",
       "    }\n",
       "\n",
       "    .dataframe thead th {\n",
       "        text-align: right;\n",
       "    }\n",
       "</style>\n",
       "<table border=\"1\" class=\"dataframe\">\n",
       "  <thead>\n",
       "    <tr style=\"text-align: right;\">\n",
       "      <th></th>\n",
       "      <th>Causa de muerte</th>\n",
       "      <th>Sexo</th>\n",
       "      <th>Edad</th>\n",
       "      <th>Periodo</th>\n",
       "      <th>Total</th>\n",
       "      <th>cause_code</th>\n",
       "      <th>cause_group</th>\n",
       "      <th>cause_name</th>\n",
       "    </tr>\n",
       "  </thead>\n",
       "  <tbody>\n",
       "    <tr>\n",
       "      <th>0</th>\n",
       "      <td>099  Agresiones (homicidio)</td>\n",
       "      <td>Mujeres</td>\n",
       "      <td>De 40 a 44 años</td>\n",
       "      <td>2004</td>\n",
       "      <td>17</td>\n",
       "      <td>099</td>\n",
       "      <td>Single cause</td>\n",
       "      <td>Agresiones (homicidio)</td>\n",
       "    </tr>\n",
       "    <tr>\n",
       "      <th>1</th>\n",
       "      <td>099  Agresiones (homicidio)</td>\n",
       "      <td>Mujeres</td>\n",
       "      <td>De 40 a 44 años</td>\n",
       "      <td>2006</td>\n",
       "      <td>15</td>\n",
       "      <td>099</td>\n",
       "      <td>Single cause</td>\n",
       "      <td>Agresiones (homicidio)</td>\n",
       "    </tr>\n",
       "    <tr>\n",
       "      <th>2</th>\n",
       "      <td>099  Agresiones (homicidio)</td>\n",
       "      <td>Mujeres</td>\n",
       "      <td>De 40 a 44 años</td>\n",
       "      <td>2015</td>\n",
       "      <td>15</td>\n",
       "      <td>099</td>\n",
       "      <td>Single cause</td>\n",
       "      <td>Agresiones (homicidio)</td>\n",
       "    </tr>\n",
       "    <tr>\n",
       "      <th>3</th>\n",
       "      <td>099  Agresiones (homicidio)</td>\n",
       "      <td>Mujeres</td>\n",
       "      <td>De 40 a 44 años</td>\n",
       "      <td>2018</td>\n",
       "      <td>14</td>\n",
       "      <td>099</td>\n",
       "      <td>Single cause</td>\n",
       "      <td>Agresiones (homicidio)</td>\n",
       "    </tr>\n",
       "    <tr>\n",
       "      <th>4</th>\n",
       "      <td>099  Agresiones (homicidio)</td>\n",
       "      <td>Mujeres</td>\n",
       "      <td>De 40 a 44 años</td>\n",
       "      <td>1987</td>\n",
       "      <td>13</td>\n",
       "      <td>099</td>\n",
       "      <td>Single cause</td>\n",
       "      <td>Agresiones (homicidio)</td>\n",
       "    </tr>\n",
       "    <tr>\n",
       "      <th>5</th>\n",
       "      <td>099  Agresiones (homicidio)</td>\n",
       "      <td>Mujeres</td>\n",
       "      <td>De 40 a 44 años</td>\n",
       "      <td>2008</td>\n",
       "      <td>13</td>\n",
       "      <td>099</td>\n",
       "      <td>Single cause</td>\n",
       "      <td>Agresiones (homicidio)</td>\n",
       "    </tr>\n",
       "    <tr>\n",
       "      <th>6</th>\n",
       "      <td>099  Agresiones (homicidio)</td>\n",
       "      <td>Mujeres</td>\n",
       "      <td>De 40 a 44 años</td>\n",
       "      <td>2014</td>\n",
       "      <td>13</td>\n",
       "      <td>099</td>\n",
       "      <td>Single cause</td>\n",
       "      <td>Agresiones (homicidio)</td>\n",
       "    </tr>\n",
       "    <tr>\n",
       "      <th>7</th>\n",
       "      <td>099  Agresiones (homicidio)</td>\n",
       "      <td>Mujeres</td>\n",
       "      <td>De 40 a 44 años</td>\n",
       "      <td>2000</td>\n",
       "      <td>12</td>\n",
       "      <td>099</td>\n",
       "      <td>Single cause</td>\n",
       "      <td>Agresiones (homicidio)</td>\n",
       "    </tr>\n",
       "    <tr>\n",
       "      <th>8</th>\n",
       "      <td>099  Agresiones (homicidio)</td>\n",
       "      <td>Mujeres</td>\n",
       "      <td>De 40 a 44 años</td>\n",
       "      <td>2009</td>\n",
       "      <td>11</td>\n",
       "      <td>099</td>\n",
       "      <td>Single cause</td>\n",
       "      <td>Agresiones (homicidio)</td>\n",
       "    </tr>\n",
       "    <tr>\n",
       "      <th>9</th>\n",
       "      <td>099  Agresiones (homicidio)</td>\n",
       "      <td>Mujeres</td>\n",
       "      <td>De 40 a 44 años</td>\n",
       "      <td>2007</td>\n",
       "      <td>11</td>\n",
       "      <td>099</td>\n",
       "      <td>Single cause</td>\n",
       "      <td>Agresiones (homicidio)</td>\n",
       "    </tr>\n",
       "  </tbody>\n",
       "</table>\n",
       "</div>"
      ],
      "text/plain": [
       "               Causa de muerte     Sexo             Edad  Periodo  Total  \\\n",
       "0  099  Agresiones (homicidio)  Mujeres  De 40 a 44 años     2004     17   \n",
       "1  099  Agresiones (homicidio)  Mujeres  De 40 a 44 años     2006     15   \n",
       "2  099  Agresiones (homicidio)  Mujeres  De 40 a 44 años     2015     15   \n",
       "3  099  Agresiones (homicidio)  Mujeres  De 40 a 44 años     2018     14   \n",
       "4  099  Agresiones (homicidio)  Mujeres  De 40 a 44 años     1987     13   \n",
       "5  099  Agresiones (homicidio)  Mujeres  De 40 a 44 años     2008     13   \n",
       "6  099  Agresiones (homicidio)  Mujeres  De 40 a 44 años     2014     13   \n",
       "7  099  Agresiones (homicidio)  Mujeres  De 40 a 44 años     2000     12   \n",
       "8  099  Agresiones (homicidio)  Mujeres  De 40 a 44 años     2009     11   \n",
       "9  099  Agresiones (homicidio)  Mujeres  De 40 a 44 años     2007     11   \n",
       "\n",
       "  cause_code   cause_group              cause_name  \n",
       "0        099  Single cause  Agresiones (homicidio)  \n",
       "1        099  Single cause  Agresiones (homicidio)  \n",
       "2        099  Single cause  Agresiones (homicidio)  \n",
       "3        099  Single cause  Agresiones (homicidio)  \n",
       "4        099  Single cause  Agresiones (homicidio)  \n",
       "5        099  Single cause  Agresiones (homicidio)  \n",
       "6        099  Single cause  Agresiones (homicidio)  \n",
       "7        099  Single cause  Agresiones (homicidio)  \n",
       "8        099  Single cause  Agresiones (homicidio)  \n",
       "9        099  Single cause  Agresiones (homicidio)  "
      ]
     },
     "execution_count": 176,
     "metadata": {},
     "output_type": "execute_result"
    }
   ],
   "source": [
    "prueba_alana = mod.row_filter(deaths, 'Sexo', ['Mujeres'])\n",
    "prueba_alana = mod.row_filter(prueba_alana, 'cause_name', ['Agresiones (homicidio)'])\n",
    "prueba_alana = mod.row_filter(prueba_alana, 'Edad', ['De 40 a 44 años'])\n",
    "prueba_alana.head(n=10)"
   ]
  },
  {
   "cell_type": "code",
   "execution_count": 17,
   "metadata": {},
   "outputs": [
    {
     "data": {
      "text/plain": [
       "\"\\ndataset_column.iplot(kind='hist',\\n                     title='AXIS TITLE',\\n                     yTitle='AXIS TITLE',\\n                     xTitle='VIZ TITLE')\\n\""
      ]
     },
     "execution_count": 17,
     "metadata": {},
     "output_type": "execute_result"
    }
   ],
   "source": [
    "# Cufflinks histogram\n",
    "'''\n",
    "dataset_column.iplot(kind='hist',\n",
    "                     title='AXIS TITLE',\n",
    "                     yTitle='AXIS TITLE',\n",
    "                     xTitle='VIZ TITLE')\n",
    "'''\n"
   ]
  },
  {
   "cell_type": "code",
   "execution_count": 18,
   "metadata": {},
   "outputs": [
    {
     "data": {
      "text/plain": [
       "\"\\ndataset_bar.iplot(kind='bar',\\n                  x='VARIABLE',\\n                  xTitle='AXIS TITLE',\\n                  yTitle='AXIS TITLE',\\n                  title='VIZ TITLE')\\n\""
      ]
     },
     "execution_count": 18,
     "metadata": {},
     "output_type": "execute_result"
    }
   ],
   "source": [
    "# Cufflinks bar plot\n",
    "'''\n",
    "dataset_bar.iplot(kind='bar',\n",
    "                  x='VARIABLE',\n",
    "                  xTitle='AXIS TITLE',\n",
    "                  yTitle='AXIS TITLE',\n",
    "                  title='VIZ TITLE')\n",
    "'''"
   ]
  },
  {
   "cell_type": "code",
   "execution_count": 19,
   "metadata": {},
   "outputs": [
    {
     "data": {
      "text/plain": [
       "\"\\ndataset_line.iplot(kind='line',\\n                   x='VARIABLE',\\n                   xTitle='AXIS TITLE',\\n                   yTitle='AXIS TITLE',\\n                   title='VIZ TITLE')\\n\""
      ]
     },
     "execution_count": 19,
     "metadata": {},
     "output_type": "execute_result"
    }
   ],
   "source": [
    "# Cufflinks line plot\n",
    "'''\n",
    "dataset_line.iplot(kind='line',\n",
    "                   x='VARIABLE',\n",
    "                   xTitle='AXIS TITLE',\n",
    "                   yTitle='AXIS TITLE',\n",
    "                   title='VIZ TITLE')\n",
    "'''"
   ]
  },
  {
   "cell_type": "code",
   "execution_count": 20,
   "metadata": {},
   "outputs": [
    {
     "data": {
      "text/plain": [
       "\"\\ndataset_scatter.iplot(x='VARIABLE', \\n                      y='VARIABLE', \\n                      categories='VARIABLE',\\n                      xTitle='AXIS TITLE', \\n                      yTitle='AXIS TITLE',\\n                      title='VIZ TITLE')\\n\""
      ]
     },
     "execution_count": 20,
     "metadata": {},
     "output_type": "execute_result"
    }
   ],
   "source": [
    "# Cufflinks scatter plot\n",
    "'''\n",
    "dataset_scatter.iplot(x='VARIABLE', \n",
    "                      y='VARIABLE', \n",
    "                      categories='VARIABLE',\n",
    "                      xTitle='AXIS TITLE', \n",
    "                      yTitle='AXIS TITLE',\n",
    "                      title='VIZ TITLE')\n",
    "'''"
   ]
  },
  {
   "cell_type": "code",
   "execution_count": null,
   "metadata": {},
   "outputs": [],
   "source": []
  },
  {
   "cell_type": "code",
   "execution_count": 21,
   "metadata": {},
   "outputs": [
    {
     "data": {
      "application/vnd.plotly.v1+json": {
       "config": {
        "linkText": "Export to plot.ly",
        "plotlyServerURL": "https://plot.ly",
        "showLink": true
       },
       "data": [
        {
         "marker": {
          "color": "rgba(226, 74, 51, 0.6)",
          "line": {
           "color": "rgba(226, 74, 51, 1.0)",
           "width": 1
          }
         },
         "name": "Total",
         "orientation": "v",
         "text": "",
         "type": "bar",
         "x": [
          2004,
          2006,
          2015,
          2018,
          1987,
          2008,
          2014,
          2000,
          2009,
          2007,
          2010,
          2011,
          1996,
          1993,
          2016,
          2012,
          2005,
          1997,
          2017,
          2001,
          1989,
          1998,
          1990,
          2003,
          1994,
          1991,
          2013,
          1988,
          1980,
          1985,
          1995,
          2002,
          1999,
          1992,
          1986,
          1981,
          1984,
          1982,
          1983
         ],
         "y": [
          17,
          15,
          15,
          14,
          13,
          13,
          13,
          12,
          11,
          11,
          11,
          11,
          10,
          9,
          9,
          9,
          9,
          9,
          8,
          8,
          8,
          7,
          7,
          7,
          6,
          6,
          6,
          5,
          5,
          5,
          5,
          5,
          5,
          4,
          4,
          4,
          3,
          3,
          2
         ]
        }
       ],
       "layout": {
        "legend": {
         "bgcolor": "#FFFFFF",
         "font": {
          "color": "#666666"
         }
        },
        "paper_bgcolor": "#FFFFFF",
        "plot_bgcolor": "#E5E5E5",
        "template": {
         "data": {
          "bar": [
           {
            "error_x": {
             "color": "#2a3f5f"
            },
            "error_y": {
             "color": "#2a3f5f"
            },
            "marker": {
             "line": {
              "color": "#E5ECF6",
              "width": 0.5
             },
             "pattern": {
              "fillmode": "overlay",
              "size": 10,
              "solidity": 0.2
             }
            },
            "type": "bar"
           }
          ],
          "barpolar": [
           {
            "marker": {
             "line": {
              "color": "#E5ECF6",
              "width": 0.5
             },
             "pattern": {
              "fillmode": "overlay",
              "size": 10,
              "solidity": 0.2
             }
            },
            "type": "barpolar"
           }
          ],
          "carpet": [
           {
            "aaxis": {
             "endlinecolor": "#2a3f5f",
             "gridcolor": "white",
             "linecolor": "white",
             "minorgridcolor": "white",
             "startlinecolor": "#2a3f5f"
            },
            "baxis": {
             "endlinecolor": "#2a3f5f",
             "gridcolor": "white",
             "linecolor": "white",
             "minorgridcolor": "white",
             "startlinecolor": "#2a3f5f"
            },
            "type": "carpet"
           }
          ],
          "choropleth": [
           {
            "colorbar": {
             "outlinewidth": 0,
             "ticks": ""
            },
            "type": "choropleth"
           }
          ],
          "contour": [
           {
            "colorbar": {
             "outlinewidth": 0,
             "ticks": ""
            },
            "colorscale": [
             [
              0,
              "#0d0887"
             ],
             [
              0.1111111111111111,
              "#46039f"
             ],
             [
              0.2222222222222222,
              "#7201a8"
             ],
             [
              0.3333333333333333,
              "#9c179e"
             ],
             [
              0.4444444444444444,
              "#bd3786"
             ],
             [
              0.5555555555555556,
              "#d8576b"
             ],
             [
              0.6666666666666666,
              "#ed7953"
             ],
             [
              0.7777777777777778,
              "#fb9f3a"
             ],
             [
              0.8888888888888888,
              "#fdca26"
             ],
             [
              1,
              "#f0f921"
             ]
            ],
            "type": "contour"
           }
          ],
          "contourcarpet": [
           {
            "colorbar": {
             "outlinewidth": 0,
             "ticks": ""
            },
            "type": "contourcarpet"
           }
          ],
          "heatmap": [
           {
            "colorbar": {
             "outlinewidth": 0,
             "ticks": ""
            },
            "colorscale": [
             [
              0,
              "#0d0887"
             ],
             [
              0.1111111111111111,
              "#46039f"
             ],
             [
              0.2222222222222222,
              "#7201a8"
             ],
             [
              0.3333333333333333,
              "#9c179e"
             ],
             [
              0.4444444444444444,
              "#bd3786"
             ],
             [
              0.5555555555555556,
              "#d8576b"
             ],
             [
              0.6666666666666666,
              "#ed7953"
             ],
             [
              0.7777777777777778,
              "#fb9f3a"
             ],
             [
              0.8888888888888888,
              "#fdca26"
             ],
             [
              1,
              "#f0f921"
             ]
            ],
            "type": "heatmap"
           }
          ],
          "heatmapgl": [
           {
            "colorbar": {
             "outlinewidth": 0,
             "ticks": ""
            },
            "colorscale": [
             [
              0,
              "#0d0887"
             ],
             [
              0.1111111111111111,
              "#46039f"
             ],
             [
              0.2222222222222222,
              "#7201a8"
             ],
             [
              0.3333333333333333,
              "#9c179e"
             ],
             [
              0.4444444444444444,
              "#bd3786"
             ],
             [
              0.5555555555555556,
              "#d8576b"
             ],
             [
              0.6666666666666666,
              "#ed7953"
             ],
             [
              0.7777777777777778,
              "#fb9f3a"
             ],
             [
              0.8888888888888888,
              "#fdca26"
             ],
             [
              1,
              "#f0f921"
             ]
            ],
            "type": "heatmapgl"
           }
          ],
          "histogram": [
           {
            "marker": {
             "pattern": {
              "fillmode": "overlay",
              "size": 10,
              "solidity": 0.2
             }
            },
            "type": "histogram"
           }
          ],
          "histogram2d": [
           {
            "colorbar": {
             "outlinewidth": 0,
             "ticks": ""
            },
            "colorscale": [
             [
              0,
              "#0d0887"
             ],
             [
              0.1111111111111111,
              "#46039f"
             ],
             [
              0.2222222222222222,
              "#7201a8"
             ],
             [
              0.3333333333333333,
              "#9c179e"
             ],
             [
              0.4444444444444444,
              "#bd3786"
             ],
             [
              0.5555555555555556,
              "#d8576b"
             ],
             [
              0.6666666666666666,
              "#ed7953"
             ],
             [
              0.7777777777777778,
              "#fb9f3a"
             ],
             [
              0.8888888888888888,
              "#fdca26"
             ],
             [
              1,
              "#f0f921"
             ]
            ],
            "type": "histogram2d"
           }
          ],
          "histogram2dcontour": [
           {
            "colorbar": {
             "outlinewidth": 0,
             "ticks": ""
            },
            "colorscale": [
             [
              0,
              "#0d0887"
             ],
             [
              0.1111111111111111,
              "#46039f"
             ],
             [
              0.2222222222222222,
              "#7201a8"
             ],
             [
              0.3333333333333333,
              "#9c179e"
             ],
             [
              0.4444444444444444,
              "#bd3786"
             ],
             [
              0.5555555555555556,
              "#d8576b"
             ],
             [
              0.6666666666666666,
              "#ed7953"
             ],
             [
              0.7777777777777778,
              "#fb9f3a"
             ],
             [
              0.8888888888888888,
              "#fdca26"
             ],
             [
              1,
              "#f0f921"
             ]
            ],
            "type": "histogram2dcontour"
           }
          ],
          "mesh3d": [
           {
            "colorbar": {
             "outlinewidth": 0,
             "ticks": ""
            },
            "type": "mesh3d"
           }
          ],
          "parcoords": [
           {
            "line": {
             "colorbar": {
              "outlinewidth": 0,
              "ticks": ""
             }
            },
            "type": "parcoords"
           }
          ],
          "pie": [
           {
            "automargin": true,
            "type": "pie"
           }
          ],
          "scatter": [
           {
            "fillpattern": {
             "fillmode": "overlay",
             "size": 10,
             "solidity": 0.2
            },
            "type": "scatter"
           }
          ],
          "scatter3d": [
           {
            "line": {
             "colorbar": {
              "outlinewidth": 0,
              "ticks": ""
             }
            },
            "marker": {
             "colorbar": {
              "outlinewidth": 0,
              "ticks": ""
             }
            },
            "type": "scatter3d"
           }
          ],
          "scattercarpet": [
           {
            "marker": {
             "colorbar": {
              "outlinewidth": 0,
              "ticks": ""
             }
            },
            "type": "scattercarpet"
           }
          ],
          "scattergeo": [
           {
            "marker": {
             "colorbar": {
              "outlinewidth": 0,
              "ticks": ""
             }
            },
            "type": "scattergeo"
           }
          ],
          "scattergl": [
           {
            "marker": {
             "colorbar": {
              "outlinewidth": 0,
              "ticks": ""
             }
            },
            "type": "scattergl"
           }
          ],
          "scattermapbox": [
           {
            "marker": {
             "colorbar": {
              "outlinewidth": 0,
              "ticks": ""
             }
            },
            "type": "scattermapbox"
           }
          ],
          "scatterpolar": [
           {
            "marker": {
             "colorbar": {
              "outlinewidth": 0,
              "ticks": ""
             }
            },
            "type": "scatterpolar"
           }
          ],
          "scatterpolargl": [
           {
            "marker": {
             "colorbar": {
              "outlinewidth": 0,
              "ticks": ""
             }
            },
            "type": "scatterpolargl"
           }
          ],
          "scatterternary": [
           {
            "marker": {
             "colorbar": {
              "outlinewidth": 0,
              "ticks": ""
             }
            },
            "type": "scatterternary"
           }
          ],
          "surface": [
           {
            "colorbar": {
             "outlinewidth": 0,
             "ticks": ""
            },
            "colorscale": [
             [
              0,
              "#0d0887"
             ],
             [
              0.1111111111111111,
              "#46039f"
             ],
             [
              0.2222222222222222,
              "#7201a8"
             ],
             [
              0.3333333333333333,
              "#9c179e"
             ],
             [
              0.4444444444444444,
              "#bd3786"
             ],
             [
              0.5555555555555556,
              "#d8576b"
             ],
             [
              0.6666666666666666,
              "#ed7953"
             ],
             [
              0.7777777777777778,
              "#fb9f3a"
             ],
             [
              0.8888888888888888,
              "#fdca26"
             ],
             [
              1,
              "#f0f921"
             ]
            ],
            "type": "surface"
           }
          ],
          "table": [
           {
            "cells": {
             "fill": {
              "color": "#EBF0F8"
             },
             "line": {
              "color": "white"
             }
            },
            "header": {
             "fill": {
              "color": "#C8D4E3"
             },
             "line": {
              "color": "white"
             }
            },
            "type": "table"
           }
          ]
         },
         "layout": {
          "annotationdefaults": {
           "arrowcolor": "#2a3f5f",
           "arrowhead": 0,
           "arrowwidth": 1
          },
          "autotypenumbers": "strict",
          "coloraxis": {
           "colorbar": {
            "outlinewidth": 0,
            "ticks": ""
           }
          },
          "colorscale": {
           "diverging": [
            [
             0,
             "#8e0152"
            ],
            [
             0.1,
             "#c51b7d"
            ],
            [
             0.2,
             "#de77ae"
            ],
            [
             0.3,
             "#f1b6da"
            ],
            [
             0.4,
             "#fde0ef"
            ],
            [
             0.5,
             "#f7f7f7"
            ],
            [
             0.6,
             "#e6f5d0"
            ],
            [
             0.7,
             "#b8e186"
            ],
            [
             0.8,
             "#7fbc41"
            ],
            [
             0.9,
             "#4d9221"
            ],
            [
             1,
             "#276419"
            ]
           ],
           "sequential": [
            [
             0,
             "#0d0887"
            ],
            [
             0.1111111111111111,
             "#46039f"
            ],
            [
             0.2222222222222222,
             "#7201a8"
            ],
            [
             0.3333333333333333,
             "#9c179e"
            ],
            [
             0.4444444444444444,
             "#bd3786"
            ],
            [
             0.5555555555555556,
             "#d8576b"
            ],
            [
             0.6666666666666666,
             "#ed7953"
            ],
            [
             0.7777777777777778,
             "#fb9f3a"
            ],
            [
             0.8888888888888888,
             "#fdca26"
            ],
            [
             1,
             "#f0f921"
            ]
           ],
           "sequentialminus": [
            [
             0,
             "#0d0887"
            ],
            [
             0.1111111111111111,
             "#46039f"
            ],
            [
             0.2222222222222222,
             "#7201a8"
            ],
            [
             0.3333333333333333,
             "#9c179e"
            ],
            [
             0.4444444444444444,
             "#bd3786"
            ],
            [
             0.5555555555555556,
             "#d8576b"
            ],
            [
             0.6666666666666666,
             "#ed7953"
            ],
            [
             0.7777777777777778,
             "#fb9f3a"
            ],
            [
             0.8888888888888888,
             "#fdca26"
            ],
            [
             1,
             "#f0f921"
            ]
           ]
          },
          "colorway": [
           "#636efa",
           "#EF553B",
           "#00cc96",
           "#ab63fa",
           "#FFA15A",
           "#19d3f3",
           "#FF6692",
           "#B6E880",
           "#FF97FF",
           "#FECB52"
          ],
          "font": {
           "color": "#2a3f5f"
          },
          "geo": {
           "bgcolor": "white",
           "lakecolor": "white",
           "landcolor": "#E5ECF6",
           "showlakes": true,
           "showland": true,
           "subunitcolor": "white"
          },
          "hoverlabel": {
           "align": "left"
          },
          "hovermode": "closest",
          "mapbox": {
           "style": "light"
          },
          "paper_bgcolor": "white",
          "plot_bgcolor": "#E5ECF6",
          "polar": {
           "angularaxis": {
            "gridcolor": "white",
            "linecolor": "white",
            "ticks": ""
           },
           "bgcolor": "#E5ECF6",
           "radialaxis": {
            "gridcolor": "white",
            "linecolor": "white",
            "ticks": ""
           }
          },
          "scene": {
           "xaxis": {
            "backgroundcolor": "#E5ECF6",
            "gridcolor": "white",
            "gridwidth": 2,
            "linecolor": "white",
            "showbackground": true,
            "ticks": "",
            "zerolinecolor": "white"
           },
           "yaxis": {
            "backgroundcolor": "#E5ECF6",
            "gridcolor": "white",
            "gridwidth": 2,
            "linecolor": "white",
            "showbackground": true,
            "ticks": "",
            "zerolinecolor": "white"
           },
           "zaxis": {
            "backgroundcolor": "#E5ECF6",
            "gridcolor": "white",
            "gridwidth": 2,
            "linecolor": "white",
            "showbackground": true,
            "ticks": "",
            "zerolinecolor": "white"
           }
          },
          "shapedefaults": {
           "line": {
            "color": "#2a3f5f"
           }
          },
          "ternary": {
           "aaxis": {
            "gridcolor": "white",
            "linecolor": "white",
            "ticks": ""
           },
           "baxis": {
            "gridcolor": "white",
            "linecolor": "white",
            "ticks": ""
           },
           "bgcolor": "#E5ECF6",
           "caxis": {
            "gridcolor": "white",
            "linecolor": "white",
            "ticks": ""
           }
          },
          "title": {
           "x": 0.05
          },
          "xaxis": {
           "automargin": true,
           "gridcolor": "white",
           "linecolor": "white",
           "ticks": "",
           "title": {
            "standoff": 15
           },
           "zerolinecolor": "white",
           "zerolinewidth": 2
          },
          "yaxis": {
           "automargin": true,
           "gridcolor": "white",
           "linecolor": "white",
           "ticks": "",
           "title": {
            "standoff": 15
           },
           "zerolinecolor": "white",
           "zerolinewidth": 2
          }
         }
        },
        "title": {
         "font": {
          "color": "#151516"
         },
         "text": "Homicidio de Mujeres"
        },
        "xaxis": {
         "gridcolor": "#F6F6F6",
         "showgrid": true,
         "tickfont": {
          "color": "#666666"
         },
         "title": {
          "font": {
           "color": "#666666"
          },
          "text": "Años"
         },
         "zerolinecolor": "#F6F6F6"
        },
        "yaxis": {
         "gridcolor": "#F6F6F6",
         "showgrid": true,
         "tickfont": {
          "color": "#666666"
         },
         "title": {
          "font": {
           "color": "#666666"
          },
          "text": "Homicios"
         },
         "zerolinecolor": "#F6F6F6"
        }
       }
      },
      "text/html": [
       "<div>                            <div id=\"1e2e6571-7000-459a-884a-6f9406ed05fc\" class=\"plotly-graph-div\" style=\"height:525px; width:100%;\"></div>            <script type=\"text/javascript\">                require([\"plotly\"], function(Plotly) {                    window.PLOTLYENV=window.PLOTLYENV || {};\n",
       "                    window.PLOTLYENV.BASE_URL='https://plot.ly';                                    if (document.getElementById(\"1e2e6571-7000-459a-884a-6f9406ed05fc\")) {                    Plotly.newPlot(                        \"1e2e6571-7000-459a-884a-6f9406ed05fc\",                        [{\"marker\":{\"color\":\"rgba(226, 74, 51, 0.6)\",\"line\":{\"color\":\"rgba(226, 74, 51, 1.0)\",\"width\":1}},\"name\":\"Total\",\"orientation\":\"v\",\"text\":\"\",\"x\":[2004,2006,2015,2018,1987,2008,2014,2000,2009,2007,2010,2011,1996,1993,2016,2012,2005,1997,2017,2001,1989,1998,1990,2003,1994,1991,2013,1988,1980,1985,1995,2002,1999,1992,1986,1981,1984,1982,1983],\"y\":[17,15,15,14,13,13,13,12,11,11,11,11,10,9,9,9,9,9,8,8,8,7,7,7,6,6,6,5,5,5,5,5,5,4,4,4,3,3,2],\"type\":\"bar\"}],                        {\"legend\":{\"bgcolor\":\"#FFFFFF\",\"font\":{\"color\":\"#666666\"}},\"paper_bgcolor\":\"#FFFFFF\",\"plot_bgcolor\":\"#E5E5E5\",\"template\":{\"data\":{\"barpolar\":[{\"marker\":{\"line\":{\"color\":\"#E5ECF6\",\"width\":0.5},\"pattern\":{\"fillmode\":\"overlay\",\"size\":10,\"solidity\":0.2}},\"type\":\"barpolar\"}],\"bar\":[{\"error_x\":{\"color\":\"#2a3f5f\"},\"error_y\":{\"color\":\"#2a3f5f\"},\"marker\":{\"line\":{\"color\":\"#E5ECF6\",\"width\":0.5},\"pattern\":{\"fillmode\":\"overlay\",\"size\":10,\"solidity\":0.2}},\"type\":\"bar\"}],\"carpet\":[{\"aaxis\":{\"endlinecolor\":\"#2a3f5f\",\"gridcolor\":\"white\",\"linecolor\":\"white\",\"minorgridcolor\":\"white\",\"startlinecolor\":\"#2a3f5f\"},\"baxis\":{\"endlinecolor\":\"#2a3f5f\",\"gridcolor\":\"white\",\"linecolor\":\"white\",\"minorgridcolor\":\"white\",\"startlinecolor\":\"#2a3f5f\"},\"type\":\"carpet\"}],\"choropleth\":[{\"colorbar\":{\"outlinewidth\":0,\"ticks\":\"\"},\"type\":\"choropleth\"}],\"contourcarpet\":[{\"colorbar\":{\"outlinewidth\":0,\"ticks\":\"\"},\"type\":\"contourcarpet\"}],\"contour\":[{\"colorbar\":{\"outlinewidth\":0,\"ticks\":\"\"},\"colorscale\":[[0.0,\"#0d0887\"],[0.1111111111111111,\"#46039f\"],[0.2222222222222222,\"#7201a8\"],[0.3333333333333333,\"#9c179e\"],[0.4444444444444444,\"#bd3786\"],[0.5555555555555556,\"#d8576b\"],[0.6666666666666666,\"#ed7953\"],[0.7777777777777778,\"#fb9f3a\"],[0.8888888888888888,\"#fdca26\"],[1.0,\"#f0f921\"]],\"type\":\"contour\"}],\"heatmapgl\":[{\"colorbar\":{\"outlinewidth\":0,\"ticks\":\"\"},\"colorscale\":[[0.0,\"#0d0887\"],[0.1111111111111111,\"#46039f\"],[0.2222222222222222,\"#7201a8\"],[0.3333333333333333,\"#9c179e\"],[0.4444444444444444,\"#bd3786\"],[0.5555555555555556,\"#d8576b\"],[0.6666666666666666,\"#ed7953\"],[0.7777777777777778,\"#fb9f3a\"],[0.8888888888888888,\"#fdca26\"],[1.0,\"#f0f921\"]],\"type\":\"heatmapgl\"}],\"heatmap\":[{\"colorbar\":{\"outlinewidth\":0,\"ticks\":\"\"},\"colorscale\":[[0.0,\"#0d0887\"],[0.1111111111111111,\"#46039f\"],[0.2222222222222222,\"#7201a8\"],[0.3333333333333333,\"#9c179e\"],[0.4444444444444444,\"#bd3786\"],[0.5555555555555556,\"#d8576b\"],[0.6666666666666666,\"#ed7953\"],[0.7777777777777778,\"#fb9f3a\"],[0.8888888888888888,\"#fdca26\"],[1.0,\"#f0f921\"]],\"type\":\"heatmap\"}],\"histogram2dcontour\":[{\"colorbar\":{\"outlinewidth\":0,\"ticks\":\"\"},\"colorscale\":[[0.0,\"#0d0887\"],[0.1111111111111111,\"#46039f\"],[0.2222222222222222,\"#7201a8\"],[0.3333333333333333,\"#9c179e\"],[0.4444444444444444,\"#bd3786\"],[0.5555555555555556,\"#d8576b\"],[0.6666666666666666,\"#ed7953\"],[0.7777777777777778,\"#fb9f3a\"],[0.8888888888888888,\"#fdca26\"],[1.0,\"#f0f921\"]],\"type\":\"histogram2dcontour\"}],\"histogram2d\":[{\"colorbar\":{\"outlinewidth\":0,\"ticks\":\"\"},\"colorscale\":[[0.0,\"#0d0887\"],[0.1111111111111111,\"#46039f\"],[0.2222222222222222,\"#7201a8\"],[0.3333333333333333,\"#9c179e\"],[0.4444444444444444,\"#bd3786\"],[0.5555555555555556,\"#d8576b\"],[0.6666666666666666,\"#ed7953\"],[0.7777777777777778,\"#fb9f3a\"],[0.8888888888888888,\"#fdca26\"],[1.0,\"#f0f921\"]],\"type\":\"histogram2d\"}],\"histogram\":[{\"marker\":{\"pattern\":{\"fillmode\":\"overlay\",\"size\":10,\"solidity\":0.2}},\"type\":\"histogram\"}],\"mesh3d\":[{\"colorbar\":{\"outlinewidth\":0,\"ticks\":\"\"},\"type\":\"mesh3d\"}],\"parcoords\":[{\"line\":{\"colorbar\":{\"outlinewidth\":0,\"ticks\":\"\"}},\"type\":\"parcoords\"}],\"pie\":[{\"automargin\":true,\"type\":\"pie\"}],\"scatter3d\":[{\"line\":{\"colorbar\":{\"outlinewidth\":0,\"ticks\":\"\"}},\"marker\":{\"colorbar\":{\"outlinewidth\":0,\"ticks\":\"\"}},\"type\":\"scatter3d\"}],\"scattercarpet\":[{\"marker\":{\"colorbar\":{\"outlinewidth\":0,\"ticks\":\"\"}},\"type\":\"scattercarpet\"}],\"scattergeo\":[{\"marker\":{\"colorbar\":{\"outlinewidth\":0,\"ticks\":\"\"}},\"type\":\"scattergeo\"}],\"scattergl\":[{\"marker\":{\"colorbar\":{\"outlinewidth\":0,\"ticks\":\"\"}},\"type\":\"scattergl\"}],\"scattermapbox\":[{\"marker\":{\"colorbar\":{\"outlinewidth\":0,\"ticks\":\"\"}},\"type\":\"scattermapbox\"}],\"scatterpolargl\":[{\"marker\":{\"colorbar\":{\"outlinewidth\":0,\"ticks\":\"\"}},\"type\":\"scatterpolargl\"}],\"scatterpolar\":[{\"marker\":{\"colorbar\":{\"outlinewidth\":0,\"ticks\":\"\"}},\"type\":\"scatterpolar\"}],\"scatter\":[{\"fillpattern\":{\"fillmode\":\"overlay\",\"size\":10,\"solidity\":0.2},\"type\":\"scatter\"}],\"scatterternary\":[{\"marker\":{\"colorbar\":{\"outlinewidth\":0,\"ticks\":\"\"}},\"type\":\"scatterternary\"}],\"surface\":[{\"colorbar\":{\"outlinewidth\":0,\"ticks\":\"\"},\"colorscale\":[[0.0,\"#0d0887\"],[0.1111111111111111,\"#46039f\"],[0.2222222222222222,\"#7201a8\"],[0.3333333333333333,\"#9c179e\"],[0.4444444444444444,\"#bd3786\"],[0.5555555555555556,\"#d8576b\"],[0.6666666666666666,\"#ed7953\"],[0.7777777777777778,\"#fb9f3a\"],[0.8888888888888888,\"#fdca26\"],[1.0,\"#f0f921\"]],\"type\":\"surface\"}],\"table\":[{\"cells\":{\"fill\":{\"color\":\"#EBF0F8\"},\"line\":{\"color\":\"white\"}},\"header\":{\"fill\":{\"color\":\"#C8D4E3\"},\"line\":{\"color\":\"white\"}},\"type\":\"table\"}]},\"layout\":{\"annotationdefaults\":{\"arrowcolor\":\"#2a3f5f\",\"arrowhead\":0,\"arrowwidth\":1},\"autotypenumbers\":\"strict\",\"coloraxis\":{\"colorbar\":{\"outlinewidth\":0,\"ticks\":\"\"}},\"colorscale\":{\"diverging\":[[0,\"#8e0152\"],[0.1,\"#c51b7d\"],[0.2,\"#de77ae\"],[0.3,\"#f1b6da\"],[0.4,\"#fde0ef\"],[0.5,\"#f7f7f7\"],[0.6,\"#e6f5d0\"],[0.7,\"#b8e186\"],[0.8,\"#7fbc41\"],[0.9,\"#4d9221\"],[1,\"#276419\"]],\"sequential\":[[0.0,\"#0d0887\"],[0.1111111111111111,\"#46039f\"],[0.2222222222222222,\"#7201a8\"],[0.3333333333333333,\"#9c179e\"],[0.4444444444444444,\"#bd3786\"],[0.5555555555555556,\"#d8576b\"],[0.6666666666666666,\"#ed7953\"],[0.7777777777777778,\"#fb9f3a\"],[0.8888888888888888,\"#fdca26\"],[1.0,\"#f0f921\"]],\"sequentialminus\":[[0.0,\"#0d0887\"],[0.1111111111111111,\"#46039f\"],[0.2222222222222222,\"#7201a8\"],[0.3333333333333333,\"#9c179e\"],[0.4444444444444444,\"#bd3786\"],[0.5555555555555556,\"#d8576b\"],[0.6666666666666666,\"#ed7953\"],[0.7777777777777778,\"#fb9f3a\"],[0.8888888888888888,\"#fdca26\"],[1.0,\"#f0f921\"]]},\"colorway\":[\"#636efa\",\"#EF553B\",\"#00cc96\",\"#ab63fa\",\"#FFA15A\",\"#19d3f3\",\"#FF6692\",\"#B6E880\",\"#FF97FF\",\"#FECB52\"],\"font\":{\"color\":\"#2a3f5f\"},\"geo\":{\"bgcolor\":\"white\",\"lakecolor\":\"white\",\"landcolor\":\"#E5ECF6\",\"showlakes\":true,\"showland\":true,\"subunitcolor\":\"white\"},\"hoverlabel\":{\"align\":\"left\"},\"hovermode\":\"closest\",\"mapbox\":{\"style\":\"light\"},\"paper_bgcolor\":\"white\",\"plot_bgcolor\":\"#E5ECF6\",\"polar\":{\"angularaxis\":{\"gridcolor\":\"white\",\"linecolor\":\"white\",\"ticks\":\"\"},\"bgcolor\":\"#E5ECF6\",\"radialaxis\":{\"gridcolor\":\"white\",\"linecolor\":\"white\",\"ticks\":\"\"}},\"scene\":{\"xaxis\":{\"backgroundcolor\":\"#E5ECF6\",\"gridcolor\":\"white\",\"gridwidth\":2,\"linecolor\":\"white\",\"showbackground\":true,\"ticks\":\"\",\"zerolinecolor\":\"white\"},\"yaxis\":{\"backgroundcolor\":\"#E5ECF6\",\"gridcolor\":\"white\",\"gridwidth\":2,\"linecolor\":\"white\",\"showbackground\":true,\"ticks\":\"\",\"zerolinecolor\":\"white\"},\"zaxis\":{\"backgroundcolor\":\"#E5ECF6\",\"gridcolor\":\"white\",\"gridwidth\":2,\"linecolor\":\"white\",\"showbackground\":true,\"ticks\":\"\",\"zerolinecolor\":\"white\"}},\"shapedefaults\":{\"line\":{\"color\":\"#2a3f5f\"}},\"ternary\":{\"aaxis\":{\"gridcolor\":\"white\",\"linecolor\":\"white\",\"ticks\":\"\"},\"baxis\":{\"gridcolor\":\"white\",\"linecolor\":\"white\",\"ticks\":\"\"},\"bgcolor\":\"#E5ECF6\",\"caxis\":{\"gridcolor\":\"white\",\"linecolor\":\"white\",\"ticks\":\"\"}},\"title\":{\"x\":0.05},\"xaxis\":{\"automargin\":true,\"gridcolor\":\"white\",\"linecolor\":\"white\",\"ticks\":\"\",\"title\":{\"standoff\":15},\"zerolinecolor\":\"white\",\"zerolinewidth\":2},\"yaxis\":{\"automargin\":true,\"gridcolor\":\"white\",\"linecolor\":\"white\",\"ticks\":\"\",\"title\":{\"standoff\":15},\"zerolinecolor\":\"white\",\"zerolinewidth\":2}}},\"title\":{\"font\":{\"color\":\"#151516\"},\"text\":\"Homicidio de Mujeres\"},\"xaxis\":{\"gridcolor\":\"#F6F6F6\",\"showgrid\":true,\"tickfont\":{\"color\":\"#666666\"},\"title\":{\"font\":{\"color\":\"#666666\"},\"text\":\"A\\u00f1os\"},\"zerolinecolor\":\"#F6F6F6\"},\"yaxis\":{\"gridcolor\":\"#F6F6F6\",\"showgrid\":true,\"tickfont\":{\"color\":\"#666666\"},\"title\":{\"font\":{\"color\":\"#666666\"},\"text\":\"Homicios\"},\"zerolinecolor\":\"#F6F6F6\"}},                        {\"showLink\": true, \"linkText\": \"Export to plot.ly\", \"plotlyServerURL\": \"https://plot.ly\", \"responsive\": true}                    ).then(function(){\n",
       "                            \n",
       "var gd = document.getElementById('1e2e6571-7000-459a-884a-6f9406ed05fc');\n",
       "var x = new MutationObserver(function (mutations, observer) {{\n",
       "        var display = window.getComputedStyle(gd).display;\n",
       "        if (!display || display === 'none') {{\n",
       "            console.log([gd, 'removed!']);\n",
       "            Plotly.purge(gd);\n",
       "            observer.disconnect();\n",
       "        }}\n",
       "}});\n",
       "\n",
       "// Listen for the removal of the full notebook cells\n",
       "var notebookContainer = gd.closest('#notebook-container');\n",
       "if (notebookContainer) {{\n",
       "    x.observe(notebookContainer, {childList: true});\n",
       "}}\n",
       "\n",
       "// Listen for the clearing of the current output cell\n",
       "var outputEl = gd.closest('.output');\n",
       "if (outputEl) {{\n",
       "    x.observe(outputEl, {childList: true});\n",
       "}}\n",
       "\n",
       "                        })                };                });            </script>        </div>"
      ]
     },
     "metadata": {},
     "output_type": "display_data"
    }
   ],
   "source": [
    "prueba_alana.iplot(kind='bar',\n",
    "                  x='Periodo',\n",
    "                  y='Total',\n",
    "                  xTitle='Años',\n",
    "                  yTitle='Homicios',\n",
    "                  title='Homicidio de Mujeres')\n"
   ]
  },
  {
   "cell_type": "code",
   "execution_count": 22,
   "metadata": {},
   "outputs": [],
   "source": [
    "#hacer uno con los totales de la cause\n",
    "#hacer uno de las causas con mujeres \n",
    "#ver video de iplot  and cufflinks"
   ]
  },
  {
   "cell_type": "code",
   "execution_count": 23,
   "metadata": {},
   "outputs": [
    {
     "data": {
      "text/html": [
       "        <script type=\"text/javascript\">\n",
       "        window.PlotlyConfig = {MathJaxConfig: 'local'};\n",
       "        if (window.MathJax && window.MathJax.Hub && window.MathJax.Hub.Config) {window.MathJax.Hub.Config({SVG: {font: \"STIX-Web\"}});}\n",
       "        if (typeof require !== 'undefined') {\n",
       "        require.undef(\"plotly\");\n",
       "        requirejs.config({\n",
       "            paths: {\n",
       "                'plotly': ['https://cdn.plot.ly/plotly-2.12.1.min']\n",
       "            }\n",
       "        });\n",
       "        require(['plotly'], function(Plotly) {\n",
       "            window._Plotly = Plotly;\n",
       "        });\n",
       "        }\n",
       "        </script>\n",
       "        "
      ]
     },
     "metadata": {},
     "output_type": "display_data"
    }
   ],
   "source": [
    "import cufflinks as cf\n",
    "cf.set_config_file(sharing='public',theme='ggplot', offline=True)"
   ]
  },
  {
   "cell_type": "code",
   "execution_count": 24,
   "metadata": {},
   "outputs": [
    {
     "data": {
      "application/vnd.plotly.v1+json": {
       "config": {
        "linkText": "Export to plot.ly",
        "plotlyServerURL": "https://plot.ly",
        "showLink": true
       },
       "data": [
        {
         "marker": {
          "color": "rgba(238, 130, 238, 0.6)",
          "line": {
           "color": "rgba(238, 130, 238, 1.0)",
           "width": 1
          }
         },
         "name": "Total",
         "orientation": "v",
         "text": "",
         "type": "bar",
         "x": [
          2004,
          2006,
          2015,
          2018,
          1987,
          2008,
          2014,
          2000,
          2009,
          2007,
          2010,
          2011,
          1996,
          1993,
          2016,
          2012,
          2005,
          1997,
          2017,
          2001,
          1989,
          1998,
          1990,
          2003,
          1994,
          1991,
          2013,
          1988,
          1980,
          1985,
          1995,
          2002,
          1999,
          1992,
          1986,
          1981,
          1984,
          1982,
          1983
         ],
         "y": [
          17,
          15,
          15,
          14,
          13,
          13,
          13,
          12,
          11,
          11,
          11,
          11,
          10,
          9,
          9,
          9,
          9,
          9,
          8,
          8,
          8,
          7,
          7,
          7,
          6,
          6,
          6,
          5,
          5,
          5,
          5,
          5,
          5,
          4,
          4,
          4,
          3,
          3,
          2
         ]
        }
       ],
       "layout": {
        "legend": {
         "bgcolor": "#FFFFFF",
         "font": {
          "color": "#666666"
         }
        },
        "paper_bgcolor": "#FFFFFF",
        "plot_bgcolor": "#E5E5E5",
        "template": {
         "data": {
          "bar": [
           {
            "error_x": {
             "color": "#2a3f5f"
            },
            "error_y": {
             "color": "#2a3f5f"
            },
            "marker": {
             "line": {
              "color": "#E5ECF6",
              "width": 0.5
             },
             "pattern": {
              "fillmode": "overlay",
              "size": 10,
              "solidity": 0.2
             }
            },
            "type": "bar"
           }
          ],
          "barpolar": [
           {
            "marker": {
             "line": {
              "color": "#E5ECF6",
              "width": 0.5
             },
             "pattern": {
              "fillmode": "overlay",
              "size": 10,
              "solidity": 0.2
             }
            },
            "type": "barpolar"
           }
          ],
          "carpet": [
           {
            "aaxis": {
             "endlinecolor": "#2a3f5f",
             "gridcolor": "white",
             "linecolor": "white",
             "minorgridcolor": "white",
             "startlinecolor": "#2a3f5f"
            },
            "baxis": {
             "endlinecolor": "#2a3f5f",
             "gridcolor": "white",
             "linecolor": "white",
             "minorgridcolor": "white",
             "startlinecolor": "#2a3f5f"
            },
            "type": "carpet"
           }
          ],
          "choropleth": [
           {
            "colorbar": {
             "outlinewidth": 0,
             "ticks": ""
            },
            "type": "choropleth"
           }
          ],
          "contour": [
           {
            "colorbar": {
             "outlinewidth": 0,
             "ticks": ""
            },
            "colorscale": [
             [
              0,
              "#0d0887"
             ],
             [
              0.1111111111111111,
              "#46039f"
             ],
             [
              0.2222222222222222,
              "#7201a8"
             ],
             [
              0.3333333333333333,
              "#9c179e"
             ],
             [
              0.4444444444444444,
              "#bd3786"
             ],
             [
              0.5555555555555556,
              "#d8576b"
             ],
             [
              0.6666666666666666,
              "#ed7953"
             ],
             [
              0.7777777777777778,
              "#fb9f3a"
             ],
             [
              0.8888888888888888,
              "#fdca26"
             ],
             [
              1,
              "#f0f921"
             ]
            ],
            "type": "contour"
           }
          ],
          "contourcarpet": [
           {
            "colorbar": {
             "outlinewidth": 0,
             "ticks": ""
            },
            "type": "contourcarpet"
           }
          ],
          "heatmap": [
           {
            "colorbar": {
             "outlinewidth": 0,
             "ticks": ""
            },
            "colorscale": [
             [
              0,
              "#0d0887"
             ],
             [
              0.1111111111111111,
              "#46039f"
             ],
             [
              0.2222222222222222,
              "#7201a8"
             ],
             [
              0.3333333333333333,
              "#9c179e"
             ],
             [
              0.4444444444444444,
              "#bd3786"
             ],
             [
              0.5555555555555556,
              "#d8576b"
             ],
             [
              0.6666666666666666,
              "#ed7953"
             ],
             [
              0.7777777777777778,
              "#fb9f3a"
             ],
             [
              0.8888888888888888,
              "#fdca26"
             ],
             [
              1,
              "#f0f921"
             ]
            ],
            "type": "heatmap"
           }
          ],
          "heatmapgl": [
           {
            "colorbar": {
             "outlinewidth": 0,
             "ticks": ""
            },
            "colorscale": [
             [
              0,
              "#0d0887"
             ],
             [
              0.1111111111111111,
              "#46039f"
             ],
             [
              0.2222222222222222,
              "#7201a8"
             ],
             [
              0.3333333333333333,
              "#9c179e"
             ],
             [
              0.4444444444444444,
              "#bd3786"
             ],
             [
              0.5555555555555556,
              "#d8576b"
             ],
             [
              0.6666666666666666,
              "#ed7953"
             ],
             [
              0.7777777777777778,
              "#fb9f3a"
             ],
             [
              0.8888888888888888,
              "#fdca26"
             ],
             [
              1,
              "#f0f921"
             ]
            ],
            "type": "heatmapgl"
           }
          ],
          "histogram": [
           {
            "marker": {
             "pattern": {
              "fillmode": "overlay",
              "size": 10,
              "solidity": 0.2
             }
            },
            "type": "histogram"
           }
          ],
          "histogram2d": [
           {
            "colorbar": {
             "outlinewidth": 0,
             "ticks": ""
            },
            "colorscale": [
             [
              0,
              "#0d0887"
             ],
             [
              0.1111111111111111,
              "#46039f"
             ],
             [
              0.2222222222222222,
              "#7201a8"
             ],
             [
              0.3333333333333333,
              "#9c179e"
             ],
             [
              0.4444444444444444,
              "#bd3786"
             ],
             [
              0.5555555555555556,
              "#d8576b"
             ],
             [
              0.6666666666666666,
              "#ed7953"
             ],
             [
              0.7777777777777778,
              "#fb9f3a"
             ],
             [
              0.8888888888888888,
              "#fdca26"
             ],
             [
              1,
              "#f0f921"
             ]
            ],
            "type": "histogram2d"
           }
          ],
          "histogram2dcontour": [
           {
            "colorbar": {
             "outlinewidth": 0,
             "ticks": ""
            },
            "colorscale": [
             [
              0,
              "#0d0887"
             ],
             [
              0.1111111111111111,
              "#46039f"
             ],
             [
              0.2222222222222222,
              "#7201a8"
             ],
             [
              0.3333333333333333,
              "#9c179e"
             ],
             [
              0.4444444444444444,
              "#bd3786"
             ],
             [
              0.5555555555555556,
              "#d8576b"
             ],
             [
              0.6666666666666666,
              "#ed7953"
             ],
             [
              0.7777777777777778,
              "#fb9f3a"
             ],
             [
              0.8888888888888888,
              "#fdca26"
             ],
             [
              1,
              "#f0f921"
             ]
            ],
            "type": "histogram2dcontour"
           }
          ],
          "mesh3d": [
           {
            "colorbar": {
             "outlinewidth": 0,
             "ticks": ""
            },
            "type": "mesh3d"
           }
          ],
          "parcoords": [
           {
            "line": {
             "colorbar": {
              "outlinewidth": 0,
              "ticks": ""
             }
            },
            "type": "parcoords"
           }
          ],
          "pie": [
           {
            "automargin": true,
            "type": "pie"
           }
          ],
          "scatter": [
           {
            "fillpattern": {
             "fillmode": "overlay",
             "size": 10,
             "solidity": 0.2
            },
            "type": "scatter"
           }
          ],
          "scatter3d": [
           {
            "line": {
             "colorbar": {
              "outlinewidth": 0,
              "ticks": ""
             }
            },
            "marker": {
             "colorbar": {
              "outlinewidth": 0,
              "ticks": ""
             }
            },
            "type": "scatter3d"
           }
          ],
          "scattercarpet": [
           {
            "marker": {
             "colorbar": {
              "outlinewidth": 0,
              "ticks": ""
             }
            },
            "type": "scattercarpet"
           }
          ],
          "scattergeo": [
           {
            "marker": {
             "colorbar": {
              "outlinewidth": 0,
              "ticks": ""
             }
            },
            "type": "scattergeo"
           }
          ],
          "scattergl": [
           {
            "marker": {
             "colorbar": {
              "outlinewidth": 0,
              "ticks": ""
             }
            },
            "type": "scattergl"
           }
          ],
          "scattermapbox": [
           {
            "marker": {
             "colorbar": {
              "outlinewidth": 0,
              "ticks": ""
             }
            },
            "type": "scattermapbox"
           }
          ],
          "scatterpolar": [
           {
            "marker": {
             "colorbar": {
              "outlinewidth": 0,
              "ticks": ""
             }
            },
            "type": "scatterpolar"
           }
          ],
          "scatterpolargl": [
           {
            "marker": {
             "colorbar": {
              "outlinewidth": 0,
              "ticks": ""
             }
            },
            "type": "scatterpolargl"
           }
          ],
          "scatterternary": [
           {
            "marker": {
             "colorbar": {
              "outlinewidth": 0,
              "ticks": ""
             }
            },
            "type": "scatterternary"
           }
          ],
          "surface": [
           {
            "colorbar": {
             "outlinewidth": 0,
             "ticks": ""
            },
            "colorscale": [
             [
              0,
              "#0d0887"
             ],
             [
              0.1111111111111111,
              "#46039f"
             ],
             [
              0.2222222222222222,
              "#7201a8"
             ],
             [
              0.3333333333333333,
              "#9c179e"
             ],
             [
              0.4444444444444444,
              "#bd3786"
             ],
             [
              0.5555555555555556,
              "#d8576b"
             ],
             [
              0.6666666666666666,
              "#ed7953"
             ],
             [
              0.7777777777777778,
              "#fb9f3a"
             ],
             [
              0.8888888888888888,
              "#fdca26"
             ],
             [
              1,
              "#f0f921"
             ]
            ],
            "type": "surface"
           }
          ],
          "table": [
           {
            "cells": {
             "fill": {
              "color": "#EBF0F8"
             },
             "line": {
              "color": "white"
             }
            },
            "header": {
             "fill": {
              "color": "#C8D4E3"
             },
             "line": {
              "color": "white"
             }
            },
            "type": "table"
           }
          ]
         },
         "layout": {
          "annotationdefaults": {
           "arrowcolor": "#2a3f5f",
           "arrowhead": 0,
           "arrowwidth": 1
          },
          "autotypenumbers": "strict",
          "coloraxis": {
           "colorbar": {
            "outlinewidth": 0,
            "ticks": ""
           }
          },
          "colorscale": {
           "diverging": [
            [
             0,
             "#8e0152"
            ],
            [
             0.1,
             "#c51b7d"
            ],
            [
             0.2,
             "#de77ae"
            ],
            [
             0.3,
             "#f1b6da"
            ],
            [
             0.4,
             "#fde0ef"
            ],
            [
             0.5,
             "#f7f7f7"
            ],
            [
             0.6,
             "#e6f5d0"
            ],
            [
             0.7,
             "#b8e186"
            ],
            [
             0.8,
             "#7fbc41"
            ],
            [
             0.9,
             "#4d9221"
            ],
            [
             1,
             "#276419"
            ]
           ],
           "sequential": [
            [
             0,
             "#0d0887"
            ],
            [
             0.1111111111111111,
             "#46039f"
            ],
            [
             0.2222222222222222,
             "#7201a8"
            ],
            [
             0.3333333333333333,
             "#9c179e"
            ],
            [
             0.4444444444444444,
             "#bd3786"
            ],
            [
             0.5555555555555556,
             "#d8576b"
            ],
            [
             0.6666666666666666,
             "#ed7953"
            ],
            [
             0.7777777777777778,
             "#fb9f3a"
            ],
            [
             0.8888888888888888,
             "#fdca26"
            ],
            [
             1,
             "#f0f921"
            ]
           ],
           "sequentialminus": [
            [
             0,
             "#0d0887"
            ],
            [
             0.1111111111111111,
             "#46039f"
            ],
            [
             0.2222222222222222,
             "#7201a8"
            ],
            [
             0.3333333333333333,
             "#9c179e"
            ],
            [
             0.4444444444444444,
             "#bd3786"
            ],
            [
             0.5555555555555556,
             "#d8576b"
            ],
            [
             0.6666666666666666,
             "#ed7953"
            ],
            [
             0.7777777777777778,
             "#fb9f3a"
            ],
            [
             0.8888888888888888,
             "#fdca26"
            ],
            [
             1,
             "#f0f921"
            ]
           ]
          },
          "colorway": [
           "#636efa",
           "#EF553B",
           "#00cc96",
           "#ab63fa",
           "#FFA15A",
           "#19d3f3",
           "#FF6692",
           "#B6E880",
           "#FF97FF",
           "#FECB52"
          ],
          "font": {
           "color": "#2a3f5f"
          },
          "geo": {
           "bgcolor": "white",
           "lakecolor": "white",
           "landcolor": "#E5ECF6",
           "showlakes": true,
           "showland": true,
           "subunitcolor": "white"
          },
          "hoverlabel": {
           "align": "left"
          },
          "hovermode": "closest",
          "mapbox": {
           "style": "light"
          },
          "paper_bgcolor": "white",
          "plot_bgcolor": "#E5ECF6",
          "polar": {
           "angularaxis": {
            "gridcolor": "white",
            "linecolor": "white",
            "ticks": ""
           },
           "bgcolor": "#E5ECF6",
           "radialaxis": {
            "gridcolor": "white",
            "linecolor": "white",
            "ticks": ""
           }
          },
          "scene": {
           "xaxis": {
            "backgroundcolor": "#E5ECF6",
            "gridcolor": "white",
            "gridwidth": 2,
            "linecolor": "white",
            "showbackground": true,
            "ticks": "",
            "zerolinecolor": "white"
           },
           "yaxis": {
            "backgroundcolor": "#E5ECF6",
            "gridcolor": "white",
            "gridwidth": 2,
            "linecolor": "white",
            "showbackground": true,
            "ticks": "",
            "zerolinecolor": "white"
           },
           "zaxis": {
            "backgroundcolor": "#E5ECF6",
            "gridcolor": "white",
            "gridwidth": 2,
            "linecolor": "white",
            "showbackground": true,
            "ticks": "",
            "zerolinecolor": "white"
           }
          },
          "shapedefaults": {
           "line": {
            "color": "#2a3f5f"
           }
          },
          "ternary": {
           "aaxis": {
            "gridcolor": "white",
            "linecolor": "white",
            "ticks": ""
           },
           "baxis": {
            "gridcolor": "white",
            "linecolor": "white",
            "ticks": ""
           },
           "bgcolor": "#E5ECF6",
           "caxis": {
            "gridcolor": "white",
            "linecolor": "white",
            "ticks": ""
           }
          },
          "title": {
           "x": 0.05
          },
          "xaxis": {
           "automargin": true,
           "gridcolor": "white",
           "linecolor": "white",
           "ticks": "",
           "title": {
            "standoff": 15
           },
           "zerolinecolor": "white",
           "zerolinewidth": 2
          },
          "yaxis": {
           "automargin": true,
           "gridcolor": "white",
           "linecolor": "white",
           "ticks": "",
           "title": {
            "standoff": 15
           },
           "zerolinecolor": "white",
           "zerolinewidth": 2
          }
         }
        },
        "title": {
         "font": {
          "color": "#151516"
         },
         "text": "Homicidio de Mujeres"
        },
        "xaxis": {
         "gridcolor": "#F6F6F6",
         "showgrid": true,
         "tickfont": {
          "color": "#666666"
         },
         "title": {
          "font": {
           "color": "#666666"
          },
          "text": "Años"
         },
         "zerolinecolor": "#F6F6F6"
        },
        "yaxis": {
         "gridcolor": "#F6F6F6",
         "showgrid": true,
         "tickfont": {
          "color": "#666666"
         },
         "title": {
          "font": {
           "color": "#666666"
          },
          "text": "Homicidios"
         },
         "zerolinecolor": "#F6F6F6"
        }
       }
      },
      "text/html": [
       "<div>                            <div id=\"7d38d2ca-5136-4f48-be2c-88385c2ac4b4\" class=\"plotly-graph-div\" style=\"height:525px; width:100%;\"></div>            <script type=\"text/javascript\">                require([\"plotly\"], function(Plotly) {                    window.PLOTLYENV=window.PLOTLYENV || {};\n",
       "                    window.PLOTLYENV.BASE_URL='https://plot.ly';                                    if (document.getElementById(\"7d38d2ca-5136-4f48-be2c-88385c2ac4b4\")) {                    Plotly.newPlot(                        \"7d38d2ca-5136-4f48-be2c-88385c2ac4b4\",                        [{\"marker\":{\"color\":\"rgba(238, 130, 238, 0.6)\",\"line\":{\"color\":\"rgba(238, 130, 238, 1.0)\",\"width\":1}},\"name\":\"Total\",\"orientation\":\"v\",\"text\":\"\",\"x\":[2004,2006,2015,2018,1987,2008,2014,2000,2009,2007,2010,2011,1996,1993,2016,2012,2005,1997,2017,2001,1989,1998,1990,2003,1994,1991,2013,1988,1980,1985,1995,2002,1999,1992,1986,1981,1984,1982,1983],\"y\":[17,15,15,14,13,13,13,12,11,11,11,11,10,9,9,9,9,9,8,8,8,7,7,7,6,6,6,5,5,5,5,5,5,4,4,4,3,3,2],\"type\":\"bar\"}],                        {\"legend\":{\"bgcolor\":\"#FFFFFF\",\"font\":{\"color\":\"#666666\"}},\"paper_bgcolor\":\"#FFFFFF\",\"plot_bgcolor\":\"#E5E5E5\",\"template\":{\"data\":{\"barpolar\":[{\"marker\":{\"line\":{\"color\":\"#E5ECF6\",\"width\":0.5},\"pattern\":{\"fillmode\":\"overlay\",\"size\":10,\"solidity\":0.2}},\"type\":\"barpolar\"}],\"bar\":[{\"error_x\":{\"color\":\"#2a3f5f\"},\"error_y\":{\"color\":\"#2a3f5f\"},\"marker\":{\"line\":{\"color\":\"#E5ECF6\",\"width\":0.5},\"pattern\":{\"fillmode\":\"overlay\",\"size\":10,\"solidity\":0.2}},\"type\":\"bar\"}],\"carpet\":[{\"aaxis\":{\"endlinecolor\":\"#2a3f5f\",\"gridcolor\":\"white\",\"linecolor\":\"white\",\"minorgridcolor\":\"white\",\"startlinecolor\":\"#2a3f5f\"},\"baxis\":{\"endlinecolor\":\"#2a3f5f\",\"gridcolor\":\"white\",\"linecolor\":\"white\",\"minorgridcolor\":\"white\",\"startlinecolor\":\"#2a3f5f\"},\"type\":\"carpet\"}],\"choropleth\":[{\"colorbar\":{\"outlinewidth\":0,\"ticks\":\"\"},\"type\":\"choropleth\"}],\"contourcarpet\":[{\"colorbar\":{\"outlinewidth\":0,\"ticks\":\"\"},\"type\":\"contourcarpet\"}],\"contour\":[{\"colorbar\":{\"outlinewidth\":0,\"ticks\":\"\"},\"colorscale\":[[0.0,\"#0d0887\"],[0.1111111111111111,\"#46039f\"],[0.2222222222222222,\"#7201a8\"],[0.3333333333333333,\"#9c179e\"],[0.4444444444444444,\"#bd3786\"],[0.5555555555555556,\"#d8576b\"],[0.6666666666666666,\"#ed7953\"],[0.7777777777777778,\"#fb9f3a\"],[0.8888888888888888,\"#fdca26\"],[1.0,\"#f0f921\"]],\"type\":\"contour\"}],\"heatmapgl\":[{\"colorbar\":{\"outlinewidth\":0,\"ticks\":\"\"},\"colorscale\":[[0.0,\"#0d0887\"],[0.1111111111111111,\"#46039f\"],[0.2222222222222222,\"#7201a8\"],[0.3333333333333333,\"#9c179e\"],[0.4444444444444444,\"#bd3786\"],[0.5555555555555556,\"#d8576b\"],[0.6666666666666666,\"#ed7953\"],[0.7777777777777778,\"#fb9f3a\"],[0.8888888888888888,\"#fdca26\"],[1.0,\"#f0f921\"]],\"type\":\"heatmapgl\"}],\"heatmap\":[{\"colorbar\":{\"outlinewidth\":0,\"ticks\":\"\"},\"colorscale\":[[0.0,\"#0d0887\"],[0.1111111111111111,\"#46039f\"],[0.2222222222222222,\"#7201a8\"],[0.3333333333333333,\"#9c179e\"],[0.4444444444444444,\"#bd3786\"],[0.5555555555555556,\"#d8576b\"],[0.6666666666666666,\"#ed7953\"],[0.7777777777777778,\"#fb9f3a\"],[0.8888888888888888,\"#fdca26\"],[1.0,\"#f0f921\"]],\"type\":\"heatmap\"}],\"histogram2dcontour\":[{\"colorbar\":{\"outlinewidth\":0,\"ticks\":\"\"},\"colorscale\":[[0.0,\"#0d0887\"],[0.1111111111111111,\"#46039f\"],[0.2222222222222222,\"#7201a8\"],[0.3333333333333333,\"#9c179e\"],[0.4444444444444444,\"#bd3786\"],[0.5555555555555556,\"#d8576b\"],[0.6666666666666666,\"#ed7953\"],[0.7777777777777778,\"#fb9f3a\"],[0.8888888888888888,\"#fdca26\"],[1.0,\"#f0f921\"]],\"type\":\"histogram2dcontour\"}],\"histogram2d\":[{\"colorbar\":{\"outlinewidth\":0,\"ticks\":\"\"},\"colorscale\":[[0.0,\"#0d0887\"],[0.1111111111111111,\"#46039f\"],[0.2222222222222222,\"#7201a8\"],[0.3333333333333333,\"#9c179e\"],[0.4444444444444444,\"#bd3786\"],[0.5555555555555556,\"#d8576b\"],[0.6666666666666666,\"#ed7953\"],[0.7777777777777778,\"#fb9f3a\"],[0.8888888888888888,\"#fdca26\"],[1.0,\"#f0f921\"]],\"type\":\"histogram2d\"}],\"histogram\":[{\"marker\":{\"pattern\":{\"fillmode\":\"overlay\",\"size\":10,\"solidity\":0.2}},\"type\":\"histogram\"}],\"mesh3d\":[{\"colorbar\":{\"outlinewidth\":0,\"ticks\":\"\"},\"type\":\"mesh3d\"}],\"parcoords\":[{\"line\":{\"colorbar\":{\"outlinewidth\":0,\"ticks\":\"\"}},\"type\":\"parcoords\"}],\"pie\":[{\"automargin\":true,\"type\":\"pie\"}],\"scatter3d\":[{\"line\":{\"colorbar\":{\"outlinewidth\":0,\"ticks\":\"\"}},\"marker\":{\"colorbar\":{\"outlinewidth\":0,\"ticks\":\"\"}},\"type\":\"scatter3d\"}],\"scattercarpet\":[{\"marker\":{\"colorbar\":{\"outlinewidth\":0,\"ticks\":\"\"}},\"type\":\"scattercarpet\"}],\"scattergeo\":[{\"marker\":{\"colorbar\":{\"outlinewidth\":0,\"ticks\":\"\"}},\"type\":\"scattergeo\"}],\"scattergl\":[{\"marker\":{\"colorbar\":{\"outlinewidth\":0,\"ticks\":\"\"}},\"type\":\"scattergl\"}],\"scattermapbox\":[{\"marker\":{\"colorbar\":{\"outlinewidth\":0,\"ticks\":\"\"}},\"type\":\"scattermapbox\"}],\"scatterpolargl\":[{\"marker\":{\"colorbar\":{\"outlinewidth\":0,\"ticks\":\"\"}},\"type\":\"scatterpolargl\"}],\"scatterpolar\":[{\"marker\":{\"colorbar\":{\"outlinewidth\":0,\"ticks\":\"\"}},\"type\":\"scatterpolar\"}],\"scatter\":[{\"fillpattern\":{\"fillmode\":\"overlay\",\"size\":10,\"solidity\":0.2},\"type\":\"scatter\"}],\"scatterternary\":[{\"marker\":{\"colorbar\":{\"outlinewidth\":0,\"ticks\":\"\"}},\"type\":\"scatterternary\"}],\"surface\":[{\"colorbar\":{\"outlinewidth\":0,\"ticks\":\"\"},\"colorscale\":[[0.0,\"#0d0887\"],[0.1111111111111111,\"#46039f\"],[0.2222222222222222,\"#7201a8\"],[0.3333333333333333,\"#9c179e\"],[0.4444444444444444,\"#bd3786\"],[0.5555555555555556,\"#d8576b\"],[0.6666666666666666,\"#ed7953\"],[0.7777777777777778,\"#fb9f3a\"],[0.8888888888888888,\"#fdca26\"],[1.0,\"#f0f921\"]],\"type\":\"surface\"}],\"table\":[{\"cells\":{\"fill\":{\"color\":\"#EBF0F8\"},\"line\":{\"color\":\"white\"}},\"header\":{\"fill\":{\"color\":\"#C8D4E3\"},\"line\":{\"color\":\"white\"}},\"type\":\"table\"}]},\"layout\":{\"annotationdefaults\":{\"arrowcolor\":\"#2a3f5f\",\"arrowhead\":0,\"arrowwidth\":1},\"autotypenumbers\":\"strict\",\"coloraxis\":{\"colorbar\":{\"outlinewidth\":0,\"ticks\":\"\"}},\"colorscale\":{\"diverging\":[[0,\"#8e0152\"],[0.1,\"#c51b7d\"],[0.2,\"#de77ae\"],[0.3,\"#f1b6da\"],[0.4,\"#fde0ef\"],[0.5,\"#f7f7f7\"],[0.6,\"#e6f5d0\"],[0.7,\"#b8e186\"],[0.8,\"#7fbc41\"],[0.9,\"#4d9221\"],[1,\"#276419\"]],\"sequential\":[[0.0,\"#0d0887\"],[0.1111111111111111,\"#46039f\"],[0.2222222222222222,\"#7201a8\"],[0.3333333333333333,\"#9c179e\"],[0.4444444444444444,\"#bd3786\"],[0.5555555555555556,\"#d8576b\"],[0.6666666666666666,\"#ed7953\"],[0.7777777777777778,\"#fb9f3a\"],[0.8888888888888888,\"#fdca26\"],[1.0,\"#f0f921\"]],\"sequentialminus\":[[0.0,\"#0d0887\"],[0.1111111111111111,\"#46039f\"],[0.2222222222222222,\"#7201a8\"],[0.3333333333333333,\"#9c179e\"],[0.4444444444444444,\"#bd3786\"],[0.5555555555555556,\"#d8576b\"],[0.6666666666666666,\"#ed7953\"],[0.7777777777777778,\"#fb9f3a\"],[0.8888888888888888,\"#fdca26\"],[1.0,\"#f0f921\"]]},\"colorway\":[\"#636efa\",\"#EF553B\",\"#00cc96\",\"#ab63fa\",\"#FFA15A\",\"#19d3f3\",\"#FF6692\",\"#B6E880\",\"#FF97FF\",\"#FECB52\"],\"font\":{\"color\":\"#2a3f5f\"},\"geo\":{\"bgcolor\":\"white\",\"lakecolor\":\"white\",\"landcolor\":\"#E5ECF6\",\"showlakes\":true,\"showland\":true,\"subunitcolor\":\"white\"},\"hoverlabel\":{\"align\":\"left\"},\"hovermode\":\"closest\",\"mapbox\":{\"style\":\"light\"},\"paper_bgcolor\":\"white\",\"plot_bgcolor\":\"#E5ECF6\",\"polar\":{\"angularaxis\":{\"gridcolor\":\"white\",\"linecolor\":\"white\",\"ticks\":\"\"},\"bgcolor\":\"#E5ECF6\",\"radialaxis\":{\"gridcolor\":\"white\",\"linecolor\":\"white\",\"ticks\":\"\"}},\"scene\":{\"xaxis\":{\"backgroundcolor\":\"#E5ECF6\",\"gridcolor\":\"white\",\"gridwidth\":2,\"linecolor\":\"white\",\"showbackground\":true,\"ticks\":\"\",\"zerolinecolor\":\"white\"},\"yaxis\":{\"backgroundcolor\":\"#E5ECF6\",\"gridcolor\":\"white\",\"gridwidth\":2,\"linecolor\":\"white\",\"showbackground\":true,\"ticks\":\"\",\"zerolinecolor\":\"white\"},\"zaxis\":{\"backgroundcolor\":\"#E5ECF6\",\"gridcolor\":\"white\",\"gridwidth\":2,\"linecolor\":\"white\",\"showbackground\":true,\"ticks\":\"\",\"zerolinecolor\":\"white\"}},\"shapedefaults\":{\"line\":{\"color\":\"#2a3f5f\"}},\"ternary\":{\"aaxis\":{\"gridcolor\":\"white\",\"linecolor\":\"white\",\"ticks\":\"\"},\"baxis\":{\"gridcolor\":\"white\",\"linecolor\":\"white\",\"ticks\":\"\"},\"bgcolor\":\"#E5ECF6\",\"caxis\":{\"gridcolor\":\"white\",\"linecolor\":\"white\",\"ticks\":\"\"}},\"title\":{\"x\":0.05},\"xaxis\":{\"automargin\":true,\"gridcolor\":\"white\",\"linecolor\":\"white\",\"ticks\":\"\",\"title\":{\"standoff\":15},\"zerolinecolor\":\"white\",\"zerolinewidth\":2},\"yaxis\":{\"automargin\":true,\"gridcolor\":\"white\",\"linecolor\":\"white\",\"ticks\":\"\",\"title\":{\"standoff\":15},\"zerolinecolor\":\"white\",\"zerolinewidth\":2}}},\"title\":{\"font\":{\"color\":\"#151516\"},\"text\":\"Homicidio de Mujeres\"},\"xaxis\":{\"gridcolor\":\"#F6F6F6\",\"showgrid\":true,\"tickfont\":{\"color\":\"#666666\"},\"title\":{\"font\":{\"color\":\"#666666\"},\"text\":\"A\\u00f1os\"},\"zerolinecolor\":\"#F6F6F6\"},\"yaxis\":{\"gridcolor\":\"#F6F6F6\",\"showgrid\":true,\"tickfont\":{\"color\":\"#666666\"},\"title\":{\"font\":{\"color\":\"#666666\"},\"text\":\"Homicidios\"},\"zerolinecolor\":\"#F6F6F6\"}},                        {\"showLink\": true, \"linkText\": \"Export to plot.ly\", \"plotlyServerURL\": \"https://plot.ly\", \"responsive\": true}                    ).then(function(){\n",
       "                            \n",
       "var gd = document.getElementById('7d38d2ca-5136-4f48-be2c-88385c2ac4b4');\n",
       "var x = new MutationObserver(function (mutations, observer) {{\n",
       "        var display = window.getComputedStyle(gd).display;\n",
       "        if (!display || display === 'none') {{\n",
       "            console.log([gd, 'removed!']);\n",
       "            Plotly.purge(gd);\n",
       "            observer.disconnect();\n",
       "        }}\n",
       "}});\n",
       "\n",
       "// Listen for the removal of the full notebook cells\n",
       "var notebookContainer = gd.closest('#notebook-container');\n",
       "if (notebookContainer) {{\n",
       "    x.observe(notebookContainer, {childList: true});\n",
       "}}\n",
       "\n",
       "// Listen for the clearing of the current output cell\n",
       "var outputEl = gd.closest('.output');\n",
       "if (outputEl) {{\n",
       "    x.observe(outputEl, {childList: true});\n",
       "}}\n",
       "\n",
       "                        })                };                });            </script>        </div>"
      ]
     },
     "metadata": {},
     "output_type": "display_data"
    }
   ],
   "source": [
    "prueba_alana.iplot(kind='bar',  x='Periodo', y='Total',xTitle='Años', yTitle='Homicidios', title='Homicidio de Mujeres', color= 'violet')"
   ]
  },
  {
   "cell_type": "code",
   "execution_count": 55,
   "metadata": {},
   "outputs": [
    {
     "data": {
      "text/html": [
       "<div>\n",
       "<style scoped>\n",
       "    .dataframe tbody tr th:only-of-type {\n",
       "        vertical-align: middle;\n",
       "    }\n",
       "\n",
       "    .dataframe tbody tr th {\n",
       "        vertical-align: top;\n",
       "    }\n",
       "\n",
       "    .dataframe thead th {\n",
       "        text-align: right;\n",
       "    }\n",
       "</style>\n",
       "<table border=\"1\" class=\"dataframe\">\n",
       "  <thead>\n",
       "    <tr style=\"text-align: right;\">\n",
       "      <th></th>\n",
       "      <th>Causa de muerte</th>\n",
       "      <th>Sexo</th>\n",
       "      <th>Edad</th>\n",
       "      <th>Periodo</th>\n",
       "      <th>Total</th>\n",
       "      <th>cause_code</th>\n",
       "      <th>cause_group</th>\n",
       "      <th>cause_name</th>\n",
       "    </tr>\n",
       "  </thead>\n",
       "  <tbody>\n",
       "    <tr>\n",
       "      <th>0</th>\n",
       "      <td>098  Suicidio y lesiones autoinfligidas</td>\n",
       "      <td>Hombres</td>\n",
       "      <td>Todas las edades</td>\n",
       "      <td>2014</td>\n",
       "      <td>2938</td>\n",
       "      <td>098</td>\n",
       "      <td>Single cause</td>\n",
       "      <td>Suicidio y lesiones autoinfligidas</td>\n",
       "    </tr>\n",
       "    <tr>\n",
       "      <th>1</th>\n",
       "      <td>098  Suicidio y lesiones autoinfligidas</td>\n",
       "      <td>Hombres</td>\n",
       "      <td>Todas las edades</td>\n",
       "      <td>2013</td>\n",
       "      <td>2911</td>\n",
       "      <td>098</td>\n",
       "      <td>Single cause</td>\n",
       "      <td>Suicidio y lesiones autoinfligidas</td>\n",
       "    </tr>\n",
       "    <tr>\n",
       "      <th>2</th>\n",
       "      <td>098  Suicidio y lesiones autoinfligidas</td>\n",
       "      <td>Hombres</td>\n",
       "      <td>Todas las edades</td>\n",
       "      <td>2012</td>\n",
       "      <td>2724</td>\n",
       "      <td>098</td>\n",
       "      <td>Single cause</td>\n",
       "      <td>Suicidio y lesiones autoinfligidas</td>\n",
       "    </tr>\n",
       "    <tr>\n",
       "      <th>3</th>\n",
       "      <td>098  Suicidio y lesiones autoinfligidas</td>\n",
       "      <td>Hombres</td>\n",
       "      <td>Todas las edades</td>\n",
       "      <td>2017</td>\n",
       "      <td>2718</td>\n",
       "      <td>098</td>\n",
       "      <td>Single cause</td>\n",
       "      <td>Suicidio y lesiones autoinfligidas</td>\n",
       "    </tr>\n",
       "    <tr>\n",
       "      <th>4</th>\n",
       "      <td>098  Suicidio y lesiones autoinfligidas</td>\n",
       "      <td>Hombres</td>\n",
       "      <td>Todas las edades</td>\n",
       "      <td>2015</td>\n",
       "      <td>2680</td>\n",
       "      <td>098</td>\n",
       "      <td>Single cause</td>\n",
       "      <td>Suicidio y lesiones autoinfligidas</td>\n",
       "    </tr>\n",
       "    <tr>\n",
       "      <th>...</th>\n",
       "      <td>...</td>\n",
       "      <td>...</td>\n",
       "      <td>...</td>\n",
       "      <td>...</td>\n",
       "      <td>...</td>\n",
       "      <td>...</td>\n",
       "      <td>...</td>\n",
       "      <td>...</td>\n",
       "    </tr>\n",
       "    <tr>\n",
       "      <th>1711</th>\n",
       "      <td>098  Suicidio y lesiones autoinfligidas</td>\n",
       "      <td>Mujeres</td>\n",
       "      <td>De 1 a 4 años</td>\n",
       "      <td>2003</td>\n",
       "      <td>0</td>\n",
       "      <td>098</td>\n",
       "      <td>Single cause</td>\n",
       "      <td>Suicidio y lesiones autoinfligidas</td>\n",
       "    </tr>\n",
       "    <tr>\n",
       "      <th>1712</th>\n",
       "      <td>098  Suicidio y lesiones autoinfligidas</td>\n",
       "      <td>Mujeres</td>\n",
       "      <td>De 1 a 4 años</td>\n",
       "      <td>2004</td>\n",
       "      <td>0</td>\n",
       "      <td>098</td>\n",
       "      <td>Single cause</td>\n",
       "      <td>Suicidio y lesiones autoinfligidas</td>\n",
       "    </tr>\n",
       "    <tr>\n",
       "      <th>1713</th>\n",
       "      <td>098  Suicidio y lesiones autoinfligidas</td>\n",
       "      <td>Mujeres</td>\n",
       "      <td>De 1 a 4 años</td>\n",
       "      <td>2005</td>\n",
       "      <td>0</td>\n",
       "      <td>098</td>\n",
       "      <td>Single cause</td>\n",
       "      <td>Suicidio y lesiones autoinfligidas</td>\n",
       "    </tr>\n",
       "    <tr>\n",
       "      <th>1714</th>\n",
       "      <td>098  Suicidio y lesiones autoinfligidas</td>\n",
       "      <td>Mujeres</td>\n",
       "      <td>De 1 a 4 años</td>\n",
       "      <td>2006</td>\n",
       "      <td>0</td>\n",
       "      <td>098</td>\n",
       "      <td>Single cause</td>\n",
       "      <td>Suicidio y lesiones autoinfligidas</td>\n",
       "    </tr>\n",
       "    <tr>\n",
       "      <th>1715</th>\n",
       "      <td>098  Suicidio y lesiones autoinfligidas</td>\n",
       "      <td>Mujeres</td>\n",
       "      <td>95 y más años</td>\n",
       "      <td>1985</td>\n",
       "      <td>0</td>\n",
       "      <td>098</td>\n",
       "      <td>Single cause</td>\n",
       "      <td>Suicidio y lesiones autoinfligidas</td>\n",
       "    </tr>\n",
       "  </tbody>\n",
       "</table>\n",
       "<p>1716 rows × 8 columns</p>\n",
       "</div>"
      ],
      "text/plain": [
       "                              Causa de muerte     Sexo              Edad  \\\n",
       "0     098  Suicidio y lesiones autoinfligidas  Hombres  Todas las edades   \n",
       "1     098  Suicidio y lesiones autoinfligidas  Hombres  Todas las edades   \n",
       "2     098  Suicidio y lesiones autoinfligidas  Hombres  Todas las edades   \n",
       "3     098  Suicidio y lesiones autoinfligidas  Hombres  Todas las edades   \n",
       "4     098  Suicidio y lesiones autoinfligidas  Hombres  Todas las edades   \n",
       "...                                       ...      ...               ...   \n",
       "1711  098  Suicidio y lesiones autoinfligidas  Mujeres     De 1 a 4 años   \n",
       "1712  098  Suicidio y lesiones autoinfligidas  Mujeres     De 1 a 4 años   \n",
       "1713  098  Suicidio y lesiones autoinfligidas  Mujeres     De 1 a 4 años   \n",
       "1714  098  Suicidio y lesiones autoinfligidas  Mujeres     De 1 a 4 años   \n",
       "1715  098  Suicidio y lesiones autoinfligidas  Mujeres     95 y más años   \n",
       "\n",
       "      Periodo  Total cause_code   cause_group  \\\n",
       "0        2014   2938        098  Single cause   \n",
       "1        2013   2911        098  Single cause   \n",
       "2        2012   2724        098  Single cause   \n",
       "3        2017   2718        098  Single cause   \n",
       "4        2015   2680        098  Single cause   \n",
       "...       ...    ...        ...           ...   \n",
       "1711     2003      0        098  Single cause   \n",
       "1712     2004      0        098  Single cause   \n",
       "1713     2005      0        098  Single cause   \n",
       "1714     2006      0        098  Single cause   \n",
       "1715     1985      0        098  Single cause   \n",
       "\n",
       "                              cause_name  \n",
       "0     Suicidio y lesiones autoinfligidas  \n",
       "1     Suicidio y lesiones autoinfligidas  \n",
       "2     Suicidio y lesiones autoinfligidas  \n",
       "3     Suicidio y lesiones autoinfligidas  \n",
       "4     Suicidio y lesiones autoinfligidas  \n",
       "...                                  ...  \n",
       "1711  Suicidio y lesiones autoinfligidas  \n",
       "1712  Suicidio y lesiones autoinfligidas  \n",
       "1713  Suicidio y lesiones autoinfligidas  \n",
       "1714  Suicidio y lesiones autoinfligidas  \n",
       "1715  Suicidio y lesiones autoinfligidas  \n",
       "\n",
       "[1716 rows x 8 columns]"
      ]
     },
     "execution_count": 55,
     "metadata": {},
     "output_type": "execute_result"
    }
   ],
   "source": [
    "prueba_alana2 = mod.row_filter(deaths, 'Sexo', ['Mujeres', 'Hombres'])\n",
    "prueba_alana2 = mod.row_filter(prueba_alana2, 'cause_name', ['Suicidio y lesiones autoinfligidas'])\n",
    "prueba_alana2 = mod.row_filter(prueba_alana2, 'Periodo', ['Suicidio y lesiones autoinfligidas'])\n",
    "prueba_alana2\n"
   ]
  },
  {
   "cell_type": "code",
   "execution_count": 58,
   "metadata": {},
   "outputs": [
    {
     "data": {
      "application/vnd.plotly.v1+json": {
       "config": {
        "linkText": "Export to plot.ly",
        "plotlyServerURL": "https://plot.ly",
        "showLink": true
       },
       "data": [
        {
         "marker": {
          "color": "rgba(226, 74, 51, 0.6)",
          "line": {
           "color": "rgba(226, 74, 51, 1.0)",
           "width": 1
          }
         },
         "name": "Total",
         "orientation": "v",
         "text": "",
         "type": "bar",
         "x": [
          "Hombres",
          "Hombres",
          "Hombres",
          "Hombres",
          "Hombres",
          "Hombres",
          "Hombres",
          "Hombres",
          "Hombres",
          "Hombres",
          "Hombres",
          "Hombres",
          "Hombres",
          "Hombres",
          "Hombres",
          "Hombres",
          "Hombres",
          "Hombres",
          "Hombres",
          "Hombres",
          "Hombres",
          "Hombres",
          "Hombres",
          "Hombres",
          "Hombres",
          "Hombres",
          "Hombres",
          "Hombres",
          "Hombres",
          "Hombres",
          "Hombres",
          "Hombres",
          "Hombres",
          "Hombres",
          "Hombres",
          "Hombres",
          "Hombres",
          "Hombres",
          "Hombres",
          "Mujeres",
          "Mujeres",
          "Mujeres",
          "Mujeres",
          "Mujeres",
          "Mujeres",
          "Mujeres",
          "Mujeres",
          "Mujeres",
          "Mujeres",
          "Mujeres",
          "Mujeres",
          "Mujeres",
          "Mujeres",
          "Mujeres",
          "Mujeres",
          "Mujeres",
          "Mujeres",
          "Mujeres",
          "Mujeres",
          "Mujeres",
          "Mujeres",
          "Mujeres",
          "Mujeres",
          "Mujeres",
          "Mujeres",
          "Mujeres",
          "Mujeres",
          "Mujeres",
          "Mujeres",
          "Mujeres",
          "Mujeres",
          "Mujeres",
          "Mujeres",
          "Mujeres",
          "Mujeres",
          "Mujeres",
          "Mujeres",
          "Mujeres",
          "Hombres",
          "Hombres",
          "Hombres",
          "Hombres",
          "Hombres",
          "Hombres",
          "Hombres",
          "Hombres",
          "Hombres",
          "Hombres",
          "Hombres",
          "Hombres",
          "Hombres",
          "Hombres",
          "Hombres",
          "Hombres",
          "Hombres",
          "Hombres",
          "Hombres",
          "Hombres",
          "Hombres",
          "Hombres",
          "Hombres",
          "Hombres",
          "Hombres",
          "Hombres",
          "Hombres",
          "Hombres",
          "Hombres",
          "Hombres",
          "Hombres",
          "Hombres",
          "Hombres",
          "Hombres",
          "Hombres",
          "Hombres",
          "Hombres",
          "Hombres",
          "Hombres",
          "Hombres",
          "Hombres",
          "Hombres",
          "Hombres",
          "Hombres",
          "Hombres",
          "Hombres",
          "Hombres",
          "Hombres",
          "Hombres",
          "Hombres",
          "Hombres",
          "Hombres",
          "Hombres",
          "Hombres",
          "Hombres",
          "Hombres",
          "Hombres",
          "Hombres",
          "Hombres",
          "Hombres",
          "Hombres",
          "Hombres",
          "Hombres",
          "Hombres",
          "Hombres",
          "Hombres",
          "Hombres",
          "Hombres",
          "Hombres",
          "Hombres",
          "Hombres",
          "Hombres",
          "Hombres",
          "Hombres",
          "Hombres",
          "Hombres",
          "Hombres",
          "Hombres",
          "Hombres",
          "Hombres",
          "Hombres",
          "Hombres",
          "Hombres",
          "Hombres",
          "Hombres",
          "Hombres",
          "Hombres",
          "Hombres",
          "Hombres",
          "Hombres",
          "Hombres",
          "Hombres",
          "Hombres",
          "Hombres",
          "Hombres",
          "Hombres",
          "Hombres",
          "Hombres",
          "Hombres",
          "Hombres",
          "Hombres",
          "Hombres",
          "Hombres",
          "Hombres",
          "Hombres",
          "Hombres",
          "Hombres",
          "Hombres",
          "Hombres",
          "Hombres",
          "Hombres",
          "Hombres",
          "Hombres",
          "Hombres",
          "Hombres",
          "Hombres",
          "Hombres",
          "Hombres",
          "Hombres",
          "Hombres",
          "Hombres",
          "Hombres",
          "Hombres",
          "Hombres",
          "Hombres",
          "Hombres",
          "Hombres",
          "Hombres",
          "Hombres",
          "Hombres",
          "Hombres",
          "Hombres",
          "Hombres",
          "Hombres",
          "Hombres",
          "Hombres",
          "Hombres",
          "Hombres",
          "Hombres",
          "Hombres",
          "Hombres",
          "Hombres",
          "Hombres",
          "Hombres",
          "Hombres",
          "Hombres",
          "Hombres",
          "Hombres",
          "Hombres",
          "Hombres",
          "Hombres",
          "Hombres",
          "Hombres",
          "Hombres",
          "Hombres",
          "Hombres",
          "Hombres",
          "Hombres",
          "Hombres",
          "Hombres",
          "Hombres",
          "Hombres",
          "Hombres",
          "Hombres",
          "Hombres",
          "Hombres",
          "Hombres",
          "Hombres",
          "Hombres",
          "Hombres",
          "Hombres",
          "Hombres",
          "Hombres",
          "Hombres",
          "Hombres",
          "Hombres",
          "Hombres",
          "Hombres",
          "Hombres",
          "Hombres",
          "Hombres",
          "Hombres",
          "Hombres",
          "Hombres",
          "Hombres",
          "Hombres",
          "Hombres",
          "Hombres",
          "Hombres",
          "Hombres",
          "Hombres",
          "Hombres",
          "Hombres",
          "Hombres",
          "Hombres",
          "Hombres",
          "Hombres",
          "Hombres",
          "Hombres",
          "Hombres",
          "Hombres",
          "Hombres",
          "Hombres",
          "Hombres",
          "Hombres",
          "Hombres",
          "Hombres",
          "Hombres",
          "Hombres",
          "Hombres",
          "Hombres",
          "Hombres",
          "Hombres",
          "Hombres",
          "Hombres",
          "Hombres",
          "Hombres",
          "Hombres",
          "Hombres",
          "Hombres",
          "Hombres",
          "Hombres",
          "Hombres",
          "Hombres",
          "Hombres",
          "Hombres",
          "Hombres",
          "Hombres",
          "Hombres",
          "Hombres",
          "Hombres",
          "Hombres",
          "Hombres",
          "Hombres",
          "Hombres",
          "Hombres",
          "Hombres",
          "Hombres",
          "Hombres",
          "Hombres",
          "Hombres",
          "Hombres",
          "Hombres",
          "Hombres",
          "Hombres",
          "Hombres",
          "Hombres",
          "Hombres",
          "Hombres",
          "Hombres",
          "Hombres",
          "Hombres",
          "Hombres",
          "Hombres",
          "Hombres",
          "Hombres",
          "Hombres",
          "Hombres",
          "Hombres",
          "Hombres",
          "Hombres",
          "Hombres",
          "Hombres",
          "Hombres",
          "Hombres",
          "Hombres",
          "Hombres",
          "Hombres",
          "Hombres",
          "Hombres",
          "Hombres",
          "Hombres",
          "Hombres",
          "Hombres",
          "Hombres",
          "Hombres",
          "Hombres",
          "Hombres",
          "Hombres",
          "Hombres",
          "Hombres",
          "Hombres",
          "Hombres",
          "Hombres",
          "Hombres",
          "Hombres",
          "Hombres",
          "Hombres",
          "Hombres",
          "Hombres",
          "Hombres",
          "Hombres",
          "Hombres",
          "Hombres",
          "Hombres",
          "Hombres",
          "Hombres",
          "Hombres",
          "Hombres",
          "Hombres",
          "Hombres",
          "Hombres",
          "Hombres",
          "Hombres",
          "Hombres",
          "Hombres",
          "Hombres",
          "Hombres",
          "Hombres",
          "Hombres",
          "Hombres",
          "Hombres",
          "Hombres",
          "Hombres",
          "Hombres",
          "Hombres",
          "Hombres",
          "Hombres",
          "Hombres",
          "Hombres",
          "Hombres",
          "Hombres",
          "Hombres",
          "Hombres",
          "Hombres",
          "Hombres",
          "Hombres",
          "Hombres",
          "Hombres",
          "Hombres",
          "Hombres",
          "Hombres",
          "Hombres",
          "Hombres",
          "Hombres",
          "Hombres",
          "Hombres",
          "Hombres",
          "Hombres",
          "Hombres",
          "Hombres",
          "Hombres",
          "Hombres",
          "Hombres",
          "Hombres",
          "Hombres",
          "Hombres",
          "Hombres",
          "Hombres",
          "Hombres",
          "Hombres",
          "Hombres",
          "Hombres",
          "Hombres",
          "Hombres",
          "Hombres",
          "Hombres",
          "Hombres",
          "Hombres",
          "Hombres",
          "Hombres",
          "Hombres",
          "Hombres",
          "Hombres",
          "Hombres",
          "Hombres",
          "Hombres",
          "Hombres",
          "Hombres",
          "Hombres",
          "Hombres",
          "Hombres",
          "Hombres",
          "Hombres",
          "Hombres",
          "Hombres",
          "Hombres",
          "Hombres",
          "Hombres",
          "Hombres",
          "Hombres",
          "Hombres",
          "Hombres",
          "Hombres",
          "Hombres",
          "Hombres",
          "Hombres",
          "Hombres",
          "Hombres",
          "Hombres",
          "Hombres",
          "Hombres",
          "Hombres",
          "Hombres",
          "Hombres",
          "Hombres",
          "Hombres",
          "Hombres",
          "Hombres",
          "Hombres",
          "Hombres",
          "Hombres",
          "Hombres",
          "Hombres",
          "Hombres",
          "Hombres",
          "Hombres",
          "Hombres",
          "Hombres",
          "Hombres",
          "Hombres",
          "Hombres",
          "Hombres",
          "Hombres",
          "Hombres",
          "Hombres",
          "Hombres",
          "Mujeres",
          "Hombres",
          "Hombres",
          "Hombres",
          "Hombres",
          "Hombres",
          "Hombres",
          "Hombres",
          "Hombres",
          "Hombres",
          "Hombres",
          "Hombres",
          "Mujeres",
          "Hombres",
          "Hombres",
          "Hombres",
          "Hombres",
          "Hombres",
          "Hombres",
          "Hombres",
          "Hombres",
          "Hombres",
          "Hombres",
          "Mujeres",
          "Hombres",
          "Hombres",
          "Hombres",
          "Hombres",
          "Hombres",
          "Hombres",
          "Hombres",
          "Mujeres",
          "Hombres",
          "Hombres",
          "Hombres",
          "Hombres",
          "Mujeres",
          "Hombres",
          "Hombres",
          "Hombres",
          "Mujeres",
          "Hombres",
          "Hombres",
          "Hombres",
          "Hombres",
          "Hombres",
          "Hombres",
          "Hombres",
          "Hombres",
          "Hombres",
          "Hombres",
          "Hombres",
          "Hombres",
          "Hombres",
          "Hombres",
          "Hombres",
          "Hombres",
          "Hombres",
          "Hombres",
          "Hombres",
          "Hombres",
          "Hombres",
          "Hombres",
          "Hombres",
          "Hombres",
          "Mujeres",
          "Hombres",
          "Hombres",
          "Mujeres",
          "Hombres",
          "Hombres",
          "Mujeres",
          "Hombres",
          "Mujeres",
          "Mujeres",
          "Hombres",
          "Mujeres",
          "Hombres",
          "Mujeres",
          "Mujeres",
          "Hombres",
          "Hombres",
          "Mujeres",
          "Mujeres",
          "Mujeres",
          "Hombres",
          "Mujeres",
          "Mujeres",
          "Hombres",
          "Hombres",
          "Hombres",
          "Hombres",
          "Mujeres",
          "Mujeres",
          "Hombres",
          "Hombres",
          "Mujeres",
          "Mujeres",
          "Mujeres",
          "Hombres",
          "Mujeres",
          "Mujeres",
          "Hombres",
          "Mujeres",
          "Mujeres",
          "Mujeres",
          "Mujeres",
          "Mujeres",
          "Hombres",
          "Mujeres",
          "Mujeres",
          "Hombres",
          "Hombres",
          "Mujeres",
          "Hombres",
          "Hombres",
          "Hombres",
          "Hombres",
          "Hombres",
          "Hombres",
          "Hombres",
          "Mujeres",
          "Mujeres",
          "Hombres",
          "Hombres",
          "Hombres",
          "Hombres",
          "Mujeres",
          "Mujeres",
          "Hombres",
          "Hombres",
          "Mujeres",
          "Hombres",
          "Mujeres",
          "Hombres",
          "Mujeres",
          "Mujeres",
          "Mujeres",
          "Hombres",
          "Mujeres",
          "Mujeres",
          "Hombres",
          "Mujeres",
          "Mujeres",
          "Mujeres",
          "Hombres",
          "Mujeres",
          "Hombres",
          "Mujeres",
          "Mujeres",
          "Mujeres",
          "Mujeres",
          "Mujeres",
          "Mujeres",
          "Hombres",
          "Mujeres",
          "Mujeres",
          "Mujeres",
          "Hombres",
          "Mujeres",
          "Mujeres",
          "Mujeres",
          "Hombres",
          "Mujeres",
          "Mujeres",
          "Mujeres",
          "Hombres",
          "Mujeres",
          "Hombres",
          "Hombres",
          "Mujeres",
          "Hombres",
          "Mujeres",
          "Hombres",
          "Mujeres",
          "Hombres",
          "Hombres",
          "Mujeres",
          "Mujeres",
          "Mujeres",
          "Mujeres",
          "Mujeres",
          "Hombres",
          "Hombres",
          "Mujeres",
          "Mujeres",
          "Mujeres",
          "Mujeres",
          "Mujeres",
          "Mujeres",
          "Mujeres",
          "Mujeres",
          "Mujeres",
          "Hombres",
          "Mujeres",
          "Mujeres",
          "Mujeres",
          "Hombres",
          "Mujeres",
          "Mujeres",
          "Mujeres",
          "Mujeres",
          "Mujeres",
          "Mujeres",
          "Mujeres",
          "Mujeres",
          "Mujeres",
          "Mujeres",
          "Mujeres",
          "Mujeres",
          "Mujeres",
          "Mujeres",
          "Mujeres",
          "Mujeres",
          "Mujeres",
          "Hombres",
          "Mujeres",
          "Mujeres",
          "Mujeres",
          "Mujeres",
          "Mujeres",
          "Hombres",
          "Mujeres",
          "Mujeres",
          "Hombres",
          "Hombres",
          "Mujeres",
          "Mujeres",
          "Hombres",
          "Hombres",
          "Mujeres",
          "Mujeres",
          "Mujeres",
          "Mujeres",
          "Mujeres",
          "Mujeres",
          "Mujeres",
          "Mujeres",
          "Mujeres",
          "Mujeres",
          "Mujeres",
          "Mujeres",
          "Mujeres",
          "Mujeres",
          "Mujeres",
          "Hombres",
          "Mujeres",
          "Hombres",
          "Hombres",
          "Mujeres",
          "Hombres",
          "Mujeres",
          "Mujeres",
          "Mujeres",
          "Mujeres",
          "Hombres",
          "Mujeres",
          "Mujeres",
          "Mujeres",
          "Mujeres",
          "Mujeres",
          "Mujeres",
          "Mujeres",
          "Mujeres",
          "Mujeres",
          "Mujeres",
          "Mujeres",
          "Mujeres",
          "Mujeres",
          "Mujeres",
          "Mujeres",
          "Mujeres",
          "Hombres",
          "Mujeres",
          "Mujeres",
          "Hombres",
          "Mujeres",
          "Mujeres",
          "Mujeres",
          "Mujeres",
          "Hombres",
          "Mujeres",
          "Mujeres",
          "Mujeres",
          "Mujeres",
          "Mujeres",
          "Mujeres",
          "Mujeres",
          "Mujeres",
          "Mujeres",
          "Mujeres",
          "Mujeres",
          "Mujeres",
          "Mujeres",
          "Mujeres",
          "Mujeres",
          "Mujeres",
          "Hombres",
          "Hombres",
          "Mujeres",
          "Mujeres",
          "Mujeres",
          "Mujeres",
          "Mujeres",
          "Mujeres",
          "Mujeres",
          "Mujeres",
          "Hombres",
          "Mujeres",
          "Mujeres",
          "Hombres",
          "Mujeres",
          "Mujeres",
          "Mujeres",
          "Mujeres",
          "Mujeres",
          "Hombres",
          "Mujeres",
          "Mujeres",
          "Mujeres",
          "Mujeres",
          "Mujeres",
          "Mujeres",
          "Mujeres",
          "Mujeres",
          "Mujeres",
          "Mujeres",
          "Mujeres",
          "Mujeres",
          "Mujeres",
          "Mujeres",
          "Hombres",
          "Mujeres",
          "Mujeres",
          "Mujeres",
          "Mujeres",
          "Hombres",
          "Mujeres",
          "Mujeres",
          "Mujeres",
          "Hombres",
          "Mujeres",
          "Mujeres",
          "Mujeres",
          "Mujeres",
          "Mujeres",
          "Mujeres",
          "Mujeres",
          "Mujeres",
          "Mujeres",
          "Mujeres",
          "Mujeres",
          "Mujeres",
          "Mujeres",
          "Mujeres",
          "Mujeres",
          "Mujeres",
          "Mujeres",
          "Mujeres",
          "Mujeres",
          "Mujeres",
          "Mujeres",
          "Mujeres",
          "Mujeres",
          "Mujeres",
          "Mujeres",
          "Mujeres",
          "Mujeres",
          "Mujeres",
          "Mujeres",
          "Mujeres",
          "Mujeres",
          "Mujeres",
          "Hombres",
          "Mujeres",
          "Mujeres",
          "Mujeres",
          "Mujeres",
          "Mujeres",
          "Mujeres",
          "Mujeres",
          "Hombres",
          "Mujeres",
          "Mujeres",
          "Mujeres",
          "Hombres",
          "Mujeres",
          "Mujeres",
          "Mujeres",
          "Mujeres",
          "Hombres",
          "Mujeres",
          "Mujeres",
          "Mujeres",
          "Mujeres",
          "Mujeres",
          "Mujeres",
          "Mujeres",
          "Mujeres",
          "Mujeres",
          "Mujeres",
          "Hombres",
          "Mujeres",
          "Mujeres",
          "Mujeres",
          "Mujeres",
          "Mujeres",
          "Mujeres",
          "Mujeres",
          "Mujeres",
          "Mujeres",
          "Mujeres",
          "Mujeres",
          "Mujeres",
          "Mujeres",
          "Mujeres",
          "Mujeres",
          "Mujeres",
          "Hombres",
          "Hombres",
          "Mujeres",
          "Mujeres",
          "Mujeres",
          "Mujeres",
          "Mujeres",
          "Mujeres",
          "Mujeres",
          "Mujeres",
          "Mujeres",
          "Mujeres",
          "Hombres",
          "Mujeres",
          "Mujeres",
          "Mujeres",
          "Mujeres",
          "Mujeres",
          "Hombres",
          "Mujeres",
          "Mujeres",
          "Hombres",
          "Mujeres",
          "Mujeres",
          "Hombres",
          "Mujeres",
          "Hombres",
          "Mujeres",
          "Hombres",
          "Mujeres",
          "Mujeres",
          "Mujeres",
          "Mujeres",
          "Mujeres",
          "Mujeres",
          "Mujeres",
          "Mujeres",
          "Mujeres",
          "Mujeres",
          "Mujeres",
          "Mujeres",
          "Mujeres",
          "Mujeres",
          "Mujeres",
          "Mujeres",
          "Mujeres",
          "Mujeres",
          "Mujeres",
          "Hombres",
          "Mujeres",
          "Mujeres",
          "Hombres",
          "Mujeres",
          "Mujeres",
          "Mujeres",
          "Mujeres",
          "Mujeres",
          "Mujeres",
          "Mujeres",
          "Mujeres",
          "Mujeres",
          "Mujeres",
          "Hombres",
          "Mujeres",
          "Mujeres",
          "Mujeres",
          "Mujeres",
          "Mujeres",
          "Mujeres",
          "Mujeres",
          "Mujeres",
          "Hombres",
          "Mujeres",
          "Mujeres",
          "Mujeres",
          "Mujeres",
          "Mujeres",
          "Mujeres",
          "Mujeres",
          "Mujeres",
          "Mujeres",
          "Mujeres",
          "Mujeres",
          "Mujeres",
          "Mujeres",
          "Mujeres",
          "Hombres",
          "Mujeres",
          "Mujeres",
          "Mujeres",
          "Mujeres",
          "Hombres",
          "Mujeres",
          "Mujeres",
          "Mujeres",
          "Mujeres",
          "Mujeres",
          "Mujeres",
          "Mujeres",
          "Mujeres",
          "Mujeres",
          "Mujeres",
          "Mujeres",
          "Mujeres",
          "Mujeres",
          "Mujeres",
          "Mujeres",
          "Mujeres",
          "Mujeres",
          "Hombres",
          "Mujeres",
          "Hombres",
          "Mujeres",
          "Mujeres",
          "Mujeres",
          "Mujeres",
          "Mujeres",
          "Hombres",
          "Mujeres",
          "Mujeres",
          "Mujeres",
          "Mujeres",
          "Mujeres",
          "Hombres",
          "Mujeres",
          "Mujeres",
          "Mujeres",
          "Mujeres",
          "Mujeres",
          "Mujeres",
          "Hombres",
          "Mujeres",
          "Mujeres",
          "Mujeres",
          "Hombres",
          "Mujeres",
          "Mujeres",
          "Mujeres",
          "Mujeres",
          "Hombres",
          "Mujeres",
          "Mujeres",
          "Mujeres",
          "Mujeres",
          "Hombres",
          "Mujeres",
          "Mujeres",
          "Mujeres",
          "Hombres",
          "Hombres",
          "Mujeres",
          "Mujeres",
          "Hombres",
          "Mujeres",
          "Mujeres",
          "Mujeres",
          "Mujeres",
          "Mujeres",
          "Mujeres",
          "Mujeres",
          "Mujeres",
          "Hombres",
          "Mujeres",
          "Mujeres",
          "Mujeres",
          "Mujeres",
          "Mujeres",
          "Mujeres",
          "Hombres",
          "Mujeres",
          "Mujeres",
          "Hombres",
          "Mujeres",
          "Mujeres",
          "Mujeres",
          "Mujeres",
          "Hombres",
          "Mujeres",
          "Mujeres",
          "Mujeres",
          "Hombres",
          "Hombres",
          "Hombres",
          "Mujeres",
          "Mujeres",
          "Mujeres",
          "Mujeres",
          "Mujeres",
          "Mujeres",
          "Mujeres",
          "Hombres",
          "Mujeres",
          "Mujeres",
          "Hombres",
          "Hombres",
          "Mujeres",
          "Mujeres",
          "Mujeres",
          "Hombres",
          "Mujeres",
          "Mujeres",
          "Mujeres",
          "Mujeres",
          "Mujeres",
          "Mujeres",
          "Hombres",
          "Mujeres",
          "Mujeres",
          "Mujeres",
          "Mujeres",
          "Hombres",
          "Mujeres",
          "Mujeres",
          "Mujeres",
          "Mujeres",
          "Mujeres",
          "Hombres",
          "Mujeres",
          "Mujeres",
          "Mujeres",
          "Mujeres",
          "Mujeres",
          "Mujeres",
          "Mujeres",
          "Hombres",
          "Mujeres",
          "Mujeres",
          "Mujeres",
          "Hombres",
          "Mujeres",
          "Mujeres",
          "Mujeres",
          "Hombres",
          "Mujeres",
          "Mujeres",
          "Mujeres",
          "Mujeres",
          "Mujeres",
          "Hombres",
          "Mujeres",
          "Hombres",
          "Mujeres",
          "Mujeres",
          "Mujeres",
          "Mujeres",
          "Mujeres",
          "Mujeres",
          "Mujeres",
          "Mujeres",
          "Mujeres",
          "Mujeres",
          "Mujeres",
          "Hombres",
          "Mujeres",
          "Mujeres",
          "Mujeres",
          "Mujeres",
          "Mujeres",
          "Mujeres",
          "Hombres",
          "Mujeres",
          "Mujeres",
          "Hombres",
          "Mujeres",
          "Mujeres",
          "Mujeres",
          "Mujeres",
          "Mujeres",
          "Mujeres",
          "Mujeres",
          "Mujeres",
          "Mujeres",
          "Mujeres",
          "Mujeres",
          "Mujeres",
          "Mujeres",
          "Mujeres",
          "Mujeres",
          "Mujeres",
          "Mujeres",
          "Mujeres",
          "Mujeres",
          "Mujeres",
          "Hombres",
          "Mujeres",
          "Mujeres",
          "Mujeres",
          "Mujeres",
          "Mujeres",
          "Mujeres",
          "Mujeres",
          "Mujeres",
          "Mujeres",
          "Mujeres",
          "Hombres",
          "Hombres",
          "Mujeres",
          "Hombres",
          "Hombres",
          "Mujeres",
          "Mujeres",
          "Mujeres",
          "Mujeres",
          "Mujeres",
          "Mujeres",
          "Mujeres",
          "Mujeres",
          "Mujeres",
          "Mujeres",
          "Mujeres",
          "Mujeres",
          "Mujeres",
          "Hombres",
          "Mujeres",
          "Mujeres",
          "Mujeres",
          "Hombres",
          "Mujeres",
          "Hombres",
          "Hombres",
          "Mujeres",
          "Hombres",
          "Mujeres",
          "Mujeres",
          "Mujeres",
          "Mujeres",
          "Hombres",
          "Mujeres",
          "Mujeres",
          "Mujeres",
          "Mujeres",
          "Mujeres",
          "Hombres",
          "Mujeres",
          "Mujeres",
          "Mujeres",
          "Mujeres",
          "Hombres",
          "Mujeres",
          "Hombres",
          "Mujeres",
          "Mujeres",
          "Mujeres",
          "Mujeres",
          "Mujeres",
          "Mujeres",
          "Mujeres",
          "Hombres",
          "Mujeres",
          "Mujeres",
          "Mujeres",
          "Mujeres",
          "Mujeres",
          "Mujeres",
          "Mujeres",
          "Hombres",
          "Hombres",
          "Mujeres",
          "Mujeres",
          "Mujeres",
          "Mujeres",
          "Mujeres",
          "Hombres",
          "Mujeres",
          "Mujeres",
          "Hombres",
          "Hombres",
          "Mujeres",
          "Mujeres",
          "Mujeres",
          "Mujeres",
          "Mujeres",
          "Hombres",
          "Mujeres",
          "Hombres",
          "Hombres",
          "Mujeres",
          "Hombres",
          "Mujeres",
          "Hombres",
          "Hombres",
          "Mujeres",
          "Mujeres",
          "Mujeres",
          "Mujeres",
          "Hombres",
          "Hombres",
          "Hombres",
          "Mujeres",
          "Mujeres",
          "Mujeres",
          "Mujeres",
          "Hombres",
          "Hombres",
          "Hombres",
          "Hombres",
          "Mujeres",
          "Mujeres",
          "Mujeres",
          "Mujeres",
          "Hombres",
          "Mujeres",
          "Mujeres",
          "Mujeres",
          "Mujeres",
          "Mujeres",
          "Mujeres",
          "Mujeres",
          "Hombres",
          "Hombres",
          "Hombres",
          "Hombres",
          "Hombres",
          "Hombres",
          "Hombres",
          "Hombres",
          "Hombres",
          "Mujeres",
          "Mujeres",
          "Mujeres",
          "Mujeres",
          "Hombres",
          "Hombres",
          "Mujeres",
          "Mujeres",
          "Hombres",
          "Hombres",
          "Hombres",
          "Hombres",
          "Hombres",
          "Hombres",
          "Hombres",
          "Hombres",
          "Hombres",
          "Mujeres",
          "Mujeres",
          "Mujeres",
          "Mujeres",
          "Hombres",
          "Hombres",
          "Hombres",
          "Mujeres",
          "Mujeres",
          "Mujeres",
          "Mujeres",
          "Mujeres",
          "Hombres",
          "Mujeres",
          "Hombres",
          "Hombres",
          "Hombres",
          "Hombres",
          "Mujeres",
          "Hombres",
          "Mujeres",
          "Mujeres",
          "Mujeres",
          "Hombres",
          "Hombres",
          "Hombres",
          "Hombres",
          "Hombres",
          "Hombres",
          "Mujeres",
          "Mujeres",
          "Mujeres",
          "Hombres",
          "Mujeres",
          "Mujeres",
          "Mujeres",
          "Mujeres",
          "Mujeres",
          "Mujeres",
          "Mujeres",
          "Mujeres",
          "Mujeres",
          "Hombres",
          "Hombres",
          "Hombres",
          "Mujeres",
          "Mujeres",
          "Mujeres",
          "Hombres",
          "Hombres",
          "Hombres",
          "Hombres",
          "Mujeres",
          "Hombres",
          "Hombres",
          "Hombres",
          "Hombres",
          "Hombres",
          "Hombres",
          "Hombres",
          "Mujeres",
          "Mujeres",
          "Mujeres",
          "Mujeres",
          "Mujeres",
          "Mujeres",
          "Mujeres",
          "Mujeres",
          "Mujeres",
          "Mujeres",
          "Mujeres",
          "Mujeres",
          "Mujeres",
          "Mujeres",
          "Mujeres",
          "Mujeres",
          "Mujeres",
          "Mujeres",
          "Mujeres",
          "Mujeres",
          "Mujeres",
          "Mujeres",
          "Hombres",
          "Hombres",
          "Mujeres",
          "Hombres",
          "Mujeres",
          "Hombres",
          "Hombres",
          "Mujeres",
          "Hombres",
          "Mujeres",
          "Mujeres",
          "Mujeres",
          "Hombres",
          "Hombres",
          "Hombres",
          "Mujeres",
          "Mujeres",
          "Hombres",
          "Mujeres",
          "Mujeres",
          "Mujeres",
          "Hombres",
          "Hombres",
          "Hombres",
          "Hombres",
          "Hombres",
          "Hombres",
          "Hombres",
          "Mujeres",
          "Hombres",
          "Hombres",
          "Mujeres",
          "Mujeres",
          "Hombres",
          "Mujeres",
          "Mujeres",
          "Mujeres",
          "Mujeres",
          "Mujeres",
          "Mujeres",
          "Mujeres",
          "Mujeres",
          "Mujeres",
          "Mujeres",
          "Mujeres",
          "Mujeres",
          "Mujeres",
          "Mujeres",
          "Mujeres",
          "Mujeres",
          "Mujeres",
          "Hombres",
          "Hombres",
          "Hombres",
          "Hombres",
          "Hombres",
          "Hombres",
          "Hombres",
          "Hombres",
          "Hombres",
          "Hombres",
          "Hombres",
          "Hombres",
          "Hombres",
          "Hombres",
          "Hombres",
          "Hombres",
          "Hombres",
          "Hombres",
          "Hombres",
          "Hombres",
          "Hombres",
          "Hombres",
          "Hombres",
          "Hombres",
          "Hombres",
          "Hombres",
          "Hombres",
          "Hombres",
          "Hombres",
          "Hombres",
          "Hombres",
          "Hombres",
          "Hombres",
          "Hombres",
          "Hombres",
          "Hombres",
          "Hombres",
          "Hombres",
          "Hombres",
          "Hombres",
          "Hombres",
          "Hombres",
          "Hombres",
          "Hombres",
          "Hombres",
          "Hombres",
          "Hombres",
          "Hombres",
          "Hombres",
          "Hombres",
          "Hombres",
          "Hombres",
          "Hombres",
          "Hombres",
          "Hombres",
          "Hombres",
          "Hombres",
          "Hombres",
          "Hombres",
          "Hombres",
          "Hombres",
          "Hombres",
          "Hombres",
          "Hombres",
          "Hombres",
          "Hombres",
          "Hombres",
          "Hombres",
          "Hombres",
          "Hombres",
          "Hombres",
          "Hombres",
          "Hombres",
          "Hombres",
          "Hombres",
          "Hombres",
          "Hombres",
          "Hombres",
          "Hombres",
          "Mujeres",
          "Mujeres",
          "Mujeres",
          "Mujeres",
          "Mujeres",
          "Mujeres",
          "Mujeres",
          "Hombres",
          "Hombres",
          "Hombres",
          "Hombres",
          "Hombres",
          "Hombres",
          "Hombres",
          "Hombres",
          "Hombres",
          "Hombres",
          "Hombres",
          "Hombres",
          "Hombres",
          "Hombres",
          "Hombres",
          "Hombres",
          "Hombres",
          "Hombres",
          "Hombres",
          "Hombres",
          "Hombres",
          "Hombres",
          "Hombres",
          "Hombres",
          "Hombres",
          "Hombres",
          "Hombres",
          "Hombres",
          "Hombres",
          "Hombres",
          "Hombres",
          "Mujeres",
          "Hombres",
          "Mujeres",
          "Mujeres",
          "Mujeres",
          "Mujeres",
          "Mujeres",
          "Mujeres",
          "Mujeres",
          "Mujeres",
          "Mujeres",
          "Mujeres",
          "Mujeres",
          "Mujeres",
          "Mujeres",
          "Mujeres",
          "Mujeres",
          "Mujeres",
          "Mujeres",
          "Mujeres",
          "Mujeres",
          "Mujeres",
          "Mujeres",
          "Mujeres",
          "Mujeres",
          "Mujeres",
          "Mujeres",
          "Mujeres",
          "Mujeres",
          "Mujeres",
          "Mujeres",
          "Mujeres",
          "Mujeres",
          "Mujeres",
          "Mujeres",
          "Mujeres",
          "Mujeres",
          "Mujeres",
          "Mujeres",
          "Mujeres",
          "Mujeres",
          "Mujeres",
          "Mujeres",
          "Mujeres",
          "Mujeres",
          "Mujeres",
          "Mujeres",
          "Mujeres",
          "Mujeres",
          "Mujeres",
          "Mujeres",
          "Mujeres",
          "Mujeres",
          "Mujeres",
          "Mujeres",
          "Mujeres",
          "Mujeres",
          "Mujeres",
          "Mujeres",
          "Mujeres",
          "Mujeres",
          "Mujeres",
          "Mujeres",
          "Mujeres",
          "Mujeres",
          "Mujeres",
          "Mujeres",
          "Mujeres",
          "Mujeres",
          "Mujeres",
          "Mujeres",
          "Mujeres",
          "Mujeres",
          "Mujeres",
          "Mujeres",
          "Mujeres",
          "Mujeres",
          "Mujeres",
          "Mujeres",
          "Mujeres",
          "Mujeres",
          "Mujeres",
          "Mujeres",
          "Mujeres",
          "Mujeres",
          "Mujeres",
          "Mujeres",
          "Mujeres",
          "Mujeres",
          "Mujeres",
          "Mujeres",
          "Mujeres",
          "Mujeres",
          "Mujeres",
          "Mujeres",
          "Mujeres",
          "Mujeres",
          "Mujeres",
          "Mujeres",
          "Mujeres",
          "Mujeres",
          "Mujeres",
          "Mujeres",
          "Mujeres",
          "Mujeres",
          "Mujeres",
          "Mujeres",
          "Mujeres",
          "Mujeres",
          "Mujeres",
          "Mujeres",
          "Mujeres",
          "Mujeres",
          "Mujeres",
          "Mujeres",
          "Mujeres",
          "Mujeres",
          "Mujeres",
          "Mujeres"
         ],
         "y": [
          2938,
          2911,
          2724,
          2718,
          2680,
          2676,
          2666,
          2662,
          2651,
          2650,
          2619,
          2574,
          2570,
          2554,
          2526,
          2512,
          2499,
          2468,
          2463,
          2451,
          2435,
          2430,
          2429,
          2410,
          2408,
          2283,
          2213,
          2150,
          2139,
          2135,
          2104,
          2032,
          2017,
          1836,
          1829,
          1593,
          1336,
          1268,
          1237,
          972,
          961,
          959,
          922,
          920,
          907,
          869,
          856,
          847,
          829,
          828,
          819,
          817,
          815,
          810,
          808,
          804,
          800,
          787,
          781,
          777,
          774,
          763,
          762,
          759,
          754,
          749,
          745,
          742,
          734,
          723,
          690,
          685,
          682,
          657,
          588,
          515,
          450,
          415,
          344,
          340,
          337,
          319,
          305,
          298,
          293,
          291,
          288,
          285,
          282,
          280,
          279,
          276,
          275,
          275,
          274,
          269,
          268,
          266,
          264,
          262,
          262,
          259,
          254,
          251,
          249,
          247,
          246,
          246,
          244,
          243,
          243,
          242,
          242,
          241,
          239,
          238,
          237,
          236,
          236,
          234,
          234,
          230,
          230,
          229,
          229,
          228,
          228,
          228,
          226,
          225,
          225,
          225,
          224,
          223,
          223,
          221,
          221,
          221,
          221,
          221,
          219,
          219,
          219,
          218,
          217,
          216,
          216,
          215,
          214,
          214,
          213,
          213,
          212,
          211,
          210,
          210,
          210,
          209,
          209,
          209,
          209,
          209,
          208,
          207,
          206,
          206,
          205,
          205,
          205,
          205,
          205,
          204,
          204,
          203,
          203,
          203,
          202,
          202,
          201,
          201,
          200,
          200,
          200,
          200,
          199,
          199,
          199,
          199,
          199,
          198,
          198,
          198,
          198,
          197,
          197,
          197,
          197,
          197,
          197,
          196,
          196,
          196,
          196,
          195,
          195,
          194,
          194,
          193,
          193,
          193,
          192,
          192,
          192,
          191,
          191,
          191,
          190,
          189,
          189,
          188,
          188,
          188,
          187,
          187,
          187,
          187,
          187,
          187,
          187,
          186,
          186,
          186,
          185,
          185,
          185,
          185,
          184,
          184,
          184,
          183,
          183,
          183,
          183,
          183,
          183,
          182,
          182,
          182,
          182,
          181,
          181,
          181,
          181,
          181,
          181,
          180,
          180,
          180,
          180,
          180,
          179,
          179,
          179,
          179,
          179,
          179,
          179,
          179,
          179,
          179,
          178,
          178,
          177,
          177,
          177,
          177,
          176,
          176,
          176,
          176,
          176,
          176,
          175,
          175,
          175,
          175,
          175,
          175,
          175,
          174,
          174,
          174,
          174,
          173,
          173,
          173,
          172,
          172,
          172,
          172,
          172,
          171,
          171,
          171,
          170,
          170,
          170,
          170,
          170,
          170,
          170,
          170,
          169,
          169,
          169,
          168,
          168,
          168,
          167,
          167,
          167,
          167,
          167,
          166,
          166,
          166,
          166,
          165,
          165,
          165,
          165,
          165,
          165,
          164,
          164,
          164,
          164,
          164,
          163,
          163,
          163,
          163,
          162,
          162,
          162,
          162,
          161,
          161,
          161,
          161,
          161,
          160,
          160,
          159,
          159,
          159,
          159,
          158,
          158,
          158,
          158,
          158,
          158,
          158,
          158,
          157,
          157,
          157,
          157,
          157,
          157,
          156,
          156,
          156,
          156,
          155,
          155,
          155,
          155,
          155,
          155,
          155,
          154,
          154,
          154,
          154,
          153,
          152,
          152,
          152,
          152,
          152,
          152,
          151,
          151,
          150,
          150,
          150,
          149,
          149,
          149,
          149,
          149,
          149,
          148,
          148,
          148,
          147,
          147,
          147,
          147,
          147,
          146,
          146,
          146,
          145,
          145,
          145,
          145,
          145,
          145,
          145,
          145,
          144,
          144,
          144,
          143,
          143,
          143,
          143,
          143,
          143,
          142,
          142,
          142,
          142,
          141,
          141,
          141,
          140,
          140,
          140,
          140,
          140,
          139,
          139,
          139,
          139,
          138,
          138,
          137,
          137,
          137,
          136,
          136,
          136,
          134,
          133,
          133,
          133,
          133,
          133,
          132,
          132,
          132,
          132,
          132,
          132,
          131,
          131,
          131,
          130,
          130,
          129,
          129,
          129,
          129,
          129,
          128,
          128,
          127,
          127,
          127,
          126,
          125,
          125,
          125,
          123,
          123,
          122,
          122,
          122,
          121,
          121,
          120,
          120,
          120,
          120,
          120,
          119,
          119,
          119,
          118,
          117,
          117,
          116,
          116,
          116,
          116,
          116,
          116,
          115,
          114,
          114,
          114,
          113,
          112,
          112,
          111,
          111,
          111,
          110,
          110,
          110,
          110,
          110,
          110,
          109,
          109,
          108,
          108,
          108,
          108,
          108,
          106,
          106,
          106,
          106,
          105,
          105,
          104,
          103,
          103,
          103,
          103,
          103,
          103,
          103,
          102,
          102,
          102,
          102,
          101,
          101,
          101,
          101,
          100,
          100,
          98,
          98,
          98,
          98,
          97,
          97,
          96,
          96,
          96,
          96,
          95,
          95,
          94,
          94,
          94,
          94,
          94,
          93,
          93,
          93,
          93,
          93,
          92,
          92,
          92,
          92,
          92,
          92,
          91,
          91,
          91,
          91,
          91,
          91,
          90,
          89,
          88,
          88,
          88,
          87,
          87,
          87,
          87,
          87,
          86,
          86,
          86,
          86,
          86,
          86,
          85,
          85,
          85,
          85,
          85,
          85,
          84,
          84,
          84,
          84,
          84,
          84,
          83,
          83,
          83,
          83,
          82,
          82,
          82,
          82,
          82,
          82,
          81,
          81,
          81,
          81,
          81,
          81,
          81,
          81,
          81,
          81,
          81,
          81,
          80,
          80,
          80,
          80,
          79,
          79,
          79,
          79,
          79,
          79,
          79,
          78,
          78,
          78,
          78,
          78,
          78,
          78,
          78,
          78,
          78,
          77,
          77,
          77,
          77,
          77,
          76,
          76,
          76,
          76,
          76,
          76,
          76,
          76,
          76,
          75,
          75,
          75,
          75,
          75,
          75,
          75,
          75,
          75,
          74,
          74,
          74,
          74,
          74,
          74,
          74,
          73,
          73,
          73,
          73,
          73,
          73,
          73,
          72,
          72,
          72,
          72,
          72,
          72,
          72,
          72,
          72,
          71,
          71,
          71,
          71,
          71,
          71,
          71,
          71,
          71,
          71,
          71,
          71,
          70,
          70,
          70,
          70,
          70,
          70,
          70,
          70,
          70,
          70,
          70,
          69,
          69,
          69,
          69,
          69,
          69,
          69,
          68,
          68,
          68,
          68,
          68,
          68,
          67,
          67,
          67,
          67,
          67,
          67,
          67,
          67,
          67,
          67,
          67,
          67,
          67,
          66,
          66,
          66,
          66,
          66,
          66,
          66,
          66,
          66,
          66,
          66,
          66,
          66,
          65,
          65,
          65,
          65,
          65,
          65,
          65,
          65,
          65,
          64,
          64,
          64,
          64,
          64,
          64,
          64,
          64,
          64,
          64,
          64,
          64,
          64,
          63,
          63,
          63,
          63,
          63,
          63,
          63,
          63,
          63,
          62,
          62,
          62,
          62,
          62,
          62,
          62,
          62,
          62,
          62,
          62,
          62,
          61,
          61,
          61,
          61,
          61,
          61,
          61,
          61,
          60,
          60,
          60,
          60,
          60,
          60,
          60,
          60,
          60,
          60,
          60,
          60,
          60,
          60,
          60,
          60,
          60,
          59,
          59,
          59,
          59,
          59,
          59,
          59,
          59,
          59,
          59,
          59,
          59,
          59,
          58,
          58,
          58,
          58,
          58,
          58,
          58,
          58,
          58,
          57,
          57,
          57,
          57,
          57,
          57,
          56,
          56,
          56,
          56,
          56,
          56,
          56,
          56,
          56,
          56,
          56,
          56,
          56,
          56,
          55,
          55,
          55,
          55,
          55,
          55,
          55,
          55,
          54,
          54,
          54,
          54,
          54,
          54,
          54,
          54,
          54,
          54,
          54,
          54,
          53,
          53,
          53,
          53,
          53,
          53,
          53,
          53,
          52,
          52,
          52,
          52,
          52,
          52,
          52,
          52,
          52,
          52,
          52,
          52,
          52,
          52,
          52,
          51,
          51,
          51,
          51,
          51,
          51,
          51,
          51,
          51,
          51,
          51,
          51,
          50,
          50,
          50,
          50,
          50,
          50,
          50,
          50,
          49,
          49,
          49,
          49,
          49,
          49,
          48,
          48,
          48,
          48,
          48,
          48,
          48,
          48,
          48,
          48,
          48,
          48,
          48,
          47,
          47,
          47,
          47,
          47,
          47,
          47,
          47,
          47,
          47,
          47,
          46,
          46,
          46,
          46,
          46,
          45,
          45,
          45,
          45,
          45,
          45,
          45,
          45,
          44,
          44,
          44,
          44,
          44,
          44,
          44,
          43,
          43,
          43,
          43,
          43,
          43,
          43,
          43,
          43,
          43,
          43,
          43,
          42,
          42,
          42,
          42,
          42,
          42,
          42,
          42,
          42,
          42,
          42,
          41,
          41,
          41,
          41,
          41,
          41,
          41,
          41,
          41,
          41,
          41,
          41,
          41,
          41,
          41,
          41,
          40,
          40,
          40,
          40,
          40,
          40,
          40,
          40,
          40,
          40,
          40,
          39,
          39,
          39,
          39,
          39,
          39,
          39,
          39,
          38,
          38,
          38,
          38,
          38,
          38,
          38,
          37,
          37,
          37,
          37,
          37,
          37,
          37,
          37,
          37,
          37,
          37,
          37,
          37,
          37,
          36,
          36,
          36,
          36,
          36,
          36,
          36,
          36,
          35,
          35,
          35,
          35,
          35,
          35,
          35,
          35,
          35,
          35,
          34,
          34,
          34,
          34,
          34,
          34,
          34,
          34,
          34,
          34,
          34,
          34,
          33,
          33,
          33,
          33,
          33,
          33,
          33,
          33,
          33,
          33,
          33,
          33,
          32,
          32,
          32,
          32,
          32,
          32,
          32,
          32,
          31,
          31,
          31,
          31,
          31,
          31,
          31,
          31,
          31,
          31,
          31,
          31,
          31,
          31,
          30,
          30,
          30,
          30,
          30,
          30,
          30,
          30,
          30,
          30,
          30,
          29,
          29,
          29,
          29,
          29,
          29,
          29,
          29,
          29,
          29,
          28,
          28,
          28,
          28,
          28,
          28,
          28,
          28,
          28,
          27,
          27,
          27,
          27,
          27,
          27,
          27,
          27,
          27,
          26,
          26,
          26,
          26,
          26,
          26,
          26,
          26,
          25,
          25,
          25,
          25,
          25,
          25,
          25,
          25,
          25,
          25,
          25,
          24,
          24,
          24,
          24,
          24,
          24,
          24,
          23,
          23,
          23,
          23,
          22,
          22,
          22,
          22,
          22,
          22,
          21,
          21,
          21,
          21,
          21,
          21,
          21,
          21,
          20,
          20,
          20,
          20,
          20,
          20,
          20,
          20,
          20,
          20,
          20,
          19,
          19,
          19,
          19,
          19,
          19,
          19,
          19,
          19,
          19,
          19,
          19,
          19,
          18,
          18,
          18,
          18,
          18,
          18,
          18,
          18,
          18,
          17,
          17,
          17,
          17,
          17,
          17,
          17,
          17,
          16,
          16,
          16,
          16,
          16,
          16,
          16,
          15,
          15,
          15,
          15,
          15,
          15,
          14,
          14,
          14,
          14,
          13,
          13,
          13,
          13,
          13,
          13,
          13,
          12,
          12,
          12,
          12,
          12,
          12,
          12,
          12,
          11,
          11,
          11,
          11,
          11,
          11,
          11,
          11,
          10,
          10,
          10,
          10,
          10,
          10,
          10,
          10,
          9,
          9,
          9,
          9,
          9,
          9,
          9,
          9,
          9,
          9,
          9,
          9,
          9,
          9,
          9,
          9,
          8,
          8,
          8,
          8,
          8,
          8,
          8,
          8,
          8,
          7,
          7,
          7,
          7,
          7,
          7,
          7,
          7,
          7,
          7,
          7,
          7,
          7,
          7,
          7,
          7,
          6,
          6,
          6,
          6,
          6,
          6,
          6,
          6,
          6,
          6,
          6,
          6,
          6,
          6,
          6,
          6,
          5,
          5,
          5,
          5,
          5,
          5,
          5,
          5,
          5,
          5,
          5,
          5,
          5,
          4,
          4,
          4,
          4,
          4,
          4,
          4,
          4,
          4,
          4,
          4,
          4,
          4,
          4,
          4,
          4,
          4,
          4,
          4,
          4,
          3,
          3,
          3,
          3,
          3,
          3,
          3,
          3,
          3,
          3,
          3,
          3,
          3,
          3,
          3,
          3,
          3,
          3,
          3,
          2,
          2,
          2,
          2,
          2,
          2,
          2,
          2,
          2,
          2,
          2,
          2,
          2,
          2,
          2,
          2,
          2,
          2,
          2,
          2,
          2,
          2,
          2,
          2,
          2,
          2,
          2,
          2,
          1,
          1,
          1,
          1,
          1,
          1,
          1,
          1,
          1,
          1,
          1,
          1,
          1,
          1,
          1,
          1,
          1,
          1,
          1,
          1,
          1,
          1,
          1,
          1,
          1,
          1,
          1,
          1,
          1,
          1,
          1,
          1,
          1,
          1,
          0,
          0,
          0,
          0,
          0,
          0,
          0,
          0,
          0,
          0,
          0,
          0,
          0,
          0,
          0,
          0,
          0,
          0,
          0,
          0,
          0,
          0,
          0,
          0,
          0,
          0,
          0,
          0,
          0,
          0,
          0,
          0,
          0,
          0,
          0,
          0,
          0,
          0,
          0,
          0,
          0,
          0,
          0,
          0,
          0,
          0,
          0,
          0,
          0,
          0,
          0,
          0,
          0,
          0,
          0,
          0,
          0,
          0,
          0,
          0,
          0,
          0,
          0,
          0,
          0,
          0,
          0,
          0,
          0,
          0,
          0,
          0,
          0,
          0,
          0,
          0,
          0,
          0,
          0,
          0,
          0,
          0,
          0,
          0,
          0,
          0,
          0,
          0,
          0,
          0,
          0,
          0,
          0,
          0,
          0,
          0,
          0,
          0,
          0,
          0,
          0,
          0,
          0,
          0,
          0,
          0,
          0,
          0,
          0,
          0,
          0,
          0,
          0,
          0,
          0,
          0,
          0,
          0,
          0,
          0,
          0,
          0,
          0,
          0,
          0,
          0,
          0,
          0,
          0,
          0,
          0,
          0,
          0,
          0,
          0,
          0,
          0,
          0,
          0,
          0,
          0,
          0,
          0,
          0,
          0,
          0,
          0,
          0,
          0,
          0,
          0,
          0,
          0,
          0,
          0,
          0,
          0,
          0,
          0,
          0,
          0,
          0,
          0,
          0,
          0,
          0,
          0,
          0,
          0,
          0,
          0,
          0,
          0,
          0,
          0,
          0,
          0,
          0,
          0,
          0,
          0,
          0,
          0,
          0,
          0,
          0,
          0,
          0,
          0,
          0,
          0,
          0,
          0,
          0,
          0,
          0,
          0,
          0,
          0,
          0,
          0,
          0,
          0,
          0,
          0,
          0,
          0,
          0,
          0,
          0,
          0,
          0,
          0,
          0,
          0,
          0,
          0,
          0,
          0,
          0,
          0,
          0,
          0,
          0,
          0,
          0,
          0,
          0,
          0,
          0,
          0,
          0,
          0,
          0,
          0,
          0
         ]
        }
       ],
       "layout": {
        "legend": {
         "bgcolor": "#FFFFFF",
         "font": {
          "color": "#666666"
         }
        },
        "paper_bgcolor": "#FFFFFF",
        "plot_bgcolor": "#E5E5E5",
        "template": {
         "data": {
          "bar": [
           {
            "error_x": {
             "color": "#2a3f5f"
            },
            "error_y": {
             "color": "#2a3f5f"
            },
            "marker": {
             "line": {
              "color": "#E5ECF6",
              "width": 0.5
             },
             "pattern": {
              "fillmode": "overlay",
              "size": 10,
              "solidity": 0.2
             }
            },
            "type": "bar"
           }
          ],
          "barpolar": [
           {
            "marker": {
             "line": {
              "color": "#E5ECF6",
              "width": 0.5
             },
             "pattern": {
              "fillmode": "overlay",
              "size": 10,
              "solidity": 0.2
             }
            },
            "type": "barpolar"
           }
          ],
          "carpet": [
           {
            "aaxis": {
             "endlinecolor": "#2a3f5f",
             "gridcolor": "white",
             "linecolor": "white",
             "minorgridcolor": "white",
             "startlinecolor": "#2a3f5f"
            },
            "baxis": {
             "endlinecolor": "#2a3f5f",
             "gridcolor": "white",
             "linecolor": "white",
             "minorgridcolor": "white",
             "startlinecolor": "#2a3f5f"
            },
            "type": "carpet"
           }
          ],
          "choropleth": [
           {
            "colorbar": {
             "outlinewidth": 0,
             "ticks": ""
            },
            "type": "choropleth"
           }
          ],
          "contour": [
           {
            "colorbar": {
             "outlinewidth": 0,
             "ticks": ""
            },
            "colorscale": [
             [
              0,
              "#0d0887"
             ],
             [
              0.1111111111111111,
              "#46039f"
             ],
             [
              0.2222222222222222,
              "#7201a8"
             ],
             [
              0.3333333333333333,
              "#9c179e"
             ],
             [
              0.4444444444444444,
              "#bd3786"
             ],
             [
              0.5555555555555556,
              "#d8576b"
             ],
             [
              0.6666666666666666,
              "#ed7953"
             ],
             [
              0.7777777777777778,
              "#fb9f3a"
             ],
             [
              0.8888888888888888,
              "#fdca26"
             ],
             [
              1,
              "#f0f921"
             ]
            ],
            "type": "contour"
           }
          ],
          "contourcarpet": [
           {
            "colorbar": {
             "outlinewidth": 0,
             "ticks": ""
            },
            "type": "contourcarpet"
           }
          ],
          "heatmap": [
           {
            "colorbar": {
             "outlinewidth": 0,
             "ticks": ""
            },
            "colorscale": [
             [
              0,
              "#0d0887"
             ],
             [
              0.1111111111111111,
              "#46039f"
             ],
             [
              0.2222222222222222,
              "#7201a8"
             ],
             [
              0.3333333333333333,
              "#9c179e"
             ],
             [
              0.4444444444444444,
              "#bd3786"
             ],
             [
              0.5555555555555556,
              "#d8576b"
             ],
             [
              0.6666666666666666,
              "#ed7953"
             ],
             [
              0.7777777777777778,
              "#fb9f3a"
             ],
             [
              0.8888888888888888,
              "#fdca26"
             ],
             [
              1,
              "#f0f921"
             ]
            ],
            "type": "heatmap"
           }
          ],
          "heatmapgl": [
           {
            "colorbar": {
             "outlinewidth": 0,
             "ticks": ""
            },
            "colorscale": [
             [
              0,
              "#0d0887"
             ],
             [
              0.1111111111111111,
              "#46039f"
             ],
             [
              0.2222222222222222,
              "#7201a8"
             ],
             [
              0.3333333333333333,
              "#9c179e"
             ],
             [
              0.4444444444444444,
              "#bd3786"
             ],
             [
              0.5555555555555556,
              "#d8576b"
             ],
             [
              0.6666666666666666,
              "#ed7953"
             ],
             [
              0.7777777777777778,
              "#fb9f3a"
             ],
             [
              0.8888888888888888,
              "#fdca26"
             ],
             [
              1,
              "#f0f921"
             ]
            ],
            "type": "heatmapgl"
           }
          ],
          "histogram": [
           {
            "marker": {
             "pattern": {
              "fillmode": "overlay",
              "size": 10,
              "solidity": 0.2
             }
            },
            "type": "histogram"
           }
          ],
          "histogram2d": [
           {
            "colorbar": {
             "outlinewidth": 0,
             "ticks": ""
            },
            "colorscale": [
             [
              0,
              "#0d0887"
             ],
             [
              0.1111111111111111,
              "#46039f"
             ],
             [
              0.2222222222222222,
              "#7201a8"
             ],
             [
              0.3333333333333333,
              "#9c179e"
             ],
             [
              0.4444444444444444,
              "#bd3786"
             ],
             [
              0.5555555555555556,
              "#d8576b"
             ],
             [
              0.6666666666666666,
              "#ed7953"
             ],
             [
              0.7777777777777778,
              "#fb9f3a"
             ],
             [
              0.8888888888888888,
              "#fdca26"
             ],
             [
              1,
              "#f0f921"
             ]
            ],
            "type": "histogram2d"
           }
          ],
          "histogram2dcontour": [
           {
            "colorbar": {
             "outlinewidth": 0,
             "ticks": ""
            },
            "colorscale": [
             [
              0,
              "#0d0887"
             ],
             [
              0.1111111111111111,
              "#46039f"
             ],
             [
              0.2222222222222222,
              "#7201a8"
             ],
             [
              0.3333333333333333,
              "#9c179e"
             ],
             [
              0.4444444444444444,
              "#bd3786"
             ],
             [
              0.5555555555555556,
              "#d8576b"
             ],
             [
              0.6666666666666666,
              "#ed7953"
             ],
             [
              0.7777777777777778,
              "#fb9f3a"
             ],
             [
              0.8888888888888888,
              "#fdca26"
             ],
             [
              1,
              "#f0f921"
             ]
            ],
            "type": "histogram2dcontour"
           }
          ],
          "mesh3d": [
           {
            "colorbar": {
             "outlinewidth": 0,
             "ticks": ""
            },
            "type": "mesh3d"
           }
          ],
          "parcoords": [
           {
            "line": {
             "colorbar": {
              "outlinewidth": 0,
              "ticks": ""
             }
            },
            "type": "parcoords"
           }
          ],
          "pie": [
           {
            "automargin": true,
            "type": "pie"
           }
          ],
          "scatter": [
           {
            "fillpattern": {
             "fillmode": "overlay",
             "size": 10,
             "solidity": 0.2
            },
            "type": "scatter"
           }
          ],
          "scatter3d": [
           {
            "line": {
             "colorbar": {
              "outlinewidth": 0,
              "ticks": ""
             }
            },
            "marker": {
             "colorbar": {
              "outlinewidth": 0,
              "ticks": ""
             }
            },
            "type": "scatter3d"
           }
          ],
          "scattercarpet": [
           {
            "marker": {
             "colorbar": {
              "outlinewidth": 0,
              "ticks": ""
             }
            },
            "type": "scattercarpet"
           }
          ],
          "scattergeo": [
           {
            "marker": {
             "colorbar": {
              "outlinewidth": 0,
              "ticks": ""
             }
            },
            "type": "scattergeo"
           }
          ],
          "scattergl": [
           {
            "marker": {
             "colorbar": {
              "outlinewidth": 0,
              "ticks": ""
             }
            },
            "type": "scattergl"
           }
          ],
          "scattermapbox": [
           {
            "marker": {
             "colorbar": {
              "outlinewidth": 0,
              "ticks": ""
             }
            },
            "type": "scattermapbox"
           }
          ],
          "scatterpolar": [
           {
            "marker": {
             "colorbar": {
              "outlinewidth": 0,
              "ticks": ""
             }
            },
            "type": "scatterpolar"
           }
          ],
          "scatterpolargl": [
           {
            "marker": {
             "colorbar": {
              "outlinewidth": 0,
              "ticks": ""
             }
            },
            "type": "scatterpolargl"
           }
          ],
          "scatterternary": [
           {
            "marker": {
             "colorbar": {
              "outlinewidth": 0,
              "ticks": ""
             }
            },
            "type": "scatterternary"
           }
          ],
          "surface": [
           {
            "colorbar": {
             "outlinewidth": 0,
             "ticks": ""
            },
            "colorscale": [
             [
              0,
              "#0d0887"
             ],
             [
              0.1111111111111111,
              "#46039f"
             ],
             [
              0.2222222222222222,
              "#7201a8"
             ],
             [
              0.3333333333333333,
              "#9c179e"
             ],
             [
              0.4444444444444444,
              "#bd3786"
             ],
             [
              0.5555555555555556,
              "#d8576b"
             ],
             [
              0.6666666666666666,
              "#ed7953"
             ],
             [
              0.7777777777777778,
              "#fb9f3a"
             ],
             [
              0.8888888888888888,
              "#fdca26"
             ],
             [
              1,
              "#f0f921"
             ]
            ],
            "type": "surface"
           }
          ],
          "table": [
           {
            "cells": {
             "fill": {
              "color": "#EBF0F8"
             },
             "line": {
              "color": "white"
             }
            },
            "header": {
             "fill": {
              "color": "#C8D4E3"
             },
             "line": {
              "color": "white"
             }
            },
            "type": "table"
           }
          ]
         },
         "layout": {
          "annotationdefaults": {
           "arrowcolor": "#2a3f5f",
           "arrowhead": 0,
           "arrowwidth": 1
          },
          "autotypenumbers": "strict",
          "coloraxis": {
           "colorbar": {
            "outlinewidth": 0,
            "ticks": ""
           }
          },
          "colorscale": {
           "diverging": [
            [
             0,
             "#8e0152"
            ],
            [
             0.1,
             "#c51b7d"
            ],
            [
             0.2,
             "#de77ae"
            ],
            [
             0.3,
             "#f1b6da"
            ],
            [
             0.4,
             "#fde0ef"
            ],
            [
             0.5,
             "#f7f7f7"
            ],
            [
             0.6,
             "#e6f5d0"
            ],
            [
             0.7,
             "#b8e186"
            ],
            [
             0.8,
             "#7fbc41"
            ],
            [
             0.9,
             "#4d9221"
            ],
            [
             1,
             "#276419"
            ]
           ],
           "sequential": [
            [
             0,
             "#0d0887"
            ],
            [
             0.1111111111111111,
             "#46039f"
            ],
            [
             0.2222222222222222,
             "#7201a8"
            ],
            [
             0.3333333333333333,
             "#9c179e"
            ],
            [
             0.4444444444444444,
             "#bd3786"
            ],
            [
             0.5555555555555556,
             "#d8576b"
            ],
            [
             0.6666666666666666,
             "#ed7953"
            ],
            [
             0.7777777777777778,
             "#fb9f3a"
            ],
            [
             0.8888888888888888,
             "#fdca26"
            ],
            [
             1,
             "#f0f921"
            ]
           ],
           "sequentialminus": [
            [
             0,
             "#0d0887"
            ],
            [
             0.1111111111111111,
             "#46039f"
            ],
            [
             0.2222222222222222,
             "#7201a8"
            ],
            [
             0.3333333333333333,
             "#9c179e"
            ],
            [
             0.4444444444444444,
             "#bd3786"
            ],
            [
             0.5555555555555556,
             "#d8576b"
            ],
            [
             0.6666666666666666,
             "#ed7953"
            ],
            [
             0.7777777777777778,
             "#fb9f3a"
            ],
            [
             0.8888888888888888,
             "#fdca26"
            ],
            [
             1,
             "#f0f921"
            ]
           ]
          },
          "colorway": [
           "#636efa",
           "#EF553B",
           "#00cc96",
           "#ab63fa",
           "#FFA15A",
           "#19d3f3",
           "#FF6692",
           "#B6E880",
           "#FF97FF",
           "#FECB52"
          ],
          "font": {
           "color": "#2a3f5f"
          },
          "geo": {
           "bgcolor": "white",
           "lakecolor": "white",
           "landcolor": "#E5ECF6",
           "showlakes": true,
           "showland": true,
           "subunitcolor": "white"
          },
          "hoverlabel": {
           "align": "left"
          },
          "hovermode": "closest",
          "mapbox": {
           "style": "light"
          },
          "paper_bgcolor": "white",
          "plot_bgcolor": "#E5ECF6",
          "polar": {
           "angularaxis": {
            "gridcolor": "white",
            "linecolor": "white",
            "ticks": ""
           },
           "bgcolor": "#E5ECF6",
           "radialaxis": {
            "gridcolor": "white",
            "linecolor": "white",
            "ticks": ""
           }
          },
          "scene": {
           "xaxis": {
            "backgroundcolor": "#E5ECF6",
            "gridcolor": "white",
            "gridwidth": 2,
            "linecolor": "white",
            "showbackground": true,
            "ticks": "",
            "zerolinecolor": "white"
           },
           "yaxis": {
            "backgroundcolor": "#E5ECF6",
            "gridcolor": "white",
            "gridwidth": 2,
            "linecolor": "white",
            "showbackground": true,
            "ticks": "",
            "zerolinecolor": "white"
           },
           "zaxis": {
            "backgroundcolor": "#E5ECF6",
            "gridcolor": "white",
            "gridwidth": 2,
            "linecolor": "white",
            "showbackground": true,
            "ticks": "",
            "zerolinecolor": "white"
           }
          },
          "shapedefaults": {
           "line": {
            "color": "#2a3f5f"
           }
          },
          "ternary": {
           "aaxis": {
            "gridcolor": "white",
            "linecolor": "white",
            "ticks": ""
           },
           "baxis": {
            "gridcolor": "white",
            "linecolor": "white",
            "ticks": ""
           },
           "bgcolor": "#E5ECF6",
           "caxis": {
            "gridcolor": "white",
            "linecolor": "white",
            "ticks": ""
           }
          },
          "title": {
           "x": 0.05
          },
          "xaxis": {
           "automargin": true,
           "gridcolor": "white",
           "linecolor": "white",
           "ticks": "",
           "title": {
            "standoff": 15
           },
           "zerolinecolor": "white",
           "zerolinewidth": 2
          },
          "yaxis": {
           "automargin": true,
           "gridcolor": "white",
           "linecolor": "white",
           "ticks": "",
           "title": {
            "standoff": 15
           },
           "zerolinecolor": "white",
           "zerolinewidth": 2
          }
         }
        },
        "title": {
         "font": {
          "color": "#151516"
         },
         "text": "Suicidio Hombres vs Mujeres"
        },
        "xaxis": {
         "gridcolor": "#F6F6F6",
         "showgrid": true,
         "tickfont": {
          "color": "#666666"
         },
         "title": {
          "font": {
           "color": "#666666"
          },
          "text": "Sexo"
         },
         "zerolinecolor": "#F6F6F6"
        },
        "yaxis": {
         "gridcolor": "#F6F6F6",
         "showgrid": true,
         "tickfont": {
          "color": "#666666"
         },
         "title": {
          "font": {
           "color": "#666666"
          },
          "text": "Periodo"
         },
         "zerolinecolor": "#F6F6F6"
        }
       }
      },
      "text/html": [
       "<div>                            <div id=\"46594532-10c5-4d29-9fb1-b73eb779b054\" class=\"plotly-graph-div\" style=\"height:525px; width:100%;\"></div>            <script type=\"text/javascript\">                require([\"plotly\"], function(Plotly) {                    window.PLOTLYENV=window.PLOTLYENV || {};\n",
       "                    window.PLOTLYENV.BASE_URL='https://plot.ly';                                    if (document.getElementById(\"46594532-10c5-4d29-9fb1-b73eb779b054\")) {                    Plotly.newPlot(                        \"46594532-10c5-4d29-9fb1-b73eb779b054\",                        [{\"marker\":{\"color\":\"rgba(226, 74, 51, 0.6)\",\"line\":{\"color\":\"rgba(226, 74, 51, 1.0)\",\"width\":1}},\"name\":\"Total\",\"orientation\":\"v\",\"text\":\"\",\"x\":[\"Hombres\",\"Hombres\",\"Hombres\",\"Hombres\",\"Hombres\",\"Hombres\",\"Hombres\",\"Hombres\",\"Hombres\",\"Hombres\",\"Hombres\",\"Hombres\",\"Hombres\",\"Hombres\",\"Hombres\",\"Hombres\",\"Hombres\",\"Hombres\",\"Hombres\",\"Hombres\",\"Hombres\",\"Hombres\",\"Hombres\",\"Hombres\",\"Hombres\",\"Hombres\",\"Hombres\",\"Hombres\",\"Hombres\",\"Hombres\",\"Hombres\",\"Hombres\",\"Hombres\",\"Hombres\",\"Hombres\",\"Hombres\",\"Hombres\",\"Hombres\",\"Hombres\",\"Mujeres\",\"Mujeres\",\"Mujeres\",\"Mujeres\",\"Mujeres\",\"Mujeres\",\"Mujeres\",\"Mujeres\",\"Mujeres\",\"Mujeres\",\"Mujeres\",\"Mujeres\",\"Mujeres\",\"Mujeres\",\"Mujeres\",\"Mujeres\",\"Mujeres\",\"Mujeres\",\"Mujeres\",\"Mujeres\",\"Mujeres\",\"Mujeres\",\"Mujeres\",\"Mujeres\",\"Mujeres\",\"Mujeres\",\"Mujeres\",\"Mujeres\",\"Mujeres\",\"Mujeres\",\"Mujeres\",\"Mujeres\",\"Mujeres\",\"Mujeres\",\"Mujeres\",\"Mujeres\",\"Mujeres\",\"Mujeres\",\"Mujeres\",\"Hombres\",\"Hombres\",\"Hombres\",\"Hombres\",\"Hombres\",\"Hombres\",\"Hombres\",\"Hombres\",\"Hombres\",\"Hombres\",\"Hombres\",\"Hombres\",\"Hombres\",\"Hombres\",\"Hombres\",\"Hombres\",\"Hombres\",\"Hombres\",\"Hombres\",\"Hombres\",\"Hombres\",\"Hombres\",\"Hombres\",\"Hombres\",\"Hombres\",\"Hombres\",\"Hombres\",\"Hombres\",\"Hombres\",\"Hombres\",\"Hombres\",\"Hombres\",\"Hombres\",\"Hombres\",\"Hombres\",\"Hombres\",\"Hombres\",\"Hombres\",\"Hombres\",\"Hombres\",\"Hombres\",\"Hombres\",\"Hombres\",\"Hombres\",\"Hombres\",\"Hombres\",\"Hombres\",\"Hombres\",\"Hombres\",\"Hombres\",\"Hombres\",\"Hombres\",\"Hombres\",\"Hombres\",\"Hombres\",\"Hombres\",\"Hombres\",\"Hombres\",\"Hombres\",\"Hombres\",\"Hombres\",\"Hombres\",\"Hombres\",\"Hombres\",\"Hombres\",\"Hombres\",\"Hombres\",\"Hombres\",\"Hombres\",\"Hombres\",\"Hombres\",\"Hombres\",\"Hombres\",\"Hombres\",\"Hombres\",\"Hombres\",\"Hombres\",\"Hombres\",\"Hombres\",\"Hombres\",\"Hombres\",\"Hombres\",\"Hombres\",\"Hombres\",\"Hombres\",\"Hombres\",\"Hombres\",\"Hombres\",\"Hombres\",\"Hombres\",\"Hombres\",\"Hombres\",\"Hombres\",\"Hombres\",\"Hombres\",\"Hombres\",\"Hombres\",\"Hombres\",\"Hombres\",\"Hombres\",\"Hombres\",\"Hombres\",\"Hombres\",\"Hombres\",\"Hombres\",\"Hombres\",\"Hombres\",\"Hombres\",\"Hombres\",\"Hombres\",\"Hombres\",\"Hombres\",\"Hombres\",\"Hombres\",\"Hombres\",\"Hombres\",\"Hombres\",\"Hombres\",\"Hombres\",\"Hombres\",\"Hombres\",\"Hombres\",\"Hombres\",\"Hombres\",\"Hombres\",\"Hombres\",\"Hombres\",\"Hombres\",\"Hombres\",\"Hombres\",\"Hombres\",\"Hombres\",\"Hombres\",\"Hombres\",\"Hombres\",\"Hombres\",\"Hombres\",\"Hombres\",\"Hombres\",\"Hombres\",\"Hombres\",\"Hombres\",\"Hombres\",\"Hombres\",\"Hombres\",\"Hombres\",\"Hombres\",\"Hombres\",\"Hombres\",\"Hombres\",\"Hombres\",\"Hombres\",\"Hombres\",\"Hombres\",\"Hombres\",\"Hombres\",\"Hombres\",\"Hombres\",\"Hombres\",\"Hombres\",\"Hombres\",\"Hombres\",\"Hombres\",\"Hombres\",\"Hombres\",\"Hombres\",\"Hombres\",\"Hombres\",\"Hombres\",\"Hombres\",\"Hombres\",\"Hombres\",\"Hombres\",\"Hombres\",\"Hombres\",\"Hombres\",\"Hombres\",\"Hombres\",\"Hombres\",\"Hombres\",\"Hombres\",\"Hombres\",\"Hombres\",\"Hombres\",\"Hombres\",\"Hombres\",\"Hombres\",\"Hombres\",\"Hombres\",\"Hombres\",\"Hombres\",\"Hombres\",\"Hombres\",\"Hombres\",\"Hombres\",\"Hombres\",\"Hombres\",\"Hombres\",\"Hombres\",\"Hombres\",\"Hombres\",\"Hombres\",\"Hombres\",\"Hombres\",\"Hombres\",\"Hombres\",\"Hombres\",\"Hombres\",\"Hombres\",\"Hombres\",\"Hombres\",\"Hombres\",\"Hombres\",\"Hombres\",\"Hombres\",\"Hombres\",\"Hombres\",\"Hombres\",\"Hombres\",\"Hombres\",\"Hombres\",\"Hombres\",\"Hombres\",\"Hombres\",\"Hombres\",\"Hombres\",\"Hombres\",\"Hombres\",\"Hombres\",\"Hombres\",\"Hombres\",\"Hombres\",\"Hombres\",\"Hombres\",\"Hombres\",\"Hombres\",\"Hombres\",\"Hombres\",\"Hombres\",\"Hombres\",\"Hombres\",\"Hombres\",\"Hombres\",\"Hombres\",\"Hombres\",\"Hombres\",\"Hombres\",\"Hombres\",\"Hombres\",\"Hombres\",\"Hombres\",\"Hombres\",\"Hombres\",\"Hombres\",\"Hombres\",\"Hombres\",\"Hombres\",\"Hombres\",\"Hombres\",\"Hombres\",\"Hombres\",\"Hombres\",\"Hombres\",\"Hombres\",\"Hombres\",\"Hombres\",\"Hombres\",\"Hombres\",\"Hombres\",\"Hombres\",\"Hombres\",\"Hombres\",\"Hombres\",\"Hombres\",\"Hombres\",\"Hombres\",\"Hombres\",\"Hombres\",\"Hombres\",\"Hombres\",\"Hombres\",\"Hombres\",\"Hombres\",\"Hombres\",\"Hombres\",\"Hombres\",\"Hombres\",\"Hombres\",\"Hombres\",\"Hombres\",\"Hombres\",\"Hombres\",\"Hombres\",\"Hombres\",\"Hombres\",\"Hombres\",\"Hombres\",\"Hombres\",\"Hombres\",\"Hombres\",\"Hombres\",\"Hombres\",\"Hombres\",\"Hombres\",\"Hombres\",\"Hombres\",\"Hombres\",\"Hombres\",\"Hombres\",\"Hombres\",\"Hombres\",\"Hombres\",\"Hombres\",\"Hombres\",\"Hombres\",\"Hombres\",\"Hombres\",\"Hombres\",\"Hombres\",\"Hombres\",\"Hombres\",\"Hombres\",\"Hombres\",\"Hombres\",\"Hombres\",\"Hombres\",\"Hombres\",\"Hombres\",\"Hombres\",\"Hombres\",\"Hombres\",\"Hombres\",\"Hombres\",\"Hombres\",\"Hombres\",\"Hombres\",\"Hombres\",\"Hombres\",\"Hombres\",\"Hombres\",\"Hombres\",\"Hombres\",\"Hombres\",\"Hombres\",\"Hombres\",\"Hombres\",\"Hombres\",\"Hombres\",\"Hombres\",\"Hombres\",\"Hombres\",\"Hombres\",\"Hombres\",\"Hombres\",\"Hombres\",\"Hombres\",\"Hombres\",\"Hombres\",\"Hombres\",\"Hombres\",\"Hombres\",\"Hombres\",\"Hombres\",\"Hombres\",\"Hombres\",\"Hombres\",\"Hombres\",\"Hombres\",\"Hombres\",\"Hombres\",\"Hombres\",\"Hombres\",\"Hombres\",\"Hombres\",\"Hombres\",\"Hombres\",\"Hombres\",\"Hombres\",\"Hombres\",\"Hombres\",\"Hombres\",\"Hombres\",\"Hombres\",\"Hombres\",\"Hombres\",\"Hombres\",\"Hombres\",\"Hombres\",\"Hombres\",\"Hombres\",\"Hombres\",\"Hombres\",\"Hombres\",\"Hombres\",\"Hombres\",\"Hombres\",\"Hombres\",\"Hombres\",\"Hombres\",\"Hombres\",\"Hombres\",\"Hombres\",\"Hombres\",\"Hombres\",\"Hombres\",\"Hombres\",\"Hombres\",\"Hombres\",\"Hombres\",\"Hombres\",\"Hombres\",\"Hombres\",\"Hombres\",\"Hombres\",\"Hombres\",\"Hombres\",\"Hombres\",\"Mujeres\",\"Hombres\",\"Hombres\",\"Hombres\",\"Hombres\",\"Hombres\",\"Hombres\",\"Hombres\",\"Hombres\",\"Hombres\",\"Hombres\",\"Hombres\",\"Mujeres\",\"Hombres\",\"Hombres\",\"Hombres\",\"Hombres\",\"Hombres\",\"Hombres\",\"Hombres\",\"Hombres\",\"Hombres\",\"Hombres\",\"Mujeres\",\"Hombres\",\"Hombres\",\"Hombres\",\"Hombres\",\"Hombres\",\"Hombres\",\"Hombres\",\"Mujeres\",\"Hombres\",\"Hombres\",\"Hombres\",\"Hombres\",\"Mujeres\",\"Hombres\",\"Hombres\",\"Hombres\",\"Mujeres\",\"Hombres\",\"Hombres\",\"Hombres\",\"Hombres\",\"Hombres\",\"Hombres\",\"Hombres\",\"Hombres\",\"Hombres\",\"Hombres\",\"Hombres\",\"Hombres\",\"Hombres\",\"Hombres\",\"Hombres\",\"Hombres\",\"Hombres\",\"Hombres\",\"Hombres\",\"Hombres\",\"Hombres\",\"Hombres\",\"Hombres\",\"Hombres\",\"Mujeres\",\"Hombres\",\"Hombres\",\"Mujeres\",\"Hombres\",\"Hombres\",\"Mujeres\",\"Hombres\",\"Mujeres\",\"Mujeres\",\"Hombres\",\"Mujeres\",\"Hombres\",\"Mujeres\",\"Mujeres\",\"Hombres\",\"Hombres\",\"Mujeres\",\"Mujeres\",\"Mujeres\",\"Hombres\",\"Mujeres\",\"Mujeres\",\"Hombres\",\"Hombres\",\"Hombres\",\"Hombres\",\"Mujeres\",\"Mujeres\",\"Hombres\",\"Hombres\",\"Mujeres\",\"Mujeres\",\"Mujeres\",\"Hombres\",\"Mujeres\",\"Mujeres\",\"Hombres\",\"Mujeres\",\"Mujeres\",\"Mujeres\",\"Mujeres\",\"Mujeres\",\"Hombres\",\"Mujeres\",\"Mujeres\",\"Hombres\",\"Hombres\",\"Mujeres\",\"Hombres\",\"Hombres\",\"Hombres\",\"Hombres\",\"Hombres\",\"Hombres\",\"Hombres\",\"Mujeres\",\"Mujeres\",\"Hombres\",\"Hombres\",\"Hombres\",\"Hombres\",\"Mujeres\",\"Mujeres\",\"Hombres\",\"Hombres\",\"Mujeres\",\"Hombres\",\"Mujeres\",\"Hombres\",\"Mujeres\",\"Mujeres\",\"Mujeres\",\"Hombres\",\"Mujeres\",\"Mujeres\",\"Hombres\",\"Mujeres\",\"Mujeres\",\"Mujeres\",\"Hombres\",\"Mujeres\",\"Hombres\",\"Mujeres\",\"Mujeres\",\"Mujeres\",\"Mujeres\",\"Mujeres\",\"Mujeres\",\"Hombres\",\"Mujeres\",\"Mujeres\",\"Mujeres\",\"Hombres\",\"Mujeres\",\"Mujeres\",\"Mujeres\",\"Hombres\",\"Mujeres\",\"Mujeres\",\"Mujeres\",\"Hombres\",\"Mujeres\",\"Hombres\",\"Hombres\",\"Mujeres\",\"Hombres\",\"Mujeres\",\"Hombres\",\"Mujeres\",\"Hombres\",\"Hombres\",\"Mujeres\",\"Mujeres\",\"Mujeres\",\"Mujeres\",\"Mujeres\",\"Hombres\",\"Hombres\",\"Mujeres\",\"Mujeres\",\"Mujeres\",\"Mujeres\",\"Mujeres\",\"Mujeres\",\"Mujeres\",\"Mujeres\",\"Mujeres\",\"Hombres\",\"Mujeres\",\"Mujeres\",\"Mujeres\",\"Hombres\",\"Mujeres\",\"Mujeres\",\"Mujeres\",\"Mujeres\",\"Mujeres\",\"Mujeres\",\"Mujeres\",\"Mujeres\",\"Mujeres\",\"Mujeres\",\"Mujeres\",\"Mujeres\",\"Mujeres\",\"Mujeres\",\"Mujeres\",\"Mujeres\",\"Mujeres\",\"Hombres\",\"Mujeres\",\"Mujeres\",\"Mujeres\",\"Mujeres\",\"Mujeres\",\"Hombres\",\"Mujeres\",\"Mujeres\",\"Hombres\",\"Hombres\",\"Mujeres\",\"Mujeres\",\"Hombres\",\"Hombres\",\"Mujeres\",\"Mujeres\",\"Mujeres\",\"Mujeres\",\"Mujeres\",\"Mujeres\",\"Mujeres\",\"Mujeres\",\"Mujeres\",\"Mujeres\",\"Mujeres\",\"Mujeres\",\"Mujeres\",\"Mujeres\",\"Mujeres\",\"Hombres\",\"Mujeres\",\"Hombres\",\"Hombres\",\"Mujeres\",\"Hombres\",\"Mujeres\",\"Mujeres\",\"Mujeres\",\"Mujeres\",\"Hombres\",\"Mujeres\",\"Mujeres\",\"Mujeres\",\"Mujeres\",\"Mujeres\",\"Mujeres\",\"Mujeres\",\"Mujeres\",\"Mujeres\",\"Mujeres\",\"Mujeres\",\"Mujeres\",\"Mujeres\",\"Mujeres\",\"Mujeres\",\"Mujeres\",\"Hombres\",\"Mujeres\",\"Mujeres\",\"Hombres\",\"Mujeres\",\"Mujeres\",\"Mujeres\",\"Mujeres\",\"Hombres\",\"Mujeres\",\"Mujeres\",\"Mujeres\",\"Mujeres\",\"Mujeres\",\"Mujeres\",\"Mujeres\",\"Mujeres\",\"Mujeres\",\"Mujeres\",\"Mujeres\",\"Mujeres\",\"Mujeres\",\"Mujeres\",\"Mujeres\",\"Mujeres\",\"Hombres\",\"Hombres\",\"Mujeres\",\"Mujeres\",\"Mujeres\",\"Mujeres\",\"Mujeres\",\"Mujeres\",\"Mujeres\",\"Mujeres\",\"Hombres\",\"Mujeres\",\"Mujeres\",\"Hombres\",\"Mujeres\",\"Mujeres\",\"Mujeres\",\"Mujeres\",\"Mujeres\",\"Hombres\",\"Mujeres\",\"Mujeres\",\"Mujeres\",\"Mujeres\",\"Mujeres\",\"Mujeres\",\"Mujeres\",\"Mujeres\",\"Mujeres\",\"Mujeres\",\"Mujeres\",\"Mujeres\",\"Mujeres\",\"Mujeres\",\"Hombres\",\"Mujeres\",\"Mujeres\",\"Mujeres\",\"Mujeres\",\"Hombres\",\"Mujeres\",\"Mujeres\",\"Mujeres\",\"Hombres\",\"Mujeres\",\"Mujeres\",\"Mujeres\",\"Mujeres\",\"Mujeres\",\"Mujeres\",\"Mujeres\",\"Mujeres\",\"Mujeres\",\"Mujeres\",\"Mujeres\",\"Mujeres\",\"Mujeres\",\"Mujeres\",\"Mujeres\",\"Mujeres\",\"Mujeres\",\"Mujeres\",\"Mujeres\",\"Mujeres\",\"Mujeres\",\"Mujeres\",\"Mujeres\",\"Mujeres\",\"Mujeres\",\"Mujeres\",\"Mujeres\",\"Mujeres\",\"Mujeres\",\"Mujeres\",\"Mujeres\",\"Mujeres\",\"Hombres\",\"Mujeres\",\"Mujeres\",\"Mujeres\",\"Mujeres\",\"Mujeres\",\"Mujeres\",\"Mujeres\",\"Hombres\",\"Mujeres\",\"Mujeres\",\"Mujeres\",\"Hombres\",\"Mujeres\",\"Mujeres\",\"Mujeres\",\"Mujeres\",\"Hombres\",\"Mujeres\",\"Mujeres\",\"Mujeres\",\"Mujeres\",\"Mujeres\",\"Mujeres\",\"Mujeres\",\"Mujeres\",\"Mujeres\",\"Mujeres\",\"Hombres\",\"Mujeres\",\"Mujeres\",\"Mujeres\",\"Mujeres\",\"Mujeres\",\"Mujeres\",\"Mujeres\",\"Mujeres\",\"Mujeres\",\"Mujeres\",\"Mujeres\",\"Mujeres\",\"Mujeres\",\"Mujeres\",\"Mujeres\",\"Mujeres\",\"Hombres\",\"Hombres\",\"Mujeres\",\"Mujeres\",\"Mujeres\",\"Mujeres\",\"Mujeres\",\"Mujeres\",\"Mujeres\",\"Mujeres\",\"Mujeres\",\"Mujeres\",\"Hombres\",\"Mujeres\",\"Mujeres\",\"Mujeres\",\"Mujeres\",\"Mujeres\",\"Hombres\",\"Mujeres\",\"Mujeres\",\"Hombres\",\"Mujeres\",\"Mujeres\",\"Hombres\",\"Mujeres\",\"Hombres\",\"Mujeres\",\"Hombres\",\"Mujeres\",\"Mujeres\",\"Mujeres\",\"Mujeres\",\"Mujeres\",\"Mujeres\",\"Mujeres\",\"Mujeres\",\"Mujeres\",\"Mujeres\",\"Mujeres\",\"Mujeres\",\"Mujeres\",\"Mujeres\",\"Mujeres\",\"Mujeres\",\"Mujeres\",\"Mujeres\",\"Mujeres\",\"Hombres\",\"Mujeres\",\"Mujeres\",\"Hombres\",\"Mujeres\",\"Mujeres\",\"Mujeres\",\"Mujeres\",\"Mujeres\",\"Mujeres\",\"Mujeres\",\"Mujeres\",\"Mujeres\",\"Mujeres\",\"Hombres\",\"Mujeres\",\"Mujeres\",\"Mujeres\",\"Mujeres\",\"Mujeres\",\"Mujeres\",\"Mujeres\",\"Mujeres\",\"Hombres\",\"Mujeres\",\"Mujeres\",\"Mujeres\",\"Mujeres\",\"Mujeres\",\"Mujeres\",\"Mujeres\",\"Mujeres\",\"Mujeres\",\"Mujeres\",\"Mujeres\",\"Mujeres\",\"Mujeres\",\"Mujeres\",\"Hombres\",\"Mujeres\",\"Mujeres\",\"Mujeres\",\"Mujeres\",\"Hombres\",\"Mujeres\",\"Mujeres\",\"Mujeres\",\"Mujeres\",\"Mujeres\",\"Mujeres\",\"Mujeres\",\"Mujeres\",\"Mujeres\",\"Mujeres\",\"Mujeres\",\"Mujeres\",\"Mujeres\",\"Mujeres\",\"Mujeres\",\"Mujeres\",\"Mujeres\",\"Hombres\",\"Mujeres\",\"Hombres\",\"Mujeres\",\"Mujeres\",\"Mujeres\",\"Mujeres\",\"Mujeres\",\"Hombres\",\"Mujeres\",\"Mujeres\",\"Mujeres\",\"Mujeres\",\"Mujeres\",\"Hombres\",\"Mujeres\",\"Mujeres\",\"Mujeres\",\"Mujeres\",\"Mujeres\",\"Mujeres\",\"Hombres\",\"Mujeres\",\"Mujeres\",\"Mujeres\",\"Hombres\",\"Mujeres\",\"Mujeres\",\"Mujeres\",\"Mujeres\",\"Hombres\",\"Mujeres\",\"Mujeres\",\"Mujeres\",\"Mujeres\",\"Hombres\",\"Mujeres\",\"Mujeres\",\"Mujeres\",\"Hombres\",\"Hombres\",\"Mujeres\",\"Mujeres\",\"Hombres\",\"Mujeres\",\"Mujeres\",\"Mujeres\",\"Mujeres\",\"Mujeres\",\"Mujeres\",\"Mujeres\",\"Mujeres\",\"Hombres\",\"Mujeres\",\"Mujeres\",\"Mujeres\",\"Mujeres\",\"Mujeres\",\"Mujeres\",\"Hombres\",\"Mujeres\",\"Mujeres\",\"Hombres\",\"Mujeres\",\"Mujeres\",\"Mujeres\",\"Mujeres\",\"Hombres\",\"Mujeres\",\"Mujeres\",\"Mujeres\",\"Hombres\",\"Hombres\",\"Hombres\",\"Mujeres\",\"Mujeres\",\"Mujeres\",\"Mujeres\",\"Mujeres\",\"Mujeres\",\"Mujeres\",\"Hombres\",\"Mujeres\",\"Mujeres\",\"Hombres\",\"Hombres\",\"Mujeres\",\"Mujeres\",\"Mujeres\",\"Hombres\",\"Mujeres\",\"Mujeres\",\"Mujeres\",\"Mujeres\",\"Mujeres\",\"Mujeres\",\"Hombres\",\"Mujeres\",\"Mujeres\",\"Mujeres\",\"Mujeres\",\"Hombres\",\"Mujeres\",\"Mujeres\",\"Mujeres\",\"Mujeres\",\"Mujeres\",\"Hombres\",\"Mujeres\",\"Mujeres\",\"Mujeres\",\"Mujeres\",\"Mujeres\",\"Mujeres\",\"Mujeres\",\"Hombres\",\"Mujeres\",\"Mujeres\",\"Mujeres\",\"Hombres\",\"Mujeres\",\"Mujeres\",\"Mujeres\",\"Hombres\",\"Mujeres\",\"Mujeres\",\"Mujeres\",\"Mujeres\",\"Mujeres\",\"Hombres\",\"Mujeres\",\"Hombres\",\"Mujeres\",\"Mujeres\",\"Mujeres\",\"Mujeres\",\"Mujeres\",\"Mujeres\",\"Mujeres\",\"Mujeres\",\"Mujeres\",\"Mujeres\",\"Mujeres\",\"Hombres\",\"Mujeres\",\"Mujeres\",\"Mujeres\",\"Mujeres\",\"Mujeres\",\"Mujeres\",\"Hombres\",\"Mujeres\",\"Mujeres\",\"Hombres\",\"Mujeres\",\"Mujeres\",\"Mujeres\",\"Mujeres\",\"Mujeres\",\"Mujeres\",\"Mujeres\",\"Mujeres\",\"Mujeres\",\"Mujeres\",\"Mujeres\",\"Mujeres\",\"Mujeres\",\"Mujeres\",\"Mujeres\",\"Mujeres\",\"Mujeres\",\"Mujeres\",\"Mujeres\",\"Mujeres\",\"Hombres\",\"Mujeres\",\"Mujeres\",\"Mujeres\",\"Mujeres\",\"Mujeres\",\"Mujeres\",\"Mujeres\",\"Mujeres\",\"Mujeres\",\"Mujeres\",\"Hombres\",\"Hombres\",\"Mujeres\",\"Hombres\",\"Hombres\",\"Mujeres\",\"Mujeres\",\"Mujeres\",\"Mujeres\",\"Mujeres\",\"Mujeres\",\"Mujeres\",\"Mujeres\",\"Mujeres\",\"Mujeres\",\"Mujeres\",\"Mujeres\",\"Mujeres\",\"Hombres\",\"Mujeres\",\"Mujeres\",\"Mujeres\",\"Hombres\",\"Mujeres\",\"Hombres\",\"Hombres\",\"Mujeres\",\"Hombres\",\"Mujeres\",\"Mujeres\",\"Mujeres\",\"Mujeres\",\"Hombres\",\"Mujeres\",\"Mujeres\",\"Mujeres\",\"Mujeres\",\"Mujeres\",\"Hombres\",\"Mujeres\",\"Mujeres\",\"Mujeres\",\"Mujeres\",\"Hombres\",\"Mujeres\",\"Hombres\",\"Mujeres\",\"Mujeres\",\"Mujeres\",\"Mujeres\",\"Mujeres\",\"Mujeres\",\"Mujeres\",\"Hombres\",\"Mujeres\",\"Mujeres\",\"Mujeres\",\"Mujeres\",\"Mujeres\",\"Mujeres\",\"Mujeres\",\"Hombres\",\"Hombres\",\"Mujeres\",\"Mujeres\",\"Mujeres\",\"Mujeres\",\"Mujeres\",\"Hombres\",\"Mujeres\",\"Mujeres\",\"Hombres\",\"Hombres\",\"Mujeres\",\"Mujeres\",\"Mujeres\",\"Mujeres\",\"Mujeres\",\"Hombres\",\"Mujeres\",\"Hombres\",\"Hombres\",\"Mujeres\",\"Hombres\",\"Mujeres\",\"Hombres\",\"Hombres\",\"Mujeres\",\"Mujeres\",\"Mujeres\",\"Mujeres\",\"Hombres\",\"Hombres\",\"Hombres\",\"Mujeres\",\"Mujeres\",\"Mujeres\",\"Mujeres\",\"Hombres\",\"Hombres\",\"Hombres\",\"Hombres\",\"Mujeres\",\"Mujeres\",\"Mujeres\",\"Mujeres\",\"Hombres\",\"Mujeres\",\"Mujeres\",\"Mujeres\",\"Mujeres\",\"Mujeres\",\"Mujeres\",\"Mujeres\",\"Hombres\",\"Hombres\",\"Hombres\",\"Hombres\",\"Hombres\",\"Hombres\",\"Hombres\",\"Hombres\",\"Hombres\",\"Mujeres\",\"Mujeres\",\"Mujeres\",\"Mujeres\",\"Hombres\",\"Hombres\",\"Mujeres\",\"Mujeres\",\"Hombres\",\"Hombres\",\"Hombres\",\"Hombres\",\"Hombres\",\"Hombres\",\"Hombres\",\"Hombres\",\"Hombres\",\"Mujeres\",\"Mujeres\",\"Mujeres\",\"Mujeres\",\"Hombres\",\"Hombres\",\"Hombres\",\"Mujeres\",\"Mujeres\",\"Mujeres\",\"Mujeres\",\"Mujeres\",\"Hombres\",\"Mujeres\",\"Hombres\",\"Hombres\",\"Hombres\",\"Hombres\",\"Mujeres\",\"Hombres\",\"Mujeres\",\"Mujeres\",\"Mujeres\",\"Hombres\",\"Hombres\",\"Hombres\",\"Hombres\",\"Hombres\",\"Hombres\",\"Mujeres\",\"Mujeres\",\"Mujeres\",\"Hombres\",\"Mujeres\",\"Mujeres\",\"Mujeres\",\"Mujeres\",\"Mujeres\",\"Mujeres\",\"Mujeres\",\"Mujeres\",\"Mujeres\",\"Hombres\",\"Hombres\",\"Hombres\",\"Mujeres\",\"Mujeres\",\"Mujeres\",\"Hombres\",\"Hombres\",\"Hombres\",\"Hombres\",\"Mujeres\",\"Hombres\",\"Hombres\",\"Hombres\",\"Hombres\",\"Hombres\",\"Hombres\",\"Hombres\",\"Mujeres\",\"Mujeres\",\"Mujeres\",\"Mujeres\",\"Mujeres\",\"Mujeres\",\"Mujeres\",\"Mujeres\",\"Mujeres\",\"Mujeres\",\"Mujeres\",\"Mujeres\",\"Mujeres\",\"Mujeres\",\"Mujeres\",\"Mujeres\",\"Mujeres\",\"Mujeres\",\"Mujeres\",\"Mujeres\",\"Mujeres\",\"Mujeres\",\"Hombres\",\"Hombres\",\"Mujeres\",\"Hombres\",\"Mujeres\",\"Hombres\",\"Hombres\",\"Mujeres\",\"Hombres\",\"Mujeres\",\"Mujeres\",\"Mujeres\",\"Hombres\",\"Hombres\",\"Hombres\",\"Mujeres\",\"Mujeres\",\"Hombres\",\"Mujeres\",\"Mujeres\",\"Mujeres\",\"Hombres\",\"Hombres\",\"Hombres\",\"Hombres\",\"Hombres\",\"Hombres\",\"Hombres\",\"Mujeres\",\"Hombres\",\"Hombres\",\"Mujeres\",\"Mujeres\",\"Hombres\",\"Mujeres\",\"Mujeres\",\"Mujeres\",\"Mujeres\",\"Mujeres\",\"Mujeres\",\"Mujeres\",\"Mujeres\",\"Mujeres\",\"Mujeres\",\"Mujeres\",\"Mujeres\",\"Mujeres\",\"Mujeres\",\"Mujeres\",\"Mujeres\",\"Mujeres\",\"Hombres\",\"Hombres\",\"Hombres\",\"Hombres\",\"Hombres\",\"Hombres\",\"Hombres\",\"Hombres\",\"Hombres\",\"Hombres\",\"Hombres\",\"Hombres\",\"Hombres\",\"Hombres\",\"Hombres\",\"Hombres\",\"Hombres\",\"Hombres\",\"Hombres\",\"Hombres\",\"Hombres\",\"Hombres\",\"Hombres\",\"Hombres\",\"Hombres\",\"Hombres\",\"Hombres\",\"Hombres\",\"Hombres\",\"Hombres\",\"Hombres\",\"Hombres\",\"Hombres\",\"Hombres\",\"Hombres\",\"Hombres\",\"Hombres\",\"Hombres\",\"Hombres\",\"Hombres\",\"Hombres\",\"Hombres\",\"Hombres\",\"Hombres\",\"Hombres\",\"Hombres\",\"Hombres\",\"Hombres\",\"Hombres\",\"Hombres\",\"Hombres\",\"Hombres\",\"Hombres\",\"Hombres\",\"Hombres\",\"Hombres\",\"Hombres\",\"Hombres\",\"Hombres\",\"Hombres\",\"Hombres\",\"Hombres\",\"Hombres\",\"Hombres\",\"Hombres\",\"Hombres\",\"Hombres\",\"Hombres\",\"Hombres\",\"Hombres\",\"Hombres\",\"Hombres\",\"Hombres\",\"Hombres\",\"Hombres\",\"Hombres\",\"Hombres\",\"Hombres\",\"Hombres\",\"Mujeres\",\"Mujeres\",\"Mujeres\",\"Mujeres\",\"Mujeres\",\"Mujeres\",\"Mujeres\",\"Hombres\",\"Hombres\",\"Hombres\",\"Hombres\",\"Hombres\",\"Hombres\",\"Hombres\",\"Hombres\",\"Hombres\",\"Hombres\",\"Hombres\",\"Hombres\",\"Hombres\",\"Hombres\",\"Hombres\",\"Hombres\",\"Hombres\",\"Hombres\",\"Hombres\",\"Hombres\",\"Hombres\",\"Hombres\",\"Hombres\",\"Hombres\",\"Hombres\",\"Hombres\",\"Hombres\",\"Hombres\",\"Hombres\",\"Hombres\",\"Hombres\",\"Mujeres\",\"Hombres\",\"Mujeres\",\"Mujeres\",\"Mujeres\",\"Mujeres\",\"Mujeres\",\"Mujeres\",\"Mujeres\",\"Mujeres\",\"Mujeres\",\"Mujeres\",\"Mujeres\",\"Mujeres\",\"Mujeres\",\"Mujeres\",\"Mujeres\",\"Mujeres\",\"Mujeres\",\"Mujeres\",\"Mujeres\",\"Mujeres\",\"Mujeres\",\"Mujeres\",\"Mujeres\",\"Mujeres\",\"Mujeres\",\"Mujeres\",\"Mujeres\",\"Mujeres\",\"Mujeres\",\"Mujeres\",\"Mujeres\",\"Mujeres\",\"Mujeres\",\"Mujeres\",\"Mujeres\",\"Mujeres\",\"Mujeres\",\"Mujeres\",\"Mujeres\",\"Mujeres\",\"Mujeres\",\"Mujeres\",\"Mujeres\",\"Mujeres\",\"Mujeres\",\"Mujeres\",\"Mujeres\",\"Mujeres\",\"Mujeres\",\"Mujeres\",\"Mujeres\",\"Mujeres\",\"Mujeres\",\"Mujeres\",\"Mujeres\",\"Mujeres\",\"Mujeres\",\"Mujeres\",\"Mujeres\",\"Mujeres\",\"Mujeres\",\"Mujeres\",\"Mujeres\",\"Mujeres\",\"Mujeres\",\"Mujeres\",\"Mujeres\",\"Mujeres\",\"Mujeres\",\"Mujeres\",\"Mujeres\",\"Mujeres\",\"Mujeres\",\"Mujeres\",\"Mujeres\",\"Mujeres\",\"Mujeres\",\"Mujeres\",\"Mujeres\",\"Mujeres\",\"Mujeres\",\"Mujeres\",\"Mujeres\",\"Mujeres\",\"Mujeres\",\"Mujeres\",\"Mujeres\",\"Mujeres\",\"Mujeres\",\"Mujeres\",\"Mujeres\",\"Mujeres\",\"Mujeres\",\"Mujeres\",\"Mujeres\",\"Mujeres\",\"Mujeres\",\"Mujeres\",\"Mujeres\",\"Mujeres\",\"Mujeres\",\"Mujeres\",\"Mujeres\",\"Mujeres\",\"Mujeres\",\"Mujeres\",\"Mujeres\",\"Mujeres\",\"Mujeres\",\"Mujeres\",\"Mujeres\",\"Mujeres\",\"Mujeres\",\"Mujeres\",\"Mujeres\",\"Mujeres\",\"Mujeres\"],\"y\":[2938,2911,2724,2718,2680,2676,2666,2662,2651,2650,2619,2574,2570,2554,2526,2512,2499,2468,2463,2451,2435,2430,2429,2410,2408,2283,2213,2150,2139,2135,2104,2032,2017,1836,1829,1593,1336,1268,1237,972,961,959,922,920,907,869,856,847,829,828,819,817,815,810,808,804,800,787,781,777,774,763,762,759,754,749,745,742,734,723,690,685,682,657,588,515,450,415,344,340,337,319,305,298,293,291,288,285,282,280,279,276,275,275,274,269,268,266,264,262,262,259,254,251,249,247,246,246,244,243,243,242,242,241,239,238,237,236,236,234,234,230,230,229,229,228,228,228,226,225,225,225,224,223,223,221,221,221,221,221,219,219,219,218,217,216,216,215,214,214,213,213,212,211,210,210,210,209,209,209,209,209,208,207,206,206,205,205,205,205,205,204,204,203,203,203,202,202,201,201,200,200,200,200,199,199,199,199,199,198,198,198,198,197,197,197,197,197,197,196,196,196,196,195,195,194,194,193,193,193,192,192,192,191,191,191,190,189,189,188,188,188,187,187,187,187,187,187,187,186,186,186,185,185,185,185,184,184,184,183,183,183,183,183,183,182,182,182,182,181,181,181,181,181,181,180,180,180,180,180,179,179,179,179,179,179,179,179,179,179,178,178,177,177,177,177,176,176,176,176,176,176,175,175,175,175,175,175,175,174,174,174,174,173,173,173,172,172,172,172,172,171,171,171,170,170,170,170,170,170,170,170,169,169,169,168,168,168,167,167,167,167,167,166,166,166,166,165,165,165,165,165,165,164,164,164,164,164,163,163,163,163,162,162,162,162,161,161,161,161,161,160,160,159,159,159,159,158,158,158,158,158,158,158,158,157,157,157,157,157,157,156,156,156,156,155,155,155,155,155,155,155,154,154,154,154,153,152,152,152,152,152,152,151,151,150,150,150,149,149,149,149,149,149,148,148,148,147,147,147,147,147,146,146,146,145,145,145,145,145,145,145,145,144,144,144,143,143,143,143,143,143,142,142,142,142,141,141,141,140,140,140,140,140,139,139,139,139,138,138,137,137,137,136,136,136,134,133,133,133,133,133,132,132,132,132,132,132,131,131,131,130,130,129,129,129,129,129,128,128,127,127,127,126,125,125,125,123,123,122,122,122,121,121,120,120,120,120,120,119,119,119,118,117,117,116,116,116,116,116,116,115,114,114,114,113,112,112,111,111,111,110,110,110,110,110,110,109,109,108,108,108,108,108,106,106,106,106,105,105,104,103,103,103,103,103,103,103,102,102,102,102,101,101,101,101,100,100,98,98,98,98,97,97,96,96,96,96,95,95,94,94,94,94,94,93,93,93,93,93,92,92,92,92,92,92,91,91,91,91,91,91,90,89,88,88,88,87,87,87,87,87,86,86,86,86,86,86,85,85,85,85,85,85,84,84,84,84,84,84,83,83,83,83,82,82,82,82,82,82,81,81,81,81,81,81,81,81,81,81,81,81,80,80,80,80,79,79,79,79,79,79,79,78,78,78,78,78,78,78,78,78,78,77,77,77,77,77,76,76,76,76,76,76,76,76,76,75,75,75,75,75,75,75,75,75,74,74,74,74,74,74,74,73,73,73,73,73,73,73,72,72,72,72,72,72,72,72,72,71,71,71,71,71,71,71,71,71,71,71,71,70,70,70,70,70,70,70,70,70,70,70,69,69,69,69,69,69,69,68,68,68,68,68,68,67,67,67,67,67,67,67,67,67,67,67,67,67,66,66,66,66,66,66,66,66,66,66,66,66,66,65,65,65,65,65,65,65,65,65,64,64,64,64,64,64,64,64,64,64,64,64,64,63,63,63,63,63,63,63,63,63,62,62,62,62,62,62,62,62,62,62,62,62,61,61,61,61,61,61,61,61,60,60,60,60,60,60,60,60,60,60,60,60,60,60,60,60,60,59,59,59,59,59,59,59,59,59,59,59,59,59,58,58,58,58,58,58,58,58,58,57,57,57,57,57,57,56,56,56,56,56,56,56,56,56,56,56,56,56,56,55,55,55,55,55,55,55,55,54,54,54,54,54,54,54,54,54,54,54,54,53,53,53,53,53,53,53,53,52,52,52,52,52,52,52,52,52,52,52,52,52,52,52,51,51,51,51,51,51,51,51,51,51,51,51,50,50,50,50,50,50,50,50,49,49,49,49,49,49,48,48,48,48,48,48,48,48,48,48,48,48,48,47,47,47,47,47,47,47,47,47,47,47,46,46,46,46,46,45,45,45,45,45,45,45,45,44,44,44,44,44,44,44,43,43,43,43,43,43,43,43,43,43,43,43,42,42,42,42,42,42,42,42,42,42,42,41,41,41,41,41,41,41,41,41,41,41,41,41,41,41,41,40,40,40,40,40,40,40,40,40,40,40,39,39,39,39,39,39,39,39,38,38,38,38,38,38,38,37,37,37,37,37,37,37,37,37,37,37,37,37,37,36,36,36,36,36,36,36,36,35,35,35,35,35,35,35,35,35,35,34,34,34,34,34,34,34,34,34,34,34,34,33,33,33,33,33,33,33,33,33,33,33,33,32,32,32,32,32,32,32,32,31,31,31,31,31,31,31,31,31,31,31,31,31,31,30,30,30,30,30,30,30,30,30,30,30,29,29,29,29,29,29,29,29,29,29,28,28,28,28,28,28,28,28,28,27,27,27,27,27,27,27,27,27,26,26,26,26,26,26,26,26,25,25,25,25,25,25,25,25,25,25,25,24,24,24,24,24,24,24,23,23,23,23,22,22,22,22,22,22,21,21,21,21,21,21,21,21,20,20,20,20,20,20,20,20,20,20,20,19,19,19,19,19,19,19,19,19,19,19,19,19,18,18,18,18,18,18,18,18,18,17,17,17,17,17,17,17,17,16,16,16,16,16,16,16,15,15,15,15,15,15,14,14,14,14,13,13,13,13,13,13,13,12,12,12,12,12,12,12,12,11,11,11,11,11,11,11,11,10,10,10,10,10,10,10,10,9,9,9,9,9,9,9,9,9,9,9,9,9,9,9,9,8,8,8,8,8,8,8,8,8,7,7,7,7,7,7,7,7,7,7,7,7,7,7,7,7,6,6,6,6,6,6,6,6,6,6,6,6,6,6,6,6,5,5,5,5,5,5,5,5,5,5,5,5,5,4,4,4,4,4,4,4,4,4,4,4,4,4,4,4,4,4,4,4,4,3,3,3,3,3,3,3,3,3,3,3,3,3,3,3,3,3,3,3,2,2,2,2,2,2,2,2,2,2,2,2,2,2,2,2,2,2,2,2,2,2,2,2,2,2,2,2,1,1,1,1,1,1,1,1,1,1,1,1,1,1,1,1,1,1,1,1,1,1,1,1,1,1,1,1,1,1,1,1,1,1,0,0,0,0,0,0,0,0,0,0,0,0,0,0,0,0,0,0,0,0,0,0,0,0,0,0,0,0,0,0,0,0,0,0,0,0,0,0,0,0,0,0,0,0,0,0,0,0,0,0,0,0,0,0,0,0,0,0,0,0,0,0,0,0,0,0,0,0,0,0,0,0,0,0,0,0,0,0,0,0,0,0,0,0,0,0,0,0,0,0,0,0,0,0,0,0,0,0,0,0,0,0,0,0,0,0,0,0,0,0,0,0,0,0,0,0,0,0,0,0,0,0,0,0,0,0,0,0,0,0,0,0,0,0,0,0,0,0,0,0,0,0,0,0,0,0,0,0,0,0,0,0,0,0,0,0,0,0,0,0,0,0,0,0,0,0,0,0,0,0,0,0,0,0,0,0,0,0,0,0,0,0,0,0,0,0,0,0,0,0,0,0,0,0,0,0,0,0,0,0,0,0,0,0,0,0,0,0,0,0,0,0,0,0,0,0,0,0,0,0,0,0,0,0,0,0,0,0,0,0,0,0,0,0,0,0],\"type\":\"bar\"}],                        {\"legend\":{\"bgcolor\":\"#FFFFFF\",\"font\":{\"color\":\"#666666\"}},\"paper_bgcolor\":\"#FFFFFF\",\"plot_bgcolor\":\"#E5E5E5\",\"template\":{\"data\":{\"barpolar\":[{\"marker\":{\"line\":{\"color\":\"#E5ECF6\",\"width\":0.5},\"pattern\":{\"fillmode\":\"overlay\",\"size\":10,\"solidity\":0.2}},\"type\":\"barpolar\"}],\"bar\":[{\"error_x\":{\"color\":\"#2a3f5f\"},\"error_y\":{\"color\":\"#2a3f5f\"},\"marker\":{\"line\":{\"color\":\"#E5ECF6\",\"width\":0.5},\"pattern\":{\"fillmode\":\"overlay\",\"size\":10,\"solidity\":0.2}},\"type\":\"bar\"}],\"carpet\":[{\"aaxis\":{\"endlinecolor\":\"#2a3f5f\",\"gridcolor\":\"white\",\"linecolor\":\"white\",\"minorgridcolor\":\"white\",\"startlinecolor\":\"#2a3f5f\"},\"baxis\":{\"endlinecolor\":\"#2a3f5f\",\"gridcolor\":\"white\",\"linecolor\":\"white\",\"minorgridcolor\":\"white\",\"startlinecolor\":\"#2a3f5f\"},\"type\":\"carpet\"}],\"choropleth\":[{\"colorbar\":{\"outlinewidth\":0,\"ticks\":\"\"},\"type\":\"choropleth\"}],\"contourcarpet\":[{\"colorbar\":{\"outlinewidth\":0,\"ticks\":\"\"},\"type\":\"contourcarpet\"}],\"contour\":[{\"colorbar\":{\"outlinewidth\":0,\"ticks\":\"\"},\"colorscale\":[[0.0,\"#0d0887\"],[0.1111111111111111,\"#46039f\"],[0.2222222222222222,\"#7201a8\"],[0.3333333333333333,\"#9c179e\"],[0.4444444444444444,\"#bd3786\"],[0.5555555555555556,\"#d8576b\"],[0.6666666666666666,\"#ed7953\"],[0.7777777777777778,\"#fb9f3a\"],[0.8888888888888888,\"#fdca26\"],[1.0,\"#f0f921\"]],\"type\":\"contour\"}],\"heatmapgl\":[{\"colorbar\":{\"outlinewidth\":0,\"ticks\":\"\"},\"colorscale\":[[0.0,\"#0d0887\"],[0.1111111111111111,\"#46039f\"],[0.2222222222222222,\"#7201a8\"],[0.3333333333333333,\"#9c179e\"],[0.4444444444444444,\"#bd3786\"],[0.5555555555555556,\"#d8576b\"],[0.6666666666666666,\"#ed7953\"],[0.7777777777777778,\"#fb9f3a\"],[0.8888888888888888,\"#fdca26\"],[1.0,\"#f0f921\"]],\"type\":\"heatmapgl\"}],\"heatmap\":[{\"colorbar\":{\"outlinewidth\":0,\"ticks\":\"\"},\"colorscale\":[[0.0,\"#0d0887\"],[0.1111111111111111,\"#46039f\"],[0.2222222222222222,\"#7201a8\"],[0.3333333333333333,\"#9c179e\"],[0.4444444444444444,\"#bd3786\"],[0.5555555555555556,\"#d8576b\"],[0.6666666666666666,\"#ed7953\"],[0.7777777777777778,\"#fb9f3a\"],[0.8888888888888888,\"#fdca26\"],[1.0,\"#f0f921\"]],\"type\":\"heatmap\"}],\"histogram2dcontour\":[{\"colorbar\":{\"outlinewidth\":0,\"ticks\":\"\"},\"colorscale\":[[0.0,\"#0d0887\"],[0.1111111111111111,\"#46039f\"],[0.2222222222222222,\"#7201a8\"],[0.3333333333333333,\"#9c179e\"],[0.4444444444444444,\"#bd3786\"],[0.5555555555555556,\"#d8576b\"],[0.6666666666666666,\"#ed7953\"],[0.7777777777777778,\"#fb9f3a\"],[0.8888888888888888,\"#fdca26\"],[1.0,\"#f0f921\"]],\"type\":\"histogram2dcontour\"}],\"histogram2d\":[{\"colorbar\":{\"outlinewidth\":0,\"ticks\":\"\"},\"colorscale\":[[0.0,\"#0d0887\"],[0.1111111111111111,\"#46039f\"],[0.2222222222222222,\"#7201a8\"],[0.3333333333333333,\"#9c179e\"],[0.4444444444444444,\"#bd3786\"],[0.5555555555555556,\"#d8576b\"],[0.6666666666666666,\"#ed7953\"],[0.7777777777777778,\"#fb9f3a\"],[0.8888888888888888,\"#fdca26\"],[1.0,\"#f0f921\"]],\"type\":\"histogram2d\"}],\"histogram\":[{\"marker\":{\"pattern\":{\"fillmode\":\"overlay\",\"size\":10,\"solidity\":0.2}},\"type\":\"histogram\"}],\"mesh3d\":[{\"colorbar\":{\"outlinewidth\":0,\"ticks\":\"\"},\"type\":\"mesh3d\"}],\"parcoords\":[{\"line\":{\"colorbar\":{\"outlinewidth\":0,\"ticks\":\"\"}},\"type\":\"parcoords\"}],\"pie\":[{\"automargin\":true,\"type\":\"pie\"}],\"scatter3d\":[{\"line\":{\"colorbar\":{\"outlinewidth\":0,\"ticks\":\"\"}},\"marker\":{\"colorbar\":{\"outlinewidth\":0,\"ticks\":\"\"}},\"type\":\"scatter3d\"}],\"scattercarpet\":[{\"marker\":{\"colorbar\":{\"outlinewidth\":0,\"ticks\":\"\"}},\"type\":\"scattercarpet\"}],\"scattergeo\":[{\"marker\":{\"colorbar\":{\"outlinewidth\":0,\"ticks\":\"\"}},\"type\":\"scattergeo\"}],\"scattergl\":[{\"marker\":{\"colorbar\":{\"outlinewidth\":0,\"ticks\":\"\"}},\"type\":\"scattergl\"}],\"scattermapbox\":[{\"marker\":{\"colorbar\":{\"outlinewidth\":0,\"ticks\":\"\"}},\"type\":\"scattermapbox\"}],\"scatterpolargl\":[{\"marker\":{\"colorbar\":{\"outlinewidth\":0,\"ticks\":\"\"}},\"type\":\"scatterpolargl\"}],\"scatterpolar\":[{\"marker\":{\"colorbar\":{\"outlinewidth\":0,\"ticks\":\"\"}},\"type\":\"scatterpolar\"}],\"scatter\":[{\"fillpattern\":{\"fillmode\":\"overlay\",\"size\":10,\"solidity\":0.2},\"type\":\"scatter\"}],\"scatterternary\":[{\"marker\":{\"colorbar\":{\"outlinewidth\":0,\"ticks\":\"\"}},\"type\":\"scatterternary\"}],\"surface\":[{\"colorbar\":{\"outlinewidth\":0,\"ticks\":\"\"},\"colorscale\":[[0.0,\"#0d0887\"],[0.1111111111111111,\"#46039f\"],[0.2222222222222222,\"#7201a8\"],[0.3333333333333333,\"#9c179e\"],[0.4444444444444444,\"#bd3786\"],[0.5555555555555556,\"#d8576b\"],[0.6666666666666666,\"#ed7953\"],[0.7777777777777778,\"#fb9f3a\"],[0.8888888888888888,\"#fdca26\"],[1.0,\"#f0f921\"]],\"type\":\"surface\"}],\"table\":[{\"cells\":{\"fill\":{\"color\":\"#EBF0F8\"},\"line\":{\"color\":\"white\"}},\"header\":{\"fill\":{\"color\":\"#C8D4E3\"},\"line\":{\"color\":\"white\"}},\"type\":\"table\"}]},\"layout\":{\"annotationdefaults\":{\"arrowcolor\":\"#2a3f5f\",\"arrowhead\":0,\"arrowwidth\":1},\"autotypenumbers\":\"strict\",\"coloraxis\":{\"colorbar\":{\"outlinewidth\":0,\"ticks\":\"\"}},\"colorscale\":{\"diverging\":[[0,\"#8e0152\"],[0.1,\"#c51b7d\"],[0.2,\"#de77ae\"],[0.3,\"#f1b6da\"],[0.4,\"#fde0ef\"],[0.5,\"#f7f7f7\"],[0.6,\"#e6f5d0\"],[0.7,\"#b8e186\"],[0.8,\"#7fbc41\"],[0.9,\"#4d9221\"],[1,\"#276419\"]],\"sequential\":[[0.0,\"#0d0887\"],[0.1111111111111111,\"#46039f\"],[0.2222222222222222,\"#7201a8\"],[0.3333333333333333,\"#9c179e\"],[0.4444444444444444,\"#bd3786\"],[0.5555555555555556,\"#d8576b\"],[0.6666666666666666,\"#ed7953\"],[0.7777777777777778,\"#fb9f3a\"],[0.8888888888888888,\"#fdca26\"],[1.0,\"#f0f921\"]],\"sequentialminus\":[[0.0,\"#0d0887\"],[0.1111111111111111,\"#46039f\"],[0.2222222222222222,\"#7201a8\"],[0.3333333333333333,\"#9c179e\"],[0.4444444444444444,\"#bd3786\"],[0.5555555555555556,\"#d8576b\"],[0.6666666666666666,\"#ed7953\"],[0.7777777777777778,\"#fb9f3a\"],[0.8888888888888888,\"#fdca26\"],[1.0,\"#f0f921\"]]},\"colorway\":[\"#636efa\",\"#EF553B\",\"#00cc96\",\"#ab63fa\",\"#FFA15A\",\"#19d3f3\",\"#FF6692\",\"#B6E880\",\"#FF97FF\",\"#FECB52\"],\"font\":{\"color\":\"#2a3f5f\"},\"geo\":{\"bgcolor\":\"white\",\"lakecolor\":\"white\",\"landcolor\":\"#E5ECF6\",\"showlakes\":true,\"showland\":true,\"subunitcolor\":\"white\"},\"hoverlabel\":{\"align\":\"left\"},\"hovermode\":\"closest\",\"mapbox\":{\"style\":\"light\"},\"paper_bgcolor\":\"white\",\"plot_bgcolor\":\"#E5ECF6\",\"polar\":{\"angularaxis\":{\"gridcolor\":\"white\",\"linecolor\":\"white\",\"ticks\":\"\"},\"bgcolor\":\"#E5ECF6\",\"radialaxis\":{\"gridcolor\":\"white\",\"linecolor\":\"white\",\"ticks\":\"\"}},\"scene\":{\"xaxis\":{\"backgroundcolor\":\"#E5ECF6\",\"gridcolor\":\"white\",\"gridwidth\":2,\"linecolor\":\"white\",\"showbackground\":true,\"ticks\":\"\",\"zerolinecolor\":\"white\"},\"yaxis\":{\"backgroundcolor\":\"#E5ECF6\",\"gridcolor\":\"white\",\"gridwidth\":2,\"linecolor\":\"white\",\"showbackground\":true,\"ticks\":\"\",\"zerolinecolor\":\"white\"},\"zaxis\":{\"backgroundcolor\":\"#E5ECF6\",\"gridcolor\":\"white\",\"gridwidth\":2,\"linecolor\":\"white\",\"showbackground\":true,\"ticks\":\"\",\"zerolinecolor\":\"white\"}},\"shapedefaults\":{\"line\":{\"color\":\"#2a3f5f\"}},\"ternary\":{\"aaxis\":{\"gridcolor\":\"white\",\"linecolor\":\"white\",\"ticks\":\"\"},\"baxis\":{\"gridcolor\":\"white\",\"linecolor\":\"white\",\"ticks\":\"\"},\"bgcolor\":\"#E5ECF6\",\"caxis\":{\"gridcolor\":\"white\",\"linecolor\":\"white\",\"ticks\":\"\"}},\"title\":{\"x\":0.05},\"xaxis\":{\"automargin\":true,\"gridcolor\":\"white\",\"linecolor\":\"white\",\"ticks\":\"\",\"title\":{\"standoff\":15},\"zerolinecolor\":\"white\",\"zerolinewidth\":2},\"yaxis\":{\"automargin\":true,\"gridcolor\":\"white\",\"linecolor\":\"white\",\"ticks\":\"\",\"title\":{\"standoff\":15},\"zerolinecolor\":\"white\",\"zerolinewidth\":2}}},\"title\":{\"font\":{\"color\":\"#151516\"},\"text\":\"Suicidio Hombres vs Mujeres\"},\"xaxis\":{\"gridcolor\":\"#F6F6F6\",\"showgrid\":true,\"tickfont\":{\"color\":\"#666666\"},\"title\":{\"font\":{\"color\":\"#666666\"},\"text\":\"Sexo\"},\"zerolinecolor\":\"#F6F6F6\"},\"yaxis\":{\"gridcolor\":\"#F6F6F6\",\"showgrid\":true,\"tickfont\":{\"color\":\"#666666\"},\"title\":{\"font\":{\"color\":\"#666666\"},\"text\":\"Periodo\"},\"zerolinecolor\":\"#F6F6F6\"}},                        {\"showLink\": true, \"linkText\": \"Export to plot.ly\", \"plotlyServerURL\": \"https://plot.ly\", \"responsive\": true}                    ).then(function(){\n",
       "                            \n",
       "var gd = document.getElementById('46594532-10c5-4d29-9fb1-b73eb779b054');\n",
       "var x = new MutationObserver(function (mutations, observer) {{\n",
       "        var display = window.getComputedStyle(gd).display;\n",
       "        if (!display || display === 'none') {{\n",
       "            console.log([gd, 'removed!']);\n",
       "            Plotly.purge(gd);\n",
       "            observer.disconnect();\n",
       "        }}\n",
       "}});\n",
       "\n",
       "// Listen for the removal of the full notebook cells\n",
       "var notebookContainer = gd.closest('#notebook-container');\n",
       "if (notebookContainer) {{\n",
       "    x.observe(notebookContainer, {childList: true});\n",
       "}}\n",
       "\n",
       "// Listen for the clearing of the current output cell\n",
       "var outputEl = gd.closest('.output');\n",
       "if (outputEl) {{\n",
       "    x.observe(outputEl, {childList: true});\n",
       "}}\n",
       "\n",
       "                        })                };                });            </script>        </div>"
      ]
     },
     "metadata": {},
     "output_type": "display_data"
    }
   ],
   "source": [
    "prueba_alana2 .iplot(kind='bar',\n",
    "                   x='Sexo', y='Total',\n",
    "                   xTitle='Sexo',\n",
    "                   yTitle='Periodo',\n",
    "                   title='Suicidio Hombres vs Mujeres')"
   ]
  },
  {
   "cell_type": "code",
   "execution_count": 175,
   "metadata": {},
   "outputs": [
    {
     "data": {
      "text/html": [
       "<div>\n",
       "<style scoped>\n",
       "    .dataframe tbody tr th:only-of-type {\n",
       "        vertical-align: middle;\n",
       "    }\n",
       "\n",
       "    .dataframe tbody tr th {\n",
       "        vertical-align: top;\n",
       "    }\n",
       "\n",
       "    .dataframe thead th {\n",
       "        text-align: right;\n",
       "    }\n",
       "</style>\n",
       "<table border=\"1\" class=\"dataframe\">\n",
       "  <thead>\n",
       "    <tr style=\"text-align: right;\">\n",
       "      <th></th>\n",
       "      <th>Causa de muerte</th>\n",
       "      <th>Sexo</th>\n",
       "      <th>Edad</th>\n",
       "      <th>Periodo</th>\n",
       "      <th>Total</th>\n",
       "      <th>cause_code</th>\n",
       "      <th>cause_group</th>\n",
       "      <th>cause_name</th>\n",
       "    </tr>\n",
       "  </thead>\n",
       "  <tbody>\n",
       "    <tr>\n",
       "      <th>13145</th>\n",
       "      <td>048  Trastornos mentales debidos al uso de dro...</td>\n",
       "      <td>Hombres</td>\n",
       "      <td>De 25 a 29 años</td>\n",
       "      <td>1990</td>\n",
       "      <td>23</td>\n",
       "      <td>048</td>\n",
       "      <td>Single cause</td>\n",
       "      <td>Trastornos mentales debidos al uso de drogas (...</td>\n",
       "    </tr>\n",
       "    <tr>\n",
       "      <th>16913</th>\n",
       "      <td>048  Trastornos mentales debidos al uso de dro...</td>\n",
       "      <td>Hombres</td>\n",
       "      <td>De 30 a 34 años</td>\n",
       "      <td>1990</td>\n",
       "      <td>13</td>\n",
       "      <td>048</td>\n",
       "      <td>Single cause</td>\n",
       "      <td>Trastornos mentales debidos al uso de drogas (...</td>\n",
       "    </tr>\n",
       "    <tr>\n",
       "      <th>17734</th>\n",
       "      <td>048  Trastornos mentales debidos al uso de dro...</td>\n",
       "      <td>Hombres</td>\n",
       "      <td>De 20 a 24 años</td>\n",
       "      <td>1990</td>\n",
       "      <td>11</td>\n",
       "      <td>048</td>\n",
       "      <td>Single cause</td>\n",
       "      <td>Trastornos mentales debidos al uso de drogas (...</td>\n",
       "    </tr>\n",
       "    <tr>\n",
       "      <th>19159</th>\n",
       "      <td>048  Trastornos mentales debidos al uso de dro...</td>\n",
       "      <td>Hombres</td>\n",
       "      <td>De 40 a 44 años</td>\n",
       "      <td>2010</td>\n",
       "      <td>9</td>\n",
       "      <td>048</td>\n",
       "      <td>Single cause</td>\n",
       "      <td>Trastornos mentales debidos al uso de drogas (...</td>\n",
       "    </tr>\n",
       "    <tr>\n",
       "      <th>20767</th>\n",
       "      <td>048  Trastornos mentales debidos al uso de dro...</td>\n",
       "      <td>Hombres</td>\n",
       "      <td>De 25 a 29 años</td>\n",
       "      <td>2000</td>\n",
       "      <td>7</td>\n",
       "      <td>048</td>\n",
       "      <td>Single cause</td>\n",
       "      <td>Trastornos mentales debidos al uso de drogas (...</td>\n",
       "    </tr>\n",
       "    <tr>\n",
       "      <th>20788</th>\n",
       "      <td>048  Trastornos mentales debidos al uso de dro...</td>\n",
       "      <td>Hombres</td>\n",
       "      <td>De 35 a 39 años</td>\n",
       "      <td>2010</td>\n",
       "      <td>7</td>\n",
       "      <td>048</td>\n",
       "      <td>Single cause</td>\n",
       "      <td>Trastornos mentales debidos al uso de drogas (...</td>\n",
       "    </tr>\n",
       "    <tr>\n",
       "      <th>20903</th>\n",
       "      <td>048  Trastornos mentales debidos al uso de dro...</td>\n",
       "      <td>Hombres</td>\n",
       "      <td>De 35 a 39 años</td>\n",
       "      <td>1990</td>\n",
       "      <td>7</td>\n",
       "      <td>048</td>\n",
       "      <td>Single cause</td>\n",
       "      <td>Trastornos mentales debidos al uso de drogas (...</td>\n",
       "    </tr>\n",
       "    <tr>\n",
       "      <th>21765</th>\n",
       "      <td>048  Trastornos mentales debidos al uso de dro...</td>\n",
       "      <td>Hombres</td>\n",
       "      <td>De 30 a 34 años</td>\n",
       "      <td>2000</td>\n",
       "      <td>6</td>\n",
       "      <td>048</td>\n",
       "      <td>Single cause</td>\n",
       "      <td>Trastornos mentales debidos al uso de drogas (...</td>\n",
       "    </tr>\n",
       "    <tr>\n",
       "      <th>21874</th>\n",
       "      <td>048  Trastornos mentales debidos al uso de dro...</td>\n",
       "      <td>Hombres</td>\n",
       "      <td>De 30 a 34 años</td>\n",
       "      <td>2010</td>\n",
       "      <td>6</td>\n",
       "      <td>048</td>\n",
       "      <td>Single cause</td>\n",
       "      <td>Trastornos mentales debidos al uso de drogas (...</td>\n",
       "    </tr>\n",
       "    <tr>\n",
       "      <th>22745</th>\n",
       "      <td>048  Trastornos mentales debidos al uso de dro...</td>\n",
       "      <td>Hombres</td>\n",
       "      <td>De 40 a 44 años</td>\n",
       "      <td>2000</td>\n",
       "      <td>5</td>\n",
       "      <td>048</td>\n",
       "      <td>Single cause</td>\n",
       "      <td>Trastornos mentales debidos al uso de drogas (...</td>\n",
       "    </tr>\n",
       "  </tbody>\n",
       "</table>\n",
       "</div>"
      ],
      "text/plain": [
       "                                         Causa de muerte     Sexo  \\\n",
       "13145  048  Trastornos mentales debidos al uso de dro...  Hombres   \n",
       "16913  048  Trastornos mentales debidos al uso de dro...  Hombres   \n",
       "17734  048  Trastornos mentales debidos al uso de dro...  Hombres   \n",
       "19159  048  Trastornos mentales debidos al uso de dro...  Hombres   \n",
       "20767  048  Trastornos mentales debidos al uso de dro...  Hombres   \n",
       "20788  048  Trastornos mentales debidos al uso de dro...  Hombres   \n",
       "20903  048  Trastornos mentales debidos al uso de dro...  Hombres   \n",
       "21765  048  Trastornos mentales debidos al uso de dro...  Hombres   \n",
       "21874  048  Trastornos mentales debidos al uso de dro...  Hombres   \n",
       "22745  048  Trastornos mentales debidos al uso de dro...  Hombres   \n",
       "\n",
       "                  Edad  Periodo  Total cause_code   cause_group  \\\n",
       "13145  De 25 a 29 años     1990     23        048  Single cause   \n",
       "16913  De 30 a 34 años     1990     13        048  Single cause   \n",
       "17734  De 20 a 24 años     1990     11        048  Single cause   \n",
       "19159  De 40 a 44 años     2010      9        048  Single cause   \n",
       "20767  De 25 a 29 años     2000      7        048  Single cause   \n",
       "20788  De 35 a 39 años     2010      7        048  Single cause   \n",
       "20903  De 35 a 39 años     1990      7        048  Single cause   \n",
       "21765  De 30 a 34 años     2000      6        048  Single cause   \n",
       "21874  De 30 a 34 años     2010      6        048  Single cause   \n",
       "22745  De 40 a 44 años     2000      5        048  Single cause   \n",
       "\n",
       "                                              cause_name  \n",
       "13145  Trastornos mentales debidos al uso de drogas (...  \n",
       "16913  Trastornos mentales debidos al uso de drogas (...  \n",
       "17734  Trastornos mentales debidos al uso de drogas (...  \n",
       "19159  Trastornos mentales debidos al uso de drogas (...  \n",
       "20767  Trastornos mentales debidos al uso de drogas (...  \n",
       "20788  Trastornos mentales debidos al uso de drogas (...  \n",
       "20903  Trastornos mentales debidos al uso de drogas (...  \n",
       "21765  Trastornos mentales debidos al uso de drogas (...  \n",
       "21874  Trastornos mentales debidos al uso de drogas (...  \n",
       "22745  Trastornos mentales debidos al uso de drogas (...  "
      ]
     },
     "execution_count": 175,
     "metadata": {},
     "output_type": "execute_result"
    }
   ],
   "source": [
    "df_drogas = mod.row_filter(deaths, 'Sexo', ['Hombres'])\n",
    "df_drogas = mod.row_filter(df_drogas, 'Edad', ['De 15 a 19 años  ',\n",
    "       'De 20 a 24 años', 'De 25 a 29 años', 'De 30 a 34 años',\n",
    "       'De 35 a 39 años','De 40 a 44 años', 'De 45 a 49 años',\n",
    "       'De 50 a 54 años', 'De 55 a 59 años',])\n",
    "df_drogas = df_drogas[df_drogas['cause_name'].str.contains('uso de drogas')]\n",
    "df_drogas = df_drogas[df_drogas['Periodo'].isin([1980,1990,2000,2010,2020])]\n",
    "df_drogas.head(n=10)"
   ]
  },
  {
   "cell_type": "code",
   "execution_count": 163,
   "metadata": {},
   "outputs": [
    {
     "data": {
      "text/html": [
       "<div>\n",
       "<style scoped>\n",
       "    .dataframe tbody tr th:only-of-type {\n",
       "        vertical-align: middle;\n",
       "    }\n",
       "\n",
       "    .dataframe tbody tr th {\n",
       "        vertical-align: top;\n",
       "    }\n",
       "\n",
       "    .dataframe thead th {\n",
       "        text-align: right;\n",
       "    }\n",
       "</style>\n",
       "<table border=\"1\" class=\"dataframe\">\n",
       "  <thead>\n",
       "    <tr style=\"text-align: right;\">\n",
       "      <th>Edad</th>\n",
       "      <th>De 15 a 19 años</th>\n",
       "      <th>De 20 a 24 años</th>\n",
       "      <th>De 25 a 29 años</th>\n",
       "      <th>De 30 a 34 años</th>\n",
       "      <th>De 35 a 39 años</th>\n",
       "      <th>De 40 a 44 años</th>\n",
       "      <th>De 45 a 49 años</th>\n",
       "      <th>De 50 a 54 años</th>\n",
       "      <th>De 55 a 59 años</th>\n",
       "    </tr>\n",
       "    <tr>\n",
       "      <th>Periodo</th>\n",
       "      <th></th>\n",
       "      <th></th>\n",
       "      <th></th>\n",
       "      <th></th>\n",
       "      <th></th>\n",
       "      <th></th>\n",
       "      <th></th>\n",
       "      <th></th>\n",
       "      <th></th>\n",
       "    </tr>\n",
       "  </thead>\n",
       "  <tbody>\n",
       "    <tr>\n",
       "      <th>1980</th>\n",
       "      <td>0</td>\n",
       "      <td>2</td>\n",
       "      <td>2</td>\n",
       "      <td>2</td>\n",
       "      <td>2</td>\n",
       "      <td>0</td>\n",
       "      <td>1</td>\n",
       "      <td>1</td>\n",
       "      <td>1</td>\n",
       "    </tr>\n",
       "    <tr>\n",
       "      <th>1990</th>\n",
       "      <td>2</td>\n",
       "      <td>11</td>\n",
       "      <td>23</td>\n",
       "      <td>13</td>\n",
       "      <td>7</td>\n",
       "      <td>3</td>\n",
       "      <td>3</td>\n",
       "      <td>1</td>\n",
       "      <td>2</td>\n",
       "    </tr>\n",
       "    <tr>\n",
       "      <th>2000</th>\n",
       "      <td>0</td>\n",
       "      <td>2</td>\n",
       "      <td>7</td>\n",
       "      <td>6</td>\n",
       "      <td>5</td>\n",
       "      <td>5</td>\n",
       "      <td>2</td>\n",
       "      <td>2</td>\n",
       "      <td>0</td>\n",
       "    </tr>\n",
       "    <tr>\n",
       "      <th>2010</th>\n",
       "      <td>0</td>\n",
       "      <td>1</td>\n",
       "      <td>3</td>\n",
       "      <td>6</td>\n",
       "      <td>7</td>\n",
       "      <td>9</td>\n",
       "      <td>5</td>\n",
       "      <td>3</td>\n",
       "      <td>3</td>\n",
       "    </tr>\n",
       "  </tbody>\n",
       "</table>\n",
       "</div>"
      ],
      "text/plain": [
       "Edad     De 15 a 19 años    De 20 a 24 años  De 25 a 29 años  De 30 a 34 años  \\\n",
       "Periodo                                                                         \n",
       "1980                     0                2                2                2   \n",
       "1990                     2               11               23               13   \n",
       "2000                     0                2                7                6   \n",
       "2010                     0                1                3                6   \n",
       "\n",
       "Edad     De 35 a 39 años  De 40 a 44 años  De 45 a 49 años  De 50 a 54 años  \\\n",
       "Periodo                                                                       \n",
       "1980                   2                0                1                1   \n",
       "1990                   7                3                3                1   \n",
       "2000                   5                5                2                2   \n",
       "2010                   7                9                5                3   \n",
       "\n",
       "Edad     De 55 a 59 años  \n",
       "Periodo                   \n",
       "1980                   1  \n",
       "1990                   2  \n",
       "2000                   0  \n",
       "2010                   3  "
      ]
     },
     "execution_count": 163,
     "metadata": {},
     "output_type": "execute_result"
    }
   ],
   "source": [
    "df_drogas = df_drogas.pivot(index='Periodo', columns='Edad', values='Total')\n",
    "df_drogas"
   ]
  },
  {
   "cell_type": "code",
   "execution_count": 170,
   "metadata": {},
   "outputs": [
    {
     "data": {
      "application/vnd.plotly.v1+json": {
       "config": {
        "linkText": "Export to plot.ly",
        "plotlyServerURL": "https://plot.ly",
        "showLink": true
       },
       "data": [
        {
         "line": {
          "color": "rgba(226, 74, 51, 1.0)",
          "dash": "solid",
          "shape": "linear",
          "width": 1.3
         },
         "mode": "lines",
         "name": "De 15 a 19 años  ",
         "text": "",
         "type": "scatter",
         "x": [
          1980,
          1990,
          2000,
          2010
         ],
         "y": [
          0,
          2,
          0,
          0
         ]
        },
        {
         "line": {
          "color": "rgba(62, 111, 176, 1.0)",
          "dash": "solid",
          "shape": "linear",
          "width": 1.3
         },
         "mode": "lines",
         "name": "De 20 a 24 años",
         "text": "",
         "type": "scatter",
         "x": [
          1980,
          1990,
          2000,
          2010
         ],
         "y": [
          2,
          11,
          2,
          1
         ]
        },
        {
         "line": {
          "color": "rgba(132, 118, 202, 1.0)",
          "dash": "solid",
          "shape": "linear",
          "width": 1.3
         },
         "mode": "lines",
         "name": "De 25 a 29 años",
         "text": "",
         "type": "scatter",
         "x": [
          1980,
          1990,
          2000,
          2010
         ],
         "y": [
          2,
          23,
          7,
          3
         ]
        },
        {
         "line": {
          "color": "rgba(101, 101, 101, 1.0)",
          "dash": "solid",
          "shape": "linear",
          "width": 1.3
         },
         "mode": "lines",
         "name": "De 30 a 34 años",
         "text": "",
         "type": "scatter",
         "x": [
          1980,
          1990,
          2000,
          2010
         ],
         "y": [
          2,
          13,
          6,
          6
         ]
        },
        {
         "line": {
          "color": "rgba(251, 193, 94, 1.0)",
          "dash": "solid",
          "shape": "linear",
          "width": 1.3
         },
         "mode": "lines",
         "name": "De 35 a 39 años",
         "text": "",
         "type": "scatter",
         "x": [
          1980,
          1990,
          2000,
          2010
         ],
         "y": [
          2,
          7,
          5,
          7
         ]
        },
        {
         "line": {
          "color": "rgba(142, 186, 66, 1.0)",
          "dash": "solid",
          "shape": "linear",
          "width": 1.3
         },
         "mode": "lines",
         "name": "De 40 a 44 años",
         "text": "",
         "type": "scatter",
         "x": [
          1980,
          1990,
          2000,
          2010
         ],
         "y": [
          0,
          3,
          5,
          9
         ]
        },
        {
         "line": {
          "color": "rgba(255, 181, 184, 1.0)",
          "dash": "solid",
          "shape": "linear",
          "width": 1.3
         },
         "mode": "lines",
         "name": "De 45 a 49 años",
         "text": "",
         "type": "scatter",
         "x": [
          1980,
          1990,
          2000,
          2010
         ],
         "y": [
          1,
          3,
          2,
          5
         ]
        },
        {
         "line": {
          "color": "rgba(255, 181, 184, 0.8999999999999999)",
          "dash": "solid",
          "shape": "linear",
          "width": 1.3
         },
         "mode": "lines",
         "name": "De 50 a 54 años",
         "text": "",
         "type": "scatter",
         "x": [
          1980,
          1990,
          2000,
          2010
         ],
         "y": [
          1,
          1,
          2,
          3
         ]
        },
        {
         "line": {
          "color": "rgba(226, 74, 51, 0.8999999999999999)",
          "dash": "solid",
          "shape": "linear",
          "width": 1.3
         },
         "mode": "lines",
         "name": "De 55 a 59 años",
         "text": "",
         "type": "scatter",
         "x": [
          1980,
          1990,
          2000,
          2010
         ],
         "y": [
          1,
          2,
          0,
          3
         ]
        }
       ],
       "layout": {
        "legend": {
         "bgcolor": "#FFFFFF",
         "font": {
          "color": "#666666"
         }
        },
        "paper_bgcolor": "#FFFFFF",
        "plot_bgcolor": "#E5E5E5",
        "template": {
         "data": {
          "bar": [
           {
            "error_x": {
             "color": "#2a3f5f"
            },
            "error_y": {
             "color": "#2a3f5f"
            },
            "marker": {
             "line": {
              "color": "#E5ECF6",
              "width": 0.5
             },
             "pattern": {
              "fillmode": "overlay",
              "size": 10,
              "solidity": 0.2
             }
            },
            "type": "bar"
           }
          ],
          "barpolar": [
           {
            "marker": {
             "line": {
              "color": "#E5ECF6",
              "width": 0.5
             },
             "pattern": {
              "fillmode": "overlay",
              "size": 10,
              "solidity": 0.2
             }
            },
            "type": "barpolar"
           }
          ],
          "carpet": [
           {
            "aaxis": {
             "endlinecolor": "#2a3f5f",
             "gridcolor": "white",
             "linecolor": "white",
             "minorgridcolor": "white",
             "startlinecolor": "#2a3f5f"
            },
            "baxis": {
             "endlinecolor": "#2a3f5f",
             "gridcolor": "white",
             "linecolor": "white",
             "minorgridcolor": "white",
             "startlinecolor": "#2a3f5f"
            },
            "type": "carpet"
           }
          ],
          "choropleth": [
           {
            "colorbar": {
             "outlinewidth": 0,
             "ticks": ""
            },
            "type": "choropleth"
           }
          ],
          "contour": [
           {
            "colorbar": {
             "outlinewidth": 0,
             "ticks": ""
            },
            "colorscale": [
             [
              0,
              "#0d0887"
             ],
             [
              0.1111111111111111,
              "#46039f"
             ],
             [
              0.2222222222222222,
              "#7201a8"
             ],
             [
              0.3333333333333333,
              "#9c179e"
             ],
             [
              0.4444444444444444,
              "#bd3786"
             ],
             [
              0.5555555555555556,
              "#d8576b"
             ],
             [
              0.6666666666666666,
              "#ed7953"
             ],
             [
              0.7777777777777778,
              "#fb9f3a"
             ],
             [
              0.8888888888888888,
              "#fdca26"
             ],
             [
              1,
              "#f0f921"
             ]
            ],
            "type": "contour"
           }
          ],
          "contourcarpet": [
           {
            "colorbar": {
             "outlinewidth": 0,
             "ticks": ""
            },
            "type": "contourcarpet"
           }
          ],
          "heatmap": [
           {
            "colorbar": {
             "outlinewidth": 0,
             "ticks": ""
            },
            "colorscale": [
             [
              0,
              "#0d0887"
             ],
             [
              0.1111111111111111,
              "#46039f"
             ],
             [
              0.2222222222222222,
              "#7201a8"
             ],
             [
              0.3333333333333333,
              "#9c179e"
             ],
             [
              0.4444444444444444,
              "#bd3786"
             ],
             [
              0.5555555555555556,
              "#d8576b"
             ],
             [
              0.6666666666666666,
              "#ed7953"
             ],
             [
              0.7777777777777778,
              "#fb9f3a"
             ],
             [
              0.8888888888888888,
              "#fdca26"
             ],
             [
              1,
              "#f0f921"
             ]
            ],
            "type": "heatmap"
           }
          ],
          "heatmapgl": [
           {
            "colorbar": {
             "outlinewidth": 0,
             "ticks": ""
            },
            "colorscale": [
             [
              0,
              "#0d0887"
             ],
             [
              0.1111111111111111,
              "#46039f"
             ],
             [
              0.2222222222222222,
              "#7201a8"
             ],
             [
              0.3333333333333333,
              "#9c179e"
             ],
             [
              0.4444444444444444,
              "#bd3786"
             ],
             [
              0.5555555555555556,
              "#d8576b"
             ],
             [
              0.6666666666666666,
              "#ed7953"
             ],
             [
              0.7777777777777778,
              "#fb9f3a"
             ],
             [
              0.8888888888888888,
              "#fdca26"
             ],
             [
              1,
              "#f0f921"
             ]
            ],
            "type": "heatmapgl"
           }
          ],
          "histogram": [
           {
            "marker": {
             "pattern": {
              "fillmode": "overlay",
              "size": 10,
              "solidity": 0.2
             }
            },
            "type": "histogram"
           }
          ],
          "histogram2d": [
           {
            "colorbar": {
             "outlinewidth": 0,
             "ticks": ""
            },
            "colorscale": [
             [
              0,
              "#0d0887"
             ],
             [
              0.1111111111111111,
              "#46039f"
             ],
             [
              0.2222222222222222,
              "#7201a8"
             ],
             [
              0.3333333333333333,
              "#9c179e"
             ],
             [
              0.4444444444444444,
              "#bd3786"
             ],
             [
              0.5555555555555556,
              "#d8576b"
             ],
             [
              0.6666666666666666,
              "#ed7953"
             ],
             [
              0.7777777777777778,
              "#fb9f3a"
             ],
             [
              0.8888888888888888,
              "#fdca26"
             ],
             [
              1,
              "#f0f921"
             ]
            ],
            "type": "histogram2d"
           }
          ],
          "histogram2dcontour": [
           {
            "colorbar": {
             "outlinewidth": 0,
             "ticks": ""
            },
            "colorscale": [
             [
              0,
              "#0d0887"
             ],
             [
              0.1111111111111111,
              "#46039f"
             ],
             [
              0.2222222222222222,
              "#7201a8"
             ],
             [
              0.3333333333333333,
              "#9c179e"
             ],
             [
              0.4444444444444444,
              "#bd3786"
             ],
             [
              0.5555555555555556,
              "#d8576b"
             ],
             [
              0.6666666666666666,
              "#ed7953"
             ],
             [
              0.7777777777777778,
              "#fb9f3a"
             ],
             [
              0.8888888888888888,
              "#fdca26"
             ],
             [
              1,
              "#f0f921"
             ]
            ],
            "type": "histogram2dcontour"
           }
          ],
          "mesh3d": [
           {
            "colorbar": {
             "outlinewidth": 0,
             "ticks": ""
            },
            "type": "mesh3d"
           }
          ],
          "parcoords": [
           {
            "line": {
             "colorbar": {
              "outlinewidth": 0,
              "ticks": ""
             }
            },
            "type": "parcoords"
           }
          ],
          "pie": [
           {
            "automargin": true,
            "type": "pie"
           }
          ],
          "scatter": [
           {
            "fillpattern": {
             "fillmode": "overlay",
             "size": 10,
             "solidity": 0.2
            },
            "type": "scatter"
           }
          ],
          "scatter3d": [
           {
            "line": {
             "colorbar": {
              "outlinewidth": 0,
              "ticks": ""
             }
            },
            "marker": {
             "colorbar": {
              "outlinewidth": 0,
              "ticks": ""
             }
            },
            "type": "scatter3d"
           }
          ],
          "scattercarpet": [
           {
            "marker": {
             "colorbar": {
              "outlinewidth": 0,
              "ticks": ""
             }
            },
            "type": "scattercarpet"
           }
          ],
          "scattergeo": [
           {
            "marker": {
             "colorbar": {
              "outlinewidth": 0,
              "ticks": ""
             }
            },
            "type": "scattergeo"
           }
          ],
          "scattergl": [
           {
            "marker": {
             "colorbar": {
              "outlinewidth": 0,
              "ticks": ""
             }
            },
            "type": "scattergl"
           }
          ],
          "scattermapbox": [
           {
            "marker": {
             "colorbar": {
              "outlinewidth": 0,
              "ticks": ""
             }
            },
            "type": "scattermapbox"
           }
          ],
          "scatterpolar": [
           {
            "marker": {
             "colorbar": {
              "outlinewidth": 0,
              "ticks": ""
             }
            },
            "type": "scatterpolar"
           }
          ],
          "scatterpolargl": [
           {
            "marker": {
             "colorbar": {
              "outlinewidth": 0,
              "ticks": ""
             }
            },
            "type": "scatterpolargl"
           }
          ],
          "scatterternary": [
           {
            "marker": {
             "colorbar": {
              "outlinewidth": 0,
              "ticks": ""
             }
            },
            "type": "scatterternary"
           }
          ],
          "surface": [
           {
            "colorbar": {
             "outlinewidth": 0,
             "ticks": ""
            },
            "colorscale": [
             [
              0,
              "#0d0887"
             ],
             [
              0.1111111111111111,
              "#46039f"
             ],
             [
              0.2222222222222222,
              "#7201a8"
             ],
             [
              0.3333333333333333,
              "#9c179e"
             ],
             [
              0.4444444444444444,
              "#bd3786"
             ],
             [
              0.5555555555555556,
              "#d8576b"
             ],
             [
              0.6666666666666666,
              "#ed7953"
             ],
             [
              0.7777777777777778,
              "#fb9f3a"
             ],
             [
              0.8888888888888888,
              "#fdca26"
             ],
             [
              1,
              "#f0f921"
             ]
            ],
            "type": "surface"
           }
          ],
          "table": [
           {
            "cells": {
             "fill": {
              "color": "#EBF0F8"
             },
             "line": {
              "color": "white"
             }
            },
            "header": {
             "fill": {
              "color": "#C8D4E3"
             },
             "line": {
              "color": "white"
             }
            },
            "type": "table"
           }
          ]
         },
         "layout": {
          "annotationdefaults": {
           "arrowcolor": "#2a3f5f",
           "arrowhead": 0,
           "arrowwidth": 1
          },
          "autotypenumbers": "strict",
          "coloraxis": {
           "colorbar": {
            "outlinewidth": 0,
            "ticks": ""
           }
          },
          "colorscale": {
           "diverging": [
            [
             0,
             "#8e0152"
            ],
            [
             0.1,
             "#c51b7d"
            ],
            [
             0.2,
             "#de77ae"
            ],
            [
             0.3,
             "#f1b6da"
            ],
            [
             0.4,
             "#fde0ef"
            ],
            [
             0.5,
             "#f7f7f7"
            ],
            [
             0.6,
             "#e6f5d0"
            ],
            [
             0.7,
             "#b8e186"
            ],
            [
             0.8,
             "#7fbc41"
            ],
            [
             0.9,
             "#4d9221"
            ],
            [
             1,
             "#276419"
            ]
           ],
           "sequential": [
            [
             0,
             "#0d0887"
            ],
            [
             0.1111111111111111,
             "#46039f"
            ],
            [
             0.2222222222222222,
             "#7201a8"
            ],
            [
             0.3333333333333333,
             "#9c179e"
            ],
            [
             0.4444444444444444,
             "#bd3786"
            ],
            [
             0.5555555555555556,
             "#d8576b"
            ],
            [
             0.6666666666666666,
             "#ed7953"
            ],
            [
             0.7777777777777778,
             "#fb9f3a"
            ],
            [
             0.8888888888888888,
             "#fdca26"
            ],
            [
             1,
             "#f0f921"
            ]
           ],
           "sequentialminus": [
            [
             0,
             "#0d0887"
            ],
            [
             0.1111111111111111,
             "#46039f"
            ],
            [
             0.2222222222222222,
             "#7201a8"
            ],
            [
             0.3333333333333333,
             "#9c179e"
            ],
            [
             0.4444444444444444,
             "#bd3786"
            ],
            [
             0.5555555555555556,
             "#d8576b"
            ],
            [
             0.6666666666666666,
             "#ed7953"
            ],
            [
             0.7777777777777778,
             "#fb9f3a"
            ],
            [
             0.8888888888888888,
             "#fdca26"
            ],
            [
             1,
             "#f0f921"
            ]
           ]
          },
          "colorway": [
           "#636efa",
           "#EF553B",
           "#00cc96",
           "#ab63fa",
           "#FFA15A",
           "#19d3f3",
           "#FF6692",
           "#B6E880",
           "#FF97FF",
           "#FECB52"
          ],
          "font": {
           "color": "#2a3f5f"
          },
          "geo": {
           "bgcolor": "white",
           "lakecolor": "white",
           "landcolor": "#E5ECF6",
           "showlakes": true,
           "showland": true,
           "subunitcolor": "white"
          },
          "hoverlabel": {
           "align": "left"
          },
          "hovermode": "closest",
          "mapbox": {
           "style": "light"
          },
          "paper_bgcolor": "white",
          "plot_bgcolor": "#E5ECF6",
          "polar": {
           "angularaxis": {
            "gridcolor": "white",
            "linecolor": "white",
            "ticks": ""
           },
           "bgcolor": "#E5ECF6",
           "radialaxis": {
            "gridcolor": "white",
            "linecolor": "white",
            "ticks": ""
           }
          },
          "scene": {
           "xaxis": {
            "backgroundcolor": "#E5ECF6",
            "gridcolor": "white",
            "gridwidth": 2,
            "linecolor": "white",
            "showbackground": true,
            "ticks": "",
            "zerolinecolor": "white"
           },
           "yaxis": {
            "backgroundcolor": "#E5ECF6",
            "gridcolor": "white",
            "gridwidth": 2,
            "linecolor": "white",
            "showbackground": true,
            "ticks": "",
            "zerolinecolor": "white"
           },
           "zaxis": {
            "backgroundcolor": "#E5ECF6",
            "gridcolor": "white",
            "gridwidth": 2,
            "linecolor": "white",
            "showbackground": true,
            "ticks": "",
            "zerolinecolor": "white"
           }
          },
          "shapedefaults": {
           "line": {
            "color": "#2a3f5f"
           }
          },
          "ternary": {
           "aaxis": {
            "gridcolor": "white",
            "linecolor": "white",
            "ticks": ""
           },
           "baxis": {
            "gridcolor": "white",
            "linecolor": "white",
            "ticks": ""
           },
           "bgcolor": "#E5ECF6",
           "caxis": {
            "gridcolor": "white",
            "linecolor": "white",
            "ticks": ""
           }
          },
          "title": {
           "x": 0.05
          },
          "xaxis": {
           "automargin": true,
           "gridcolor": "white",
           "linecolor": "white",
           "ticks": "",
           "title": {
            "standoff": 15
           },
           "zerolinecolor": "white",
           "zerolinewidth": 2
          },
          "yaxis": {
           "automargin": true,
           "gridcolor": "white",
           "linecolor": "white",
           "ticks": "",
           "title": {
            "standoff": 15
           },
           "zerolinecolor": "white",
           "zerolinewidth": 2
          }
         }
        },
        "title": {
         "font": {
          "color": "#151516"
         },
         "text": "Hombres que mueren por uso de droga"
        },
        "xaxis": {
         "gridcolor": "#F6F6F6",
         "showgrid": true,
         "tickfont": {
          "color": "#666666"
         },
         "title": {
          "font": {
           "color": "#666666"
          },
          "text": "Años"
         },
         "zerolinecolor": "#F6F6F6"
        },
        "yaxis": {
         "gridcolor": "#F6F6F6",
         "showgrid": true,
         "tickfont": {
          "color": "#666666"
         },
         "title": {
          "font": {
           "color": "#666666"
          },
          "text": "Edades"
         },
         "zerolinecolor": "#F6F6F6"
        }
       }
      },
      "text/html": [
       "<div>                            <div id=\"fa3ed705-a6ea-495c-97c2-b230fcd3a39c\" class=\"plotly-graph-div\" style=\"height:525px; width:100%;\"></div>            <script type=\"text/javascript\">                require([\"plotly\"], function(Plotly) {                    window.PLOTLYENV=window.PLOTLYENV || {};\n",
       "                    window.PLOTLYENV.BASE_URL='https://plot.ly';                                    if (document.getElementById(\"fa3ed705-a6ea-495c-97c2-b230fcd3a39c\")) {                    Plotly.newPlot(                        \"fa3ed705-a6ea-495c-97c2-b230fcd3a39c\",                        [{\"line\":{\"color\":\"rgba(226, 74, 51, 1.0)\",\"dash\":\"solid\",\"shape\":\"linear\",\"width\":1.3},\"mode\":\"lines\",\"name\":\"De 15 a 19 a\\u00f1os  \",\"text\":\"\",\"x\":[1980,1990,2000,2010],\"y\":[0,2,0,0],\"type\":\"scatter\"},{\"line\":{\"color\":\"rgba(62, 111, 176, 1.0)\",\"dash\":\"solid\",\"shape\":\"linear\",\"width\":1.3},\"mode\":\"lines\",\"name\":\"De 20 a 24 a\\u00f1os\",\"text\":\"\",\"x\":[1980,1990,2000,2010],\"y\":[2,11,2,1],\"type\":\"scatter\"},{\"line\":{\"color\":\"rgba(132, 118, 202, 1.0)\",\"dash\":\"solid\",\"shape\":\"linear\",\"width\":1.3},\"mode\":\"lines\",\"name\":\"De 25 a 29 a\\u00f1os\",\"text\":\"\",\"x\":[1980,1990,2000,2010],\"y\":[2,23,7,3],\"type\":\"scatter\"},{\"line\":{\"color\":\"rgba(101, 101, 101, 1.0)\",\"dash\":\"solid\",\"shape\":\"linear\",\"width\":1.3},\"mode\":\"lines\",\"name\":\"De 30 a 34 a\\u00f1os\",\"text\":\"\",\"x\":[1980,1990,2000,2010],\"y\":[2,13,6,6],\"type\":\"scatter\"},{\"line\":{\"color\":\"rgba(251, 193, 94, 1.0)\",\"dash\":\"solid\",\"shape\":\"linear\",\"width\":1.3},\"mode\":\"lines\",\"name\":\"De 35 a 39 a\\u00f1os\",\"text\":\"\",\"x\":[1980,1990,2000,2010],\"y\":[2,7,5,7],\"type\":\"scatter\"},{\"line\":{\"color\":\"rgba(142, 186, 66, 1.0)\",\"dash\":\"solid\",\"shape\":\"linear\",\"width\":1.3},\"mode\":\"lines\",\"name\":\"De 40 a 44 a\\u00f1os\",\"text\":\"\",\"x\":[1980,1990,2000,2010],\"y\":[0,3,5,9],\"type\":\"scatter\"},{\"line\":{\"color\":\"rgba(255, 181, 184, 1.0)\",\"dash\":\"solid\",\"shape\":\"linear\",\"width\":1.3},\"mode\":\"lines\",\"name\":\"De 45 a 49 a\\u00f1os\",\"text\":\"\",\"x\":[1980,1990,2000,2010],\"y\":[1,3,2,5],\"type\":\"scatter\"},{\"line\":{\"color\":\"rgba(255, 181, 184, 0.8999999999999999)\",\"dash\":\"solid\",\"shape\":\"linear\",\"width\":1.3},\"mode\":\"lines\",\"name\":\"De 50 a 54 a\\u00f1os\",\"text\":\"\",\"x\":[1980,1990,2000,2010],\"y\":[1,1,2,3],\"type\":\"scatter\"},{\"line\":{\"color\":\"rgba(226, 74, 51, 0.8999999999999999)\",\"dash\":\"solid\",\"shape\":\"linear\",\"width\":1.3},\"mode\":\"lines\",\"name\":\"De 55 a 59 a\\u00f1os\",\"text\":\"\",\"x\":[1980,1990,2000,2010],\"y\":[1,2,0,3],\"type\":\"scatter\"}],                        {\"legend\":{\"bgcolor\":\"#FFFFFF\",\"font\":{\"color\":\"#666666\"}},\"paper_bgcolor\":\"#FFFFFF\",\"plot_bgcolor\":\"#E5E5E5\",\"template\":{\"data\":{\"barpolar\":[{\"marker\":{\"line\":{\"color\":\"#E5ECF6\",\"width\":0.5},\"pattern\":{\"fillmode\":\"overlay\",\"size\":10,\"solidity\":0.2}},\"type\":\"barpolar\"}],\"bar\":[{\"error_x\":{\"color\":\"#2a3f5f\"},\"error_y\":{\"color\":\"#2a3f5f\"},\"marker\":{\"line\":{\"color\":\"#E5ECF6\",\"width\":0.5},\"pattern\":{\"fillmode\":\"overlay\",\"size\":10,\"solidity\":0.2}},\"type\":\"bar\"}],\"carpet\":[{\"aaxis\":{\"endlinecolor\":\"#2a3f5f\",\"gridcolor\":\"white\",\"linecolor\":\"white\",\"minorgridcolor\":\"white\",\"startlinecolor\":\"#2a3f5f\"},\"baxis\":{\"endlinecolor\":\"#2a3f5f\",\"gridcolor\":\"white\",\"linecolor\":\"white\",\"minorgridcolor\":\"white\",\"startlinecolor\":\"#2a3f5f\"},\"type\":\"carpet\"}],\"choropleth\":[{\"colorbar\":{\"outlinewidth\":0,\"ticks\":\"\"},\"type\":\"choropleth\"}],\"contourcarpet\":[{\"colorbar\":{\"outlinewidth\":0,\"ticks\":\"\"},\"type\":\"contourcarpet\"}],\"contour\":[{\"colorbar\":{\"outlinewidth\":0,\"ticks\":\"\"},\"colorscale\":[[0.0,\"#0d0887\"],[0.1111111111111111,\"#46039f\"],[0.2222222222222222,\"#7201a8\"],[0.3333333333333333,\"#9c179e\"],[0.4444444444444444,\"#bd3786\"],[0.5555555555555556,\"#d8576b\"],[0.6666666666666666,\"#ed7953\"],[0.7777777777777778,\"#fb9f3a\"],[0.8888888888888888,\"#fdca26\"],[1.0,\"#f0f921\"]],\"type\":\"contour\"}],\"heatmapgl\":[{\"colorbar\":{\"outlinewidth\":0,\"ticks\":\"\"},\"colorscale\":[[0.0,\"#0d0887\"],[0.1111111111111111,\"#46039f\"],[0.2222222222222222,\"#7201a8\"],[0.3333333333333333,\"#9c179e\"],[0.4444444444444444,\"#bd3786\"],[0.5555555555555556,\"#d8576b\"],[0.6666666666666666,\"#ed7953\"],[0.7777777777777778,\"#fb9f3a\"],[0.8888888888888888,\"#fdca26\"],[1.0,\"#f0f921\"]],\"type\":\"heatmapgl\"}],\"heatmap\":[{\"colorbar\":{\"outlinewidth\":0,\"ticks\":\"\"},\"colorscale\":[[0.0,\"#0d0887\"],[0.1111111111111111,\"#46039f\"],[0.2222222222222222,\"#7201a8\"],[0.3333333333333333,\"#9c179e\"],[0.4444444444444444,\"#bd3786\"],[0.5555555555555556,\"#d8576b\"],[0.6666666666666666,\"#ed7953\"],[0.7777777777777778,\"#fb9f3a\"],[0.8888888888888888,\"#fdca26\"],[1.0,\"#f0f921\"]],\"type\":\"heatmap\"}],\"histogram2dcontour\":[{\"colorbar\":{\"outlinewidth\":0,\"ticks\":\"\"},\"colorscale\":[[0.0,\"#0d0887\"],[0.1111111111111111,\"#46039f\"],[0.2222222222222222,\"#7201a8\"],[0.3333333333333333,\"#9c179e\"],[0.4444444444444444,\"#bd3786\"],[0.5555555555555556,\"#d8576b\"],[0.6666666666666666,\"#ed7953\"],[0.7777777777777778,\"#fb9f3a\"],[0.8888888888888888,\"#fdca26\"],[1.0,\"#f0f921\"]],\"type\":\"histogram2dcontour\"}],\"histogram2d\":[{\"colorbar\":{\"outlinewidth\":0,\"ticks\":\"\"},\"colorscale\":[[0.0,\"#0d0887\"],[0.1111111111111111,\"#46039f\"],[0.2222222222222222,\"#7201a8\"],[0.3333333333333333,\"#9c179e\"],[0.4444444444444444,\"#bd3786\"],[0.5555555555555556,\"#d8576b\"],[0.6666666666666666,\"#ed7953\"],[0.7777777777777778,\"#fb9f3a\"],[0.8888888888888888,\"#fdca26\"],[1.0,\"#f0f921\"]],\"type\":\"histogram2d\"}],\"histogram\":[{\"marker\":{\"pattern\":{\"fillmode\":\"overlay\",\"size\":10,\"solidity\":0.2}},\"type\":\"histogram\"}],\"mesh3d\":[{\"colorbar\":{\"outlinewidth\":0,\"ticks\":\"\"},\"type\":\"mesh3d\"}],\"parcoords\":[{\"line\":{\"colorbar\":{\"outlinewidth\":0,\"ticks\":\"\"}},\"type\":\"parcoords\"}],\"pie\":[{\"automargin\":true,\"type\":\"pie\"}],\"scatter3d\":[{\"line\":{\"colorbar\":{\"outlinewidth\":0,\"ticks\":\"\"}},\"marker\":{\"colorbar\":{\"outlinewidth\":0,\"ticks\":\"\"}},\"type\":\"scatter3d\"}],\"scattercarpet\":[{\"marker\":{\"colorbar\":{\"outlinewidth\":0,\"ticks\":\"\"}},\"type\":\"scattercarpet\"}],\"scattergeo\":[{\"marker\":{\"colorbar\":{\"outlinewidth\":0,\"ticks\":\"\"}},\"type\":\"scattergeo\"}],\"scattergl\":[{\"marker\":{\"colorbar\":{\"outlinewidth\":0,\"ticks\":\"\"}},\"type\":\"scattergl\"}],\"scattermapbox\":[{\"marker\":{\"colorbar\":{\"outlinewidth\":0,\"ticks\":\"\"}},\"type\":\"scattermapbox\"}],\"scatterpolargl\":[{\"marker\":{\"colorbar\":{\"outlinewidth\":0,\"ticks\":\"\"}},\"type\":\"scatterpolargl\"}],\"scatterpolar\":[{\"marker\":{\"colorbar\":{\"outlinewidth\":0,\"ticks\":\"\"}},\"type\":\"scatterpolar\"}],\"scatter\":[{\"fillpattern\":{\"fillmode\":\"overlay\",\"size\":10,\"solidity\":0.2},\"type\":\"scatter\"}],\"scatterternary\":[{\"marker\":{\"colorbar\":{\"outlinewidth\":0,\"ticks\":\"\"}},\"type\":\"scatterternary\"}],\"surface\":[{\"colorbar\":{\"outlinewidth\":0,\"ticks\":\"\"},\"colorscale\":[[0.0,\"#0d0887\"],[0.1111111111111111,\"#46039f\"],[0.2222222222222222,\"#7201a8\"],[0.3333333333333333,\"#9c179e\"],[0.4444444444444444,\"#bd3786\"],[0.5555555555555556,\"#d8576b\"],[0.6666666666666666,\"#ed7953\"],[0.7777777777777778,\"#fb9f3a\"],[0.8888888888888888,\"#fdca26\"],[1.0,\"#f0f921\"]],\"type\":\"surface\"}],\"table\":[{\"cells\":{\"fill\":{\"color\":\"#EBF0F8\"},\"line\":{\"color\":\"white\"}},\"header\":{\"fill\":{\"color\":\"#C8D4E3\"},\"line\":{\"color\":\"white\"}},\"type\":\"table\"}]},\"layout\":{\"annotationdefaults\":{\"arrowcolor\":\"#2a3f5f\",\"arrowhead\":0,\"arrowwidth\":1},\"autotypenumbers\":\"strict\",\"coloraxis\":{\"colorbar\":{\"outlinewidth\":0,\"ticks\":\"\"}},\"colorscale\":{\"diverging\":[[0,\"#8e0152\"],[0.1,\"#c51b7d\"],[0.2,\"#de77ae\"],[0.3,\"#f1b6da\"],[0.4,\"#fde0ef\"],[0.5,\"#f7f7f7\"],[0.6,\"#e6f5d0\"],[0.7,\"#b8e186\"],[0.8,\"#7fbc41\"],[0.9,\"#4d9221\"],[1,\"#276419\"]],\"sequential\":[[0.0,\"#0d0887\"],[0.1111111111111111,\"#46039f\"],[0.2222222222222222,\"#7201a8\"],[0.3333333333333333,\"#9c179e\"],[0.4444444444444444,\"#bd3786\"],[0.5555555555555556,\"#d8576b\"],[0.6666666666666666,\"#ed7953\"],[0.7777777777777778,\"#fb9f3a\"],[0.8888888888888888,\"#fdca26\"],[1.0,\"#f0f921\"]],\"sequentialminus\":[[0.0,\"#0d0887\"],[0.1111111111111111,\"#46039f\"],[0.2222222222222222,\"#7201a8\"],[0.3333333333333333,\"#9c179e\"],[0.4444444444444444,\"#bd3786\"],[0.5555555555555556,\"#d8576b\"],[0.6666666666666666,\"#ed7953\"],[0.7777777777777778,\"#fb9f3a\"],[0.8888888888888888,\"#fdca26\"],[1.0,\"#f0f921\"]]},\"colorway\":[\"#636efa\",\"#EF553B\",\"#00cc96\",\"#ab63fa\",\"#FFA15A\",\"#19d3f3\",\"#FF6692\",\"#B6E880\",\"#FF97FF\",\"#FECB52\"],\"font\":{\"color\":\"#2a3f5f\"},\"geo\":{\"bgcolor\":\"white\",\"lakecolor\":\"white\",\"landcolor\":\"#E5ECF6\",\"showlakes\":true,\"showland\":true,\"subunitcolor\":\"white\"},\"hoverlabel\":{\"align\":\"left\"},\"hovermode\":\"closest\",\"mapbox\":{\"style\":\"light\"},\"paper_bgcolor\":\"white\",\"plot_bgcolor\":\"#E5ECF6\",\"polar\":{\"angularaxis\":{\"gridcolor\":\"white\",\"linecolor\":\"white\",\"ticks\":\"\"},\"bgcolor\":\"#E5ECF6\",\"radialaxis\":{\"gridcolor\":\"white\",\"linecolor\":\"white\",\"ticks\":\"\"}},\"scene\":{\"xaxis\":{\"backgroundcolor\":\"#E5ECF6\",\"gridcolor\":\"white\",\"gridwidth\":2,\"linecolor\":\"white\",\"showbackground\":true,\"ticks\":\"\",\"zerolinecolor\":\"white\"},\"yaxis\":{\"backgroundcolor\":\"#E5ECF6\",\"gridcolor\":\"white\",\"gridwidth\":2,\"linecolor\":\"white\",\"showbackground\":true,\"ticks\":\"\",\"zerolinecolor\":\"white\"},\"zaxis\":{\"backgroundcolor\":\"#E5ECF6\",\"gridcolor\":\"white\",\"gridwidth\":2,\"linecolor\":\"white\",\"showbackground\":true,\"ticks\":\"\",\"zerolinecolor\":\"white\"}},\"shapedefaults\":{\"line\":{\"color\":\"#2a3f5f\"}},\"ternary\":{\"aaxis\":{\"gridcolor\":\"white\",\"linecolor\":\"white\",\"ticks\":\"\"},\"baxis\":{\"gridcolor\":\"white\",\"linecolor\":\"white\",\"ticks\":\"\"},\"bgcolor\":\"#E5ECF6\",\"caxis\":{\"gridcolor\":\"white\",\"linecolor\":\"white\",\"ticks\":\"\"}},\"title\":{\"x\":0.05},\"xaxis\":{\"automargin\":true,\"gridcolor\":\"white\",\"linecolor\":\"white\",\"ticks\":\"\",\"title\":{\"standoff\":15},\"zerolinecolor\":\"white\",\"zerolinewidth\":2},\"yaxis\":{\"automargin\":true,\"gridcolor\":\"white\",\"linecolor\":\"white\",\"ticks\":\"\",\"title\":{\"standoff\":15},\"zerolinecolor\":\"white\",\"zerolinewidth\":2}}},\"title\":{\"font\":{\"color\":\"#151516\"},\"text\":\"Hombres que mueren por uso de droga\"},\"xaxis\":{\"gridcolor\":\"#F6F6F6\",\"showgrid\":true,\"tickfont\":{\"color\":\"#666666\"},\"title\":{\"font\":{\"color\":\"#666666\"},\"text\":\"A\\u00f1os\"},\"zerolinecolor\":\"#F6F6F6\"},\"yaxis\":{\"gridcolor\":\"#F6F6F6\",\"showgrid\":true,\"tickfont\":{\"color\":\"#666666\"},\"title\":{\"font\":{\"color\":\"#666666\"},\"text\":\"Edades\"},\"zerolinecolor\":\"#F6F6F6\"}},                        {\"showLink\": true, \"linkText\": \"Export to plot.ly\", \"plotlyServerURL\": \"https://plot.ly\", \"responsive\": true}                    ).then(function(){\n",
       "                            \n",
       "var gd = document.getElementById('fa3ed705-a6ea-495c-97c2-b230fcd3a39c');\n",
       "var x = new MutationObserver(function (mutations, observer) {{\n",
       "        var display = window.getComputedStyle(gd).display;\n",
       "        if (!display || display === 'none') {{\n",
       "            console.log([gd, 'removed!']);\n",
       "            Plotly.purge(gd);\n",
       "            observer.disconnect();\n",
       "        }}\n",
       "}});\n",
       "\n",
       "// Listen for the removal of the full notebook cells\n",
       "var notebookContainer = gd.closest('#notebook-container');\n",
       "if (notebookContainer) {{\n",
       "    x.observe(notebookContainer, {childList: true});\n",
       "}}\n",
       "\n",
       "// Listen for the clearing of the current output cell\n",
       "var outputEl = gd.closest('.output');\n",
       "if (outputEl) {{\n",
       "    x.observe(outputEl, {childList: true});\n",
       "}}\n",
       "\n",
       "                        })                };                });            </script>        </div>"
      ]
     },
     "metadata": {},
     "output_type": "display_data"
    }
   ],
   "source": [
    "df_drogas.iplot(kind='line', xTitle='Años',\n",
    "                   yTitle='Edades',\n",
    "                   title='Hombres que mueren por uso de droga')"
   ]
  }
 ],
 "metadata": {
  "kernelspec": {
   "display_name": "Python m2_env",
   "language": "python",
   "name": "m2_env"
  },
  "language_info": {
   "codemirror_mode": {
    "name": "ipython",
    "version": 3
   },
   "file_extension": ".py",
   "mimetype": "text/x-python",
   "name": "python",
   "nbconvert_exporter": "python",
   "pygments_lexer": "ipython3",
   "version": "3.8.18"
  }
 },
 "nbformat": 4,
 "nbformat_minor": 2
}
